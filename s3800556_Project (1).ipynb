{
 "cells": [
  {
   "cell_type": "markdown",
   "metadata": {},
   "source": [
    "Group Name- Group 112 Sal\n",
    "\n",
    "Name- Saloni Chawla(s3800556), Rohit Gupta(s3798988)"
   ]
  },
  {
   "cell_type": "markdown",
   "metadata": {},
   "source": [
    "# Predicting Heart Disease"
   ]
  },
  {
   "cell_type": "markdown",
   "metadata": {},
   "source": [
    "The objective of this project is to build a model to anticipate whether an individual will be determined to have a heart disease or not. It is based on the pattern extracted from analysing 13 descriptive features found in Heart Disease data set from UCI Machine Learning Repository . Hence we will use this data to create models to predict \n",
    "\n",
    "The UCI Machine Learning Repository provides four databases linked to the above source namely, Cleveland, Hungary, Switzerland and the VA Long Beach with 76 attributes. Out of these 4 sets Cleveland data set was the benchmark for many researchers as it is more robust and easy to use compared to other 3. Out of 76 attributes 14 were selected as many of them repeat similar information and some attributes are not related with target attribute. The Cleveland database file has been processed and used in this project. "
   ]
  },
  {
   "cell_type": "markdown",
   "metadata": {},
   "source": [
    "This report is organized as follows:\n",
    "- [Section 2 (Overview)](#2) outlines our methodology. \n",
    "- [Section 3 (Data Preparation)](#3) summarizes the data preparation process and our model evaluation strategy. \n",
    "- [Section 4 (Data Exploration)](#4) Univariate, Bivariate and Trivariate relationships explored.\n",
    "- [Section 5 (Data Modelling)](#5) presents model performance comparison results.\n",
    "- [Section 6 (Model Comparison)](#6) Compares all the models built in Data Modelling on Test data \n",
    "- [Section 7 (Limitations)](#7) discusses a limitations of our approach and possible solutions. \n",
    "- [Section 8 (Summary)](#8) provides a brief summary of our work in this project.\n",
    "- [Section 9 (References)](#9) Gives the source and references of data.\n",
    "\n"
   ]
  },
  {
   "cell_type": "markdown",
   "metadata": {},
   "source": [
    "# Overview <a class=\"anchor\" id=\"2\"></a> \n",
    "\n",
    "### Methodology\n",
    "\n"
   ]
  },
  {
   "cell_type": "markdown",
   "metadata": {},
   "source": [
    "In our dataset, 13 descriptive features named below are used.\n",
    "\n",
    "1. age: Age of the patient\n",
    "2. sex: Sex of the patient\n",
    "3. cp: Chest pain type\n",
    "4. rest_bp: Resting blood pressure-in mm Hg on admission to the hospital\n",
    "5. chol: Serum cholesterol in mg/dl\n",
    "6. fbs: Fasting blood sugar > 120 mg/dl\n",
    "7. restecg: Resting electrocardiographic results\n",
    "8. max_heart_rate: Maximum heart rate achieved\n",
    "9. exang: Exercise induced angina\n",
    "10. oldpeak: ST depression induced by exercise relative to rest\n",
    "11. slope: The slope of the peak exercise ST segment\n",
    "12. ca: Number of major vessels (0-3) colored by flourosopy\n",
    "13. thal: The heart status as retrieved from Thallium test\n",
    "\n",
    "Target Feature: \n",
    "The response feature is num which is given as:\n",
    "\n",
    "Value 0: < 50% diameter narrowing\n",
    "Value 1,2,3,4: > 50% diameter narrowing\n",
    "The num column has values 0,1,2,3,4 where 0 shows no heart disease symptoms whereas 1,2,3,4 show the person has a heart disease. Hence we create a new column which has values “No Heart Disease” for 0 and “Heart Disease” for 1,2,3,4. The target feature has two classes so it is a binary classification problem. To reiterate, The goal is to predict whether a person has heart disease or not.\n",
    " \n",
    "\n",
    "\n",
    "In this project we have used 4 Classification models to predict the presence of a heart disease.\n",
    "1. K-Nearest Neighbours (KNN)\n",
    "2. Decision Tree\n",
    "3. Random Forest\n",
    "4. Gaussian Naive Bayes (NB)\n",
    "\n",
    "First thing we did was to Preprocess the Data to make it fit for Modelling. Hence our first step is Data Cleaning.\n",
    "Next we explore the data to understand the dependence and relations among the descriptive features and the Target Feature. This would also help us to know which features are essential and need to be selected for Data Modeling. Next we have used Pipelines and we have done Feature Selection, Hyperparameter Tuning and Training the model for each of the models stated above. Using feature selection together with hyperparameter search inside a single pipeline we have conducted 5-fold Stratified cross validation to fine tune the hyperparameters of each classifier using Accuracy as the Performance Metric. Looking at the dataset we believe that Accuracy is the best performance metric as in our target feature we identify whether the person has a Heart Disease or not and we don’t want to miss on a patient who is having a heart disease but goes undetected (false negative) or if a persont not having heart disease is detected as having one. Also, looking at the target feature, 160 cases do not show the presence of Heart disease whereas 137 cases show the presence of heart disease out of a total of 297 cases. This shows that there are more number of people in the data set who do not have a heart disease. Stratfication helps in ensuring that we have the same proportion of presence and absence of heart disease.\n",
    "Lastly we apply 5-Fold cross validation on the Test data after selecting the best model for our dataset. We also compare all the models using paired t-test for all the combination of the models. We further analyse the classification report and the confusion Matrix to identify the Best Model."
   ]
  },
  {
   "cell_type": "markdown",
   "metadata": {},
   "source": [
    "# Data Preparation <a class=\"anchor\" id=\"3\"></a> \n",
    "\n",
    "## Loading Dataset\n",
    "\n",
    "The data has missing values in the form of special characters '?' and we use the na_values argument to consider '?' as NAs. \n",
    "For naming consistency with the data dictionary, we purposely skipped the headers and manually renamed the columns.\n",
    "The first five rows of the heart dataset are displayed using head() function."
   ]
  },
  {
   "cell_type": "code",
   "execution_count": 1,
   "metadata": {},
   "outputs": [],
   "source": [
    "import pandas as pd\n",
    "import numpy as np\n",
    "import warnings\n",
    "warnings.filterwarnings(\"ignore\")\n",
    "import io\n",
    "import requests\n",
    "import os, ssl\n",
    "import matplotlib.pyplot as plt\n",
    "import seaborn as sns"
   ]
  },
  {
   "cell_type": "code",
   "execution_count": 2,
   "metadata": {},
   "outputs": [
    {
     "data": {
      "text/html": [
       "<div>\n",
       "<style scoped>\n",
       "    .dataframe tbody tr th:only-of-type {\n",
       "        vertical-align: middle;\n",
       "    }\n",
       "\n",
       "    .dataframe tbody tr th {\n",
       "        vertical-align: top;\n",
       "    }\n",
       "\n",
       "    .dataframe thead th {\n",
       "        text-align: right;\n",
       "    }\n",
       "</style>\n",
       "<table border=\"1\" class=\"dataframe\">\n",
       "  <thead>\n",
       "    <tr style=\"text-align: right;\">\n",
       "      <th></th>\n",
       "      <th>age</th>\n",
       "      <th>sex</th>\n",
       "      <th>cp</th>\n",
       "      <th>rest_bp</th>\n",
       "      <th>chol</th>\n",
       "      <th>fbs</th>\n",
       "      <th>restecg</th>\n",
       "      <th>max_heart_rate</th>\n",
       "      <th>exang</th>\n",
       "      <th>oldpeak</th>\n",
       "      <th>slope</th>\n",
       "      <th>ca</th>\n",
       "      <th>thal</th>\n",
       "      <th>num</th>\n",
       "    </tr>\n",
       "  </thead>\n",
       "  <tbody>\n",
       "    <tr>\n",
       "      <th>0</th>\n",
       "      <td>63.0</td>\n",
       "      <td>1.0</td>\n",
       "      <td>1.0</td>\n",
       "      <td>145.0</td>\n",
       "      <td>233.0</td>\n",
       "      <td>1.0</td>\n",
       "      <td>2.0</td>\n",
       "      <td>150.0</td>\n",
       "      <td>0.0</td>\n",
       "      <td>2.3</td>\n",
       "      <td>3.0</td>\n",
       "      <td>0.0</td>\n",
       "      <td>6.0</td>\n",
       "      <td>0</td>\n",
       "    </tr>\n",
       "    <tr>\n",
       "      <th>1</th>\n",
       "      <td>67.0</td>\n",
       "      <td>1.0</td>\n",
       "      <td>4.0</td>\n",
       "      <td>160.0</td>\n",
       "      <td>286.0</td>\n",
       "      <td>0.0</td>\n",
       "      <td>2.0</td>\n",
       "      <td>108.0</td>\n",
       "      <td>1.0</td>\n",
       "      <td>1.5</td>\n",
       "      <td>2.0</td>\n",
       "      <td>3.0</td>\n",
       "      <td>3.0</td>\n",
       "      <td>2</td>\n",
       "    </tr>\n",
       "    <tr>\n",
       "      <th>2</th>\n",
       "      <td>67.0</td>\n",
       "      <td>1.0</td>\n",
       "      <td>4.0</td>\n",
       "      <td>120.0</td>\n",
       "      <td>229.0</td>\n",
       "      <td>0.0</td>\n",
       "      <td>2.0</td>\n",
       "      <td>129.0</td>\n",
       "      <td>1.0</td>\n",
       "      <td>2.6</td>\n",
       "      <td>2.0</td>\n",
       "      <td>2.0</td>\n",
       "      <td>7.0</td>\n",
       "      <td>1</td>\n",
       "    </tr>\n",
       "    <tr>\n",
       "      <th>3</th>\n",
       "      <td>37.0</td>\n",
       "      <td>1.0</td>\n",
       "      <td>3.0</td>\n",
       "      <td>130.0</td>\n",
       "      <td>250.0</td>\n",
       "      <td>0.0</td>\n",
       "      <td>0.0</td>\n",
       "      <td>187.0</td>\n",
       "      <td>0.0</td>\n",
       "      <td>3.5</td>\n",
       "      <td>3.0</td>\n",
       "      <td>0.0</td>\n",
       "      <td>3.0</td>\n",
       "      <td>0</td>\n",
       "    </tr>\n",
       "    <tr>\n",
       "      <th>4</th>\n",
       "      <td>41.0</td>\n",
       "      <td>0.0</td>\n",
       "      <td>2.0</td>\n",
       "      <td>130.0</td>\n",
       "      <td>204.0</td>\n",
       "      <td>0.0</td>\n",
       "      <td>2.0</td>\n",
       "      <td>172.0</td>\n",
       "      <td>0.0</td>\n",
       "      <td>1.4</td>\n",
       "      <td>1.0</td>\n",
       "      <td>0.0</td>\n",
       "      <td>3.0</td>\n",
       "      <td>0</td>\n",
       "    </tr>\n",
       "  </tbody>\n",
       "</table>\n",
       "</div>"
      ],
      "text/plain": [
       "    age  sex   cp  rest_bp   chol  fbs  restecg  max_heart_rate  exang  \\\n",
       "0  63.0  1.0  1.0    145.0  233.0  1.0      2.0           150.0    0.0   \n",
       "1  67.0  1.0  4.0    160.0  286.0  0.0      2.0           108.0    1.0   \n",
       "2  67.0  1.0  4.0    120.0  229.0  0.0      2.0           129.0    1.0   \n",
       "3  37.0  1.0  3.0    130.0  250.0  0.0      0.0           187.0    0.0   \n",
       "4  41.0  0.0  2.0    130.0  204.0  0.0      2.0           172.0    0.0   \n",
       "\n",
       "   oldpeak  slope   ca  thal  num  \n",
       "0      2.3    3.0  0.0   6.0    0  \n",
       "1      1.5    2.0  3.0   3.0    2  \n",
       "2      2.6    2.0  2.0   7.0    1  \n",
       "3      3.5    3.0  0.0   3.0    0  \n",
       "4      1.4    1.0  0.0   3.0    0  "
      ]
     },
     "execution_count": 2,
     "metadata": {},
     "output_type": "execute_result"
    }
   ],
   "source": [
    "df1= pd.read_csv('processed.cleveland.data', sep=',', header = None, names =['age', 'sex', 'cp', 'rest_bp', 'chol', 'fbs', 'restecg',\n",
    "                   'max_heart_rate', 'exang', 'oldpeak', 'slope', 'ca', 'thal', 'num'], encoding='utf-8', na_values = '?')\n",
    "\n",
    "\n",
    "df1.head()"
   ]
  },
  {
   "cell_type": "markdown",
   "metadata": {},
   "source": [
    "### Checking the shape of dataset\n",
    "We check the shape of the dataset to recheck wheather the loaded dataset has the expected number of rows and columns."
   ]
  },
  {
   "cell_type": "code",
   "execution_count": 3,
   "metadata": {},
   "outputs": [
    {
     "data": {
      "text/plain": [
       "(303, 14)"
      ]
     },
     "execution_count": 3,
     "metadata": {},
     "output_type": "execute_result"
    }
   ],
   "source": [
    "df1.shape"
   ]
  },
  {
   "cell_type": "markdown",
   "metadata": {},
   "source": [
    "The structure of the data is checked and it confirms that there are 303 observations with 14 variables."
   ]
  },
  {
   "cell_type": "markdown",
   "metadata": {},
   "source": [
    "### Checking Data Types"
   ]
  },
  {
   "cell_type": "markdown",
   "metadata": {},
   "source": [
    "The below code helps us understand the data types of all columns. Python has automatically converted the numerical values to float."
   ]
  },
  {
   "cell_type": "code",
   "execution_count": 4,
   "metadata": {},
   "outputs": [
    {
     "data": {
      "text/plain": [
       "age               float64\n",
       "sex               float64\n",
       "cp                float64\n",
       "rest_bp           float64\n",
       "chol              float64\n",
       "fbs               float64\n",
       "restecg           float64\n",
       "max_heart_rate    float64\n",
       "exang             float64\n",
       "oldpeak           float64\n",
       "slope             float64\n",
       "ca                float64\n",
       "thal              float64\n",
       "num                 int64\n",
       "dtype: object"
      ]
     },
     "execution_count": 4,
     "metadata": {},
     "output_type": "execute_result"
    }
   ],
   "source": [
    "df1.dtypes"
   ]
  },
  {
   "cell_type": "markdown",
   "metadata": {},
   "source": [
    "### Check for Missing values\n",
    "\n",
    "We check the data for any missing values and we see 4 missing values for column ca and 2 missing values for column thal."
   ]
  },
  {
   "cell_type": "code",
   "execution_count": 5,
   "metadata": {},
   "outputs": [
    {
     "data": {
      "text/plain": [
       "age               0\n",
       "sex               0\n",
       "cp                0\n",
       "rest_bp           0\n",
       "chol              0\n",
       "fbs               0\n",
       "restecg           0\n",
       "max_heart_rate    0\n",
       "exang             0\n",
       "oldpeak           0\n",
       "slope             0\n",
       "ca                4\n",
       "thal              2\n",
       "num               0\n",
       "dtype: int64"
      ]
     },
     "execution_count": 5,
     "metadata": {},
     "output_type": "execute_result"
    }
   ],
   "source": [
    "df1.isna().sum()"
   ]
  },
  {
   "cell_type": "markdown",
   "metadata": {},
   "source": [
    "Since, the number of missing values is < 1% of the total rows, we can exclude these cases as we will not have any loss of information."
   ]
  },
  {
   "cell_type": "code",
   "execution_count": 6,
   "metadata": {},
   "outputs": [
    {
     "name": "stdout",
     "output_type": "stream",
     "text": [
      "[ 0.  3.  2.  1. nan]\n",
      "[ 6.  3.  7. nan]\n"
     ]
    },
    {
     "data": {
      "text/plain": [
       "(297, 14)"
      ]
     },
     "execution_count": 6,
     "metadata": {},
     "output_type": "execute_result"
    }
   ],
   "source": [
    "print(df1['ca'].unique())\n",
    "print(df1['thal'].unique())\n",
    "df1=df1.dropna()\n",
    "\n",
    "df1.shape"
   ]
  },
  {
   "cell_type": "markdown",
   "metadata": {},
   "source": [
    "We again Check for missing values and find none."
   ]
  },
  {
   "cell_type": "code",
   "execution_count": 7,
   "metadata": {},
   "outputs": [
    {
     "data": {
      "text/plain": [
       "age               0\n",
       "sex               0\n",
       "cp                0\n",
       "rest_bp           0\n",
       "chol              0\n",
       "fbs               0\n",
       "restecg           0\n",
       "max_heart_rate    0\n",
       "exang             0\n",
       "oldpeak           0\n",
       "slope             0\n",
       "ca                0\n",
       "thal              0\n",
       "num               0\n",
       "dtype: int64"
      ]
     },
     "execution_count": 7,
     "metadata": {},
     "output_type": "execute_result"
    }
   ],
   "source": [
    "df1.isna().sum()"
   ]
  },
  {
   "cell_type": "code",
   "execution_count": 8,
   "metadata": {},
   "outputs": [
    {
     "data": {
      "text/plain": [
       "(297, 14)"
      ]
     },
     "execution_count": 8,
     "metadata": {},
     "output_type": "execute_result"
    }
   ],
   "source": [
    "df1.shape "
   ]
  },
  {
   "cell_type": "markdown",
   "metadata": {},
   "source": [
    "After treating all the missing values we are left with 297 rows and 14 columns. "
   ]
  },
  {
   "cell_type": "markdown",
   "metadata": {},
   "source": [
    "### Changing Labels\n",
    "\n",
    "We are changing the labels for the categorical columns in the data based on the description provided in the dataset and for the non categorical variables we are changing the data type to int for values where decimal is not required.\n",
    "We do so because we will further do one hot encoding for these categorical columns to make them more meaningful for the Data Modelling Step."
   ]
  },
  {
   "cell_type": "code",
   "execution_count": 9,
   "metadata": {},
   "outputs": [],
   "source": [
    "df_data=df1.copy()\n",
    "df_data['sex'] = df_data['sex'].replace({0: 'Female', 1: 'Male'})\n",
    "\n",
    "df_data['cp'] = df_data['cp'].replace({1: 'Typical Angina', 2: 'Atypical Angina', 3: 'Non-Anginal pain', \n",
    "                                                   4: 'Asymptomatic'})\n",
    "\n",
    "df_data['rest_bp'] = df_data['rest_bp'].astype(int)\n",
    "\n",
    "df_data['chol'] = df_data['chol'].astype(int)\n",
    "\n",
    "df_data['fbs'] = df_data['fbs'].replace({0: 'False', 1: 'True'})\n",
    "\n",
    "df_data['restecg'] = df_data['restecg'].replace({0: 'Normal', 1: 'Abnormality', 2: 'Hypertrophy'})\n",
    "\n",
    "df_data['max_heart_rate'] = df_data['max_heart_rate'].astype(int)\n",
    "\n",
    "df_data['exang'] = df_data['exang'].replace({0: 'No', 1: 'Yes'})\n",
    "\n",
    "df_data['slope'] = df_data['slope'].replace({1: 'Up', 2: 'Flat', 3: 'Down'})\n",
    "\n",
    "df_data['ca'] = df_data['ca'].replace({0: 'No vessel', 1: 'One vessel', 2: 'Two vessel', 3: 'Three vessel'})\n",
    "\n",
    "df_data['thal'] = df_data['thal'].replace({3: 'Normal', 6: 'Fixed Defect', 7: 'Reversable Defect'}) \n",
    "\n",
    "df_data['num']= df_data['num'].replace({0: 'No Heart Disease', 1: 'Heart Disease', 2: 'Heart Disease', 3: 'Heart Disease', 4: 'Heart Disease'})"
   ]
  },
  {
   "cell_type": "markdown",
   "metadata": {},
   "source": [
    "Displaying the first five rows of the reformed dataset."
   ]
  },
  {
   "cell_type": "code",
   "execution_count": 10,
   "metadata": {},
   "outputs": [
    {
     "data": {
      "text/html": [
       "<div>\n",
       "<style scoped>\n",
       "    .dataframe tbody tr th:only-of-type {\n",
       "        vertical-align: middle;\n",
       "    }\n",
       "\n",
       "    .dataframe tbody tr th {\n",
       "        vertical-align: top;\n",
       "    }\n",
       "\n",
       "    .dataframe thead th {\n",
       "        text-align: right;\n",
       "    }\n",
       "</style>\n",
       "<table border=\"1\" class=\"dataframe\">\n",
       "  <thead>\n",
       "    <tr style=\"text-align: right;\">\n",
       "      <th></th>\n",
       "      <th>age</th>\n",
       "      <th>sex</th>\n",
       "      <th>cp</th>\n",
       "      <th>rest_bp</th>\n",
       "      <th>chol</th>\n",
       "      <th>fbs</th>\n",
       "      <th>restecg</th>\n",
       "      <th>max_heart_rate</th>\n",
       "      <th>exang</th>\n",
       "      <th>oldpeak</th>\n",
       "      <th>slope</th>\n",
       "      <th>ca</th>\n",
       "      <th>thal</th>\n",
       "      <th>num</th>\n",
       "    </tr>\n",
       "  </thead>\n",
       "  <tbody>\n",
       "    <tr>\n",
       "      <th>0</th>\n",
       "      <td>63.0</td>\n",
       "      <td>Male</td>\n",
       "      <td>Typical Angina</td>\n",
       "      <td>145</td>\n",
       "      <td>233</td>\n",
       "      <td>True</td>\n",
       "      <td>Hypertrophy</td>\n",
       "      <td>150</td>\n",
       "      <td>No</td>\n",
       "      <td>2.3</td>\n",
       "      <td>Down</td>\n",
       "      <td>No vessel</td>\n",
       "      <td>Fixed Defect</td>\n",
       "      <td>No Heart Disease</td>\n",
       "    </tr>\n",
       "    <tr>\n",
       "      <th>1</th>\n",
       "      <td>67.0</td>\n",
       "      <td>Male</td>\n",
       "      <td>Asymptomatic</td>\n",
       "      <td>160</td>\n",
       "      <td>286</td>\n",
       "      <td>False</td>\n",
       "      <td>Hypertrophy</td>\n",
       "      <td>108</td>\n",
       "      <td>Yes</td>\n",
       "      <td>1.5</td>\n",
       "      <td>Flat</td>\n",
       "      <td>Three vessel</td>\n",
       "      <td>Normal</td>\n",
       "      <td>Heart Disease</td>\n",
       "    </tr>\n",
       "    <tr>\n",
       "      <th>2</th>\n",
       "      <td>67.0</td>\n",
       "      <td>Male</td>\n",
       "      <td>Asymptomatic</td>\n",
       "      <td>120</td>\n",
       "      <td>229</td>\n",
       "      <td>False</td>\n",
       "      <td>Hypertrophy</td>\n",
       "      <td>129</td>\n",
       "      <td>Yes</td>\n",
       "      <td>2.6</td>\n",
       "      <td>Flat</td>\n",
       "      <td>Two vessel</td>\n",
       "      <td>Reversable Defect</td>\n",
       "      <td>Heart Disease</td>\n",
       "    </tr>\n",
       "    <tr>\n",
       "      <th>3</th>\n",
       "      <td>37.0</td>\n",
       "      <td>Male</td>\n",
       "      <td>Non-Anginal pain</td>\n",
       "      <td>130</td>\n",
       "      <td>250</td>\n",
       "      <td>False</td>\n",
       "      <td>Normal</td>\n",
       "      <td>187</td>\n",
       "      <td>No</td>\n",
       "      <td>3.5</td>\n",
       "      <td>Down</td>\n",
       "      <td>No vessel</td>\n",
       "      <td>Normal</td>\n",
       "      <td>No Heart Disease</td>\n",
       "    </tr>\n",
       "    <tr>\n",
       "      <th>4</th>\n",
       "      <td>41.0</td>\n",
       "      <td>Female</td>\n",
       "      <td>Atypical Angina</td>\n",
       "      <td>130</td>\n",
       "      <td>204</td>\n",
       "      <td>False</td>\n",
       "      <td>Hypertrophy</td>\n",
       "      <td>172</td>\n",
       "      <td>No</td>\n",
       "      <td>1.4</td>\n",
       "      <td>Up</td>\n",
       "      <td>No vessel</td>\n",
       "      <td>Normal</td>\n",
       "      <td>No Heart Disease</td>\n",
       "    </tr>\n",
       "  </tbody>\n",
       "</table>\n",
       "</div>"
      ],
      "text/plain": [
       "    age     sex                cp  rest_bp  chol    fbs      restecg  \\\n",
       "0  63.0    Male    Typical Angina      145   233   True  Hypertrophy   \n",
       "1  67.0    Male      Asymptomatic      160   286  False  Hypertrophy   \n",
       "2  67.0    Male      Asymptomatic      120   229  False  Hypertrophy   \n",
       "3  37.0    Male  Non-Anginal pain      130   250  False       Normal   \n",
       "4  41.0  Female   Atypical Angina      130   204  False  Hypertrophy   \n",
       "\n",
       "   max_heart_rate exang  oldpeak slope            ca               thal  \\\n",
       "0             150    No      2.3  Down     No vessel       Fixed Defect   \n",
       "1             108   Yes      1.5  Flat  Three vessel             Normal   \n",
       "2             129   Yes      2.6  Flat    Two vessel  Reversable Defect   \n",
       "3             187    No      3.5  Down     No vessel             Normal   \n",
       "4             172    No      1.4    Up     No vessel             Normal   \n",
       "\n",
       "                num  \n",
       "0  No Heart Disease  \n",
       "1     Heart Disease  \n",
       "2     Heart Disease  \n",
       "3  No Heart Disease  \n",
       "4  No Heart Disease  "
      ]
     },
     "execution_count": 10,
     "metadata": {},
     "output_type": "execute_result"
    }
   ],
   "source": [
    "df_data.head()"
   ]
  },
  {
   "cell_type": "markdown",
   "metadata": {},
   "source": [
    "### Summary Statistics"
   ]
  },
  {
   "cell_type": "markdown",
   "metadata": {},
   "source": [
    "Summary statistics of all the numeric columns are given below. \n",
    "We can note that numeric columns have no impossible values for example minimum and maximum of age variable lies between 29-77 which is possible. Similarly all the other values are resonable and hence we don't have any outliers in the dataset. "
   ]
  },
  {
   "cell_type": "code",
   "execution_count": 11,
   "metadata": {},
   "outputs": [
    {
     "data": {
      "text/html": [
       "<div>\n",
       "<style scoped>\n",
       "    .dataframe tbody tr th:only-of-type {\n",
       "        vertical-align: middle;\n",
       "    }\n",
       "\n",
       "    .dataframe tbody tr th {\n",
       "        vertical-align: top;\n",
       "    }\n",
       "\n",
       "    .dataframe thead th {\n",
       "        text-align: right;\n",
       "    }\n",
       "</style>\n",
       "<table border=\"1\" class=\"dataframe\">\n",
       "  <thead>\n",
       "    <tr style=\"text-align: right;\">\n",
       "      <th></th>\n",
       "      <th>age</th>\n",
       "      <th>rest_bp</th>\n",
       "      <th>chol</th>\n",
       "      <th>max_heart_rate</th>\n",
       "      <th>oldpeak</th>\n",
       "    </tr>\n",
       "  </thead>\n",
       "  <tbody>\n",
       "    <tr>\n",
       "      <th>count</th>\n",
       "      <td>297.00</td>\n",
       "      <td>297.00</td>\n",
       "      <td>297.00</td>\n",
       "      <td>297.00</td>\n",
       "      <td>297.00</td>\n",
       "    </tr>\n",
       "    <tr>\n",
       "      <th>mean</th>\n",
       "      <td>54.54</td>\n",
       "      <td>131.69</td>\n",
       "      <td>247.35</td>\n",
       "      <td>149.60</td>\n",
       "      <td>1.06</td>\n",
       "    </tr>\n",
       "    <tr>\n",
       "      <th>std</th>\n",
       "      <td>9.05</td>\n",
       "      <td>17.76</td>\n",
       "      <td>52.00</td>\n",
       "      <td>22.94</td>\n",
       "      <td>1.17</td>\n",
       "    </tr>\n",
       "    <tr>\n",
       "      <th>min</th>\n",
       "      <td>29.00</td>\n",
       "      <td>94.00</td>\n",
       "      <td>126.00</td>\n",
       "      <td>71.00</td>\n",
       "      <td>0.00</td>\n",
       "    </tr>\n",
       "    <tr>\n",
       "      <th>25%</th>\n",
       "      <td>48.00</td>\n",
       "      <td>120.00</td>\n",
       "      <td>211.00</td>\n",
       "      <td>133.00</td>\n",
       "      <td>0.00</td>\n",
       "    </tr>\n",
       "    <tr>\n",
       "      <th>50%</th>\n",
       "      <td>56.00</td>\n",
       "      <td>130.00</td>\n",
       "      <td>243.00</td>\n",
       "      <td>153.00</td>\n",
       "      <td>0.80</td>\n",
       "    </tr>\n",
       "    <tr>\n",
       "      <th>75%</th>\n",
       "      <td>61.00</td>\n",
       "      <td>140.00</td>\n",
       "      <td>276.00</td>\n",
       "      <td>166.00</td>\n",
       "      <td>1.60</td>\n",
       "    </tr>\n",
       "    <tr>\n",
       "      <th>max</th>\n",
       "      <td>77.00</td>\n",
       "      <td>200.00</td>\n",
       "      <td>564.00</td>\n",
       "      <td>202.00</td>\n",
       "      <td>6.20</td>\n",
       "    </tr>\n",
       "  </tbody>\n",
       "</table>\n",
       "</div>"
      ],
      "text/plain": [
       "          age  rest_bp    chol  max_heart_rate  oldpeak\n",
       "count  297.00   297.00  297.00          297.00   297.00\n",
       "mean    54.54   131.69  247.35          149.60     1.06\n",
       "std      9.05    17.76   52.00           22.94     1.17\n",
       "min     29.00    94.00  126.00           71.00     0.00\n",
       "25%     48.00   120.00  211.00          133.00     0.00\n",
       "50%     56.00   130.00  243.00          153.00     0.80\n",
       "75%     61.00   140.00  276.00          166.00     1.60\n",
       "max     77.00   200.00  564.00          202.00     6.20"
      ]
     },
     "execution_count": 11,
     "metadata": {},
     "output_type": "execute_result"
    }
   ],
   "source": [
    "df_data.describe(include = np.number).round(2)"
   ]
  },
  {
   "cell_type": "markdown",
   "metadata": {},
   "source": [
    "Summary statistics for all the object type columns are given below. We can recheck the count and unique values for each variable for these statistics and the frequency of the maximum occuring class of each variable."
   ]
  },
  {
   "cell_type": "code",
   "execution_count": 12,
   "metadata": {},
   "outputs": [
    {
     "data": {
      "text/html": [
       "<div>\n",
       "<style scoped>\n",
       "    .dataframe tbody tr th:only-of-type {\n",
       "        vertical-align: middle;\n",
       "    }\n",
       "\n",
       "    .dataframe tbody tr th {\n",
       "        vertical-align: top;\n",
       "    }\n",
       "\n",
       "    .dataframe thead th {\n",
       "        text-align: right;\n",
       "    }\n",
       "</style>\n",
       "<table border=\"1\" class=\"dataframe\">\n",
       "  <thead>\n",
       "    <tr style=\"text-align: right;\">\n",
       "      <th></th>\n",
       "      <th>sex</th>\n",
       "      <th>cp</th>\n",
       "      <th>fbs</th>\n",
       "      <th>restecg</th>\n",
       "      <th>exang</th>\n",
       "      <th>slope</th>\n",
       "      <th>ca</th>\n",
       "      <th>thal</th>\n",
       "      <th>num</th>\n",
       "    </tr>\n",
       "  </thead>\n",
       "  <tbody>\n",
       "    <tr>\n",
       "      <th>count</th>\n",
       "      <td>297</td>\n",
       "      <td>297</td>\n",
       "      <td>297</td>\n",
       "      <td>297</td>\n",
       "      <td>297</td>\n",
       "      <td>297</td>\n",
       "      <td>297</td>\n",
       "      <td>297</td>\n",
       "      <td>297</td>\n",
       "    </tr>\n",
       "    <tr>\n",
       "      <th>unique</th>\n",
       "      <td>2</td>\n",
       "      <td>4</td>\n",
       "      <td>2</td>\n",
       "      <td>3</td>\n",
       "      <td>2</td>\n",
       "      <td>3</td>\n",
       "      <td>4</td>\n",
       "      <td>3</td>\n",
       "      <td>2</td>\n",
       "    </tr>\n",
       "    <tr>\n",
       "      <th>top</th>\n",
       "      <td>Male</td>\n",
       "      <td>Asymptomatic</td>\n",
       "      <td>False</td>\n",
       "      <td>Normal</td>\n",
       "      <td>No</td>\n",
       "      <td>Up</td>\n",
       "      <td>No vessel</td>\n",
       "      <td>Normal</td>\n",
       "      <td>No Heart Disease</td>\n",
       "    </tr>\n",
       "    <tr>\n",
       "      <th>freq</th>\n",
       "      <td>201</td>\n",
       "      <td>142</td>\n",
       "      <td>254</td>\n",
       "      <td>147</td>\n",
       "      <td>200</td>\n",
       "      <td>139</td>\n",
       "      <td>174</td>\n",
       "      <td>164</td>\n",
       "      <td>160</td>\n",
       "    </tr>\n",
       "  </tbody>\n",
       "</table>\n",
       "</div>"
      ],
      "text/plain": [
       "         sex            cp    fbs restecg exang slope         ca    thal  \\\n",
       "count    297           297    297     297   297   297        297     297   \n",
       "unique     2             4      2       3     2     3          4       3   \n",
       "top     Male  Asymptomatic  False  Normal    No    Up  No vessel  Normal   \n",
       "freq     201           142    254     147   200   139        174     164   \n",
       "\n",
       "                     num  \n",
       "count                297  \n",
       "unique                 2  \n",
       "top     No Heart Disease  \n",
       "freq                 160  "
      ]
     },
     "execution_count": 12,
     "metadata": {},
     "output_type": "execute_result"
    }
   ],
   "source": [
    "df_data.describe(include = np.object)"
   ]
  },
  {
   "cell_type": "markdown",
   "metadata": {},
   "source": [
    "### Encoding\n",
    "\n",
    "We perform encoding for modelling purpose. We convert all the categorical features (Target and all the descriptive features) to numerical.\n"
   ]
  },
  {
   "cell_type": "markdown",
   "metadata": {},
   "source": [
    "###  Target Feature Encoding"
   ]
  },
  {
   "cell_type": "markdown",
   "metadata": {},
   "source": [
    "We remove the \"num\" feature from the full dataset and call it \"target\".\n",
    "We encode it with 0 and 1 where 0 represents No Heart Disease and 1 flags the person with a Heart Disease. "
   ]
  },
  {
   "cell_type": "code",
   "execution_count": 13,
   "metadata": {},
   "outputs": [
    {
     "data": {
      "text/plain": [
       "No Heart Disease    160\n",
       "Heart Disease       137\n",
       "Name: num, dtype: int64"
      ]
     },
     "execution_count": 13,
     "metadata": {},
     "output_type": "execute_result"
    }
   ],
   "source": [
    "df = df_data.drop(columns='num')\n",
    "target = df_data['num']\n",
    "target.value_counts()"
   ]
  },
  {
   "cell_type": "code",
   "execution_count": 14,
   "metadata": {},
   "outputs": [
    {
     "data": {
      "text/plain": [
       "0    160\n",
       "1    137\n",
       "Name: num, dtype: int64"
      ]
     },
     "execution_count": 14,
     "metadata": {},
     "output_type": "execute_result"
    }
   ],
   "source": [
    "target = target.replace({'No Heart Disease': 0, 'Heart Disease': 1})\n",
    "target.value_counts()"
   ]
  },
  {
   "cell_type": "markdown",
   "metadata": {},
   "source": [
    "###  Encoding Descriptive Features\n",
    "\n",
    "We perform one-hot-encoding for the nominal descriptive features. In the below code, we extract the categorical variables and encoding is done differently for columns with 2 levels and those with more than 2 levels.\n"
   ]
  },
  {
   "cell_type": "code",
   "execution_count": 15,
   "metadata": {},
   "outputs": [],
   "source": [
    "categorical_cols = df.columns[df.dtypes==object].tolist()"
   ]
  },
  {
   "cell_type": "markdown",
   "metadata": {},
   "source": [
    "We again check the data types to ensure our object type columns."
   ]
  },
  {
   "cell_type": "code",
   "execution_count": 16,
   "metadata": {},
   "outputs": [
    {
     "data": {
      "text/plain": [
       "age               float64\n",
       "sex                object\n",
       "cp                 object\n",
       "rest_bp             int32\n",
       "chol                int32\n",
       "fbs                object\n",
       "restecg            object\n",
       "max_heart_rate      int32\n",
       "exang              object\n",
       "oldpeak           float64\n",
       "slope              object\n",
       "ca                 object\n",
       "thal               object\n",
       "dtype: object"
      ]
     },
     "execution_count": 16,
     "metadata": {},
     "output_type": "execute_result"
    }
   ],
   "source": [
    "df.dtypes"
   ]
  },
  {
   "cell_type": "markdown",
   "metadata": {},
   "source": [
    "We use a for loop to create dummies out of variables and we apply our condition where if the columns have only 2 unique values binary encoding can be applied to them and they can be assigned to a single column. "
   ]
  },
  {
   "cell_type": "code",
   "execution_count": 17,
   "metadata": {},
   "outputs": [],
   "source": [
    "for col in categorical_cols:\n",
    "    n = len(df[col].unique())\n",
    "    if (n == 2):\n",
    "        df[col] = pd.get_dummies(df[col], drop_first=True)\n",
    "   \n",
    "# use one-hot-encoding for categorical features with >2 levels\n",
    "df = pd.get_dummies(df)"
   ]
  },
  {
   "cell_type": "markdown",
   "metadata": {},
   "source": [
    "After creating the dummies we again check the shape of the dataset as new columns would be added. "
   ]
  },
  {
   "cell_type": "code",
   "execution_count": 18,
   "metadata": {},
   "outputs": [
    {
     "name": "stdout",
     "output_type": "stream",
     "text": [
      "(297, 25)\n"
     ]
    }
   ],
   "source": [
    "print(df.shape)"
   ]
  },
  {
   "cell_type": "code",
   "execution_count": 19,
   "metadata": {},
   "outputs": [
    {
     "data": {
      "text/html": [
       "<div>\n",
       "<style scoped>\n",
       "    .dataframe tbody tr th:only-of-type {\n",
       "        vertical-align: middle;\n",
       "    }\n",
       "\n",
       "    .dataframe tbody tr th {\n",
       "        vertical-align: top;\n",
       "    }\n",
       "\n",
       "    .dataframe thead th {\n",
       "        text-align: right;\n",
       "    }\n",
       "</style>\n",
       "<table border=\"1\" class=\"dataframe\">\n",
       "  <thead>\n",
       "    <tr style=\"text-align: right;\">\n",
       "      <th></th>\n",
       "      <th>age</th>\n",
       "      <th>sex</th>\n",
       "      <th>rest_bp</th>\n",
       "      <th>chol</th>\n",
       "      <th>fbs</th>\n",
       "      <th>max_heart_rate</th>\n",
       "      <th>exang</th>\n",
       "      <th>oldpeak</th>\n",
       "      <th>cp_Asymptomatic</th>\n",
       "      <th>cp_Atypical Angina</th>\n",
       "      <th>...</th>\n",
       "      <th>slope_Down</th>\n",
       "      <th>slope_Flat</th>\n",
       "      <th>slope_Up</th>\n",
       "      <th>ca_No vessel</th>\n",
       "      <th>ca_One vessel</th>\n",
       "      <th>ca_Three vessel</th>\n",
       "      <th>ca_Two vessel</th>\n",
       "      <th>thal_Fixed Defect</th>\n",
       "      <th>thal_Normal</th>\n",
       "      <th>thal_Reversable Defect</th>\n",
       "    </tr>\n",
       "  </thead>\n",
       "  <tbody>\n",
       "    <tr>\n",
       "      <th>0</th>\n",
       "      <td>63.0</td>\n",
       "      <td>1</td>\n",
       "      <td>145</td>\n",
       "      <td>233</td>\n",
       "      <td>1</td>\n",
       "      <td>150</td>\n",
       "      <td>0</td>\n",
       "      <td>2.3</td>\n",
       "      <td>0</td>\n",
       "      <td>0</td>\n",
       "      <td>...</td>\n",
       "      <td>1</td>\n",
       "      <td>0</td>\n",
       "      <td>0</td>\n",
       "      <td>1</td>\n",
       "      <td>0</td>\n",
       "      <td>0</td>\n",
       "      <td>0</td>\n",
       "      <td>1</td>\n",
       "      <td>0</td>\n",
       "      <td>0</td>\n",
       "    </tr>\n",
       "    <tr>\n",
       "      <th>1</th>\n",
       "      <td>67.0</td>\n",
       "      <td>1</td>\n",
       "      <td>160</td>\n",
       "      <td>286</td>\n",
       "      <td>0</td>\n",
       "      <td>108</td>\n",
       "      <td>1</td>\n",
       "      <td>1.5</td>\n",
       "      <td>1</td>\n",
       "      <td>0</td>\n",
       "      <td>...</td>\n",
       "      <td>0</td>\n",
       "      <td>1</td>\n",
       "      <td>0</td>\n",
       "      <td>0</td>\n",
       "      <td>0</td>\n",
       "      <td>1</td>\n",
       "      <td>0</td>\n",
       "      <td>0</td>\n",
       "      <td>1</td>\n",
       "      <td>0</td>\n",
       "    </tr>\n",
       "    <tr>\n",
       "      <th>2</th>\n",
       "      <td>67.0</td>\n",
       "      <td>1</td>\n",
       "      <td>120</td>\n",
       "      <td>229</td>\n",
       "      <td>0</td>\n",
       "      <td>129</td>\n",
       "      <td>1</td>\n",
       "      <td>2.6</td>\n",
       "      <td>1</td>\n",
       "      <td>0</td>\n",
       "      <td>...</td>\n",
       "      <td>0</td>\n",
       "      <td>1</td>\n",
       "      <td>0</td>\n",
       "      <td>0</td>\n",
       "      <td>0</td>\n",
       "      <td>0</td>\n",
       "      <td>1</td>\n",
       "      <td>0</td>\n",
       "      <td>0</td>\n",
       "      <td>1</td>\n",
       "    </tr>\n",
       "    <tr>\n",
       "      <th>3</th>\n",
       "      <td>37.0</td>\n",
       "      <td>1</td>\n",
       "      <td>130</td>\n",
       "      <td>250</td>\n",
       "      <td>0</td>\n",
       "      <td>187</td>\n",
       "      <td>0</td>\n",
       "      <td>3.5</td>\n",
       "      <td>0</td>\n",
       "      <td>0</td>\n",
       "      <td>...</td>\n",
       "      <td>1</td>\n",
       "      <td>0</td>\n",
       "      <td>0</td>\n",
       "      <td>1</td>\n",
       "      <td>0</td>\n",
       "      <td>0</td>\n",
       "      <td>0</td>\n",
       "      <td>0</td>\n",
       "      <td>1</td>\n",
       "      <td>0</td>\n",
       "    </tr>\n",
       "    <tr>\n",
       "      <th>4</th>\n",
       "      <td>41.0</td>\n",
       "      <td>0</td>\n",
       "      <td>130</td>\n",
       "      <td>204</td>\n",
       "      <td>0</td>\n",
       "      <td>172</td>\n",
       "      <td>0</td>\n",
       "      <td>1.4</td>\n",
       "      <td>0</td>\n",
       "      <td>1</td>\n",
       "      <td>...</td>\n",
       "      <td>0</td>\n",
       "      <td>0</td>\n",
       "      <td>1</td>\n",
       "      <td>1</td>\n",
       "      <td>0</td>\n",
       "      <td>0</td>\n",
       "      <td>0</td>\n",
       "      <td>0</td>\n",
       "      <td>1</td>\n",
       "      <td>0</td>\n",
       "    </tr>\n",
       "  </tbody>\n",
       "</table>\n",
       "<p>5 rows × 25 columns</p>\n",
       "</div>"
      ],
      "text/plain": [
       "    age  sex  rest_bp  chol  fbs  max_heart_rate  exang  oldpeak  \\\n",
       "0  63.0    1      145   233    1             150      0      2.3   \n",
       "1  67.0    1      160   286    0             108      1      1.5   \n",
       "2  67.0    1      120   229    0             129      1      2.6   \n",
       "3  37.0    1      130   250    0             187      0      3.5   \n",
       "4  41.0    0      130   204    0             172      0      1.4   \n",
       "\n",
       "   cp_Asymptomatic  cp_Atypical Angina  ...  slope_Down  slope_Flat  slope_Up  \\\n",
       "0                0                   0  ...           1           0         0   \n",
       "1                1                   0  ...           0           1         0   \n",
       "2                1                   0  ...           0           1         0   \n",
       "3                0                   0  ...           1           0         0   \n",
       "4                0                   1  ...           0           0         1   \n",
       "\n",
       "   ca_No vessel  ca_One vessel  ca_Three vessel  ca_Two vessel  \\\n",
       "0             1              0                0              0   \n",
       "1             0              0                1              0   \n",
       "2             0              0                0              1   \n",
       "3             1              0                0              0   \n",
       "4             1              0                0              0   \n",
       "\n",
       "   thal_Fixed Defect  thal_Normal  thal_Reversable Defect  \n",
       "0                  1            0                       0  \n",
       "1                  0            1                       0  \n",
       "2                  0            0                       1  \n",
       "3                  0            1                       0  \n",
       "4                  0            1                       0  \n",
       "\n",
       "[5 rows x 25 columns]"
      ]
     },
     "execution_count": 19,
     "metadata": {},
     "output_type": "execute_result"
    }
   ],
   "source": [
    "df.head()"
   ]
  },
  {
   "cell_type": "markdown",
   "metadata": {},
   "source": [
    "We display the names of all the columns to see the names of new set of columns after encoding."
   ]
  },
  {
   "cell_type": "code",
   "execution_count": 20,
   "metadata": {},
   "outputs": [
    {
     "data": {
      "text/plain": [
       "Index(['age', 'sex', 'rest_bp', 'chol', 'fbs', 'max_heart_rate', 'exang',\n",
       "       'oldpeak', 'cp_Asymptomatic', 'cp_Atypical Angina',\n",
       "       'cp_Non-Anginal pain', 'cp_Typical Angina', 'restecg_Abnormality',\n",
       "       'restecg_Hypertrophy', 'restecg_Normal', 'slope_Down', 'slope_Flat',\n",
       "       'slope_Up', 'ca_No vessel', 'ca_One vessel', 'ca_Three vessel',\n",
       "       'ca_Two vessel', 'thal_Fixed Defect', 'thal_Normal',\n",
       "       'thal_Reversable Defect'],\n",
       "      dtype='object')"
      ]
     },
     "execution_count": 20,
     "metadata": {},
     "output_type": "execute_result"
    }
   ],
   "source": [
    "df.columns"
   ]
  },
  {
   "cell_type": "markdown",
   "metadata": {},
   "source": [
    "# Data Exploration <a class=\"anchor\" id=\"4\"></a> "
   ]
  },
  {
   "cell_type": "markdown",
   "metadata": {},
   "source": [
    "## Univariate Visualisation"
   ]
  },
  {
   "cell_type": "markdown",
   "metadata": {},
   "source": [
    "####  Plot for Target Variable\n",
    "The plot for target variable shows that we have more number of people with no heart disease but there is not a huge difference in the numbers. The number of people who don't have a heart disease are 160 whreas the number of people who have heart disease are 137."
   ]
  },
  {
   "cell_type": "code",
   "execution_count": 21,
   "metadata": {},
   "outputs": [
    {
     "data": {
      "text/plain": [
       "Text(0.5, 0, 'Number of people')"
      ]
     },
     "execution_count": 21,
     "metadata": {},
     "output_type": "execute_result"
    },
    {
     "data": {
      "image/png": "[encoded data removed]",
      "text/plain": [
       "<Figure size 432x288 with 1 Axes>"
      ]
     },
     "metadata": {
      "needs_background": "light"
     },
     "output_type": "display_data"
    }
   ],
   "source": [
    "target.plot.hist()\n",
    "plt.title('Number of people having heart diseases')\n",
    "plt.ylabel('count')\n",
    "plt.xlabel('Number of people')"
   ]
  },
  {
   "cell_type": "markdown",
   "metadata": {},
   "source": [
    "####  Plot for Maximum Heart Rate\n",
    "The histogram for Maximum Heart Rate is left skewed showing that majority of people had a high heart rate."
   ]
  },
  {
   "cell_type": "code",
   "execution_count": 22,
   "metadata": {},
   "outputs": [
    {
     "data": {
      "text/plain": [
       "Text(0.5, 0, 'Number of people')"
      ]
     },
     "execution_count": 22,
     "metadata": {},
     "output_type": "execute_result"
    },
    {
     "data": {
      "image/png": "[encoded data removed]",
      "text/plain": [
       "<Figure size 432x288 with 1 Axes>"
      ]
     },
     "metadata": {
      "needs_background": "light"
     },
     "output_type": "display_data"
    }
   ],
   "source": [
    "df_data['max_heart_rate'].plot.hist()\n",
    "plt.title('Maximum Heart Rate among the people')\n",
    "plt.ylabel('count')\n",
    "plt.xlabel('Number of people')"
   ]
  },
  {
   "cell_type": "markdown",
   "metadata": {},
   "source": [
    "#### Plot for different types of Chest Pain\n",
    "The pie plot for different types of chest pain tell us that most people have an Asymptomatic chest pains and Typical Angina pain is the least common among the people who were tested."
   ]
  },
  {
   "cell_type": "code",
   "execution_count": 23,
   "metadata": {},
   "outputs": [
    {
     "data": {
      "text/plain": [
       "Text(0.5, 1.0, 'Different Types of Chest Pain among people')"
      ]
     },
     "execution_count": 23,
     "metadata": {},
     "output_type": "execute_result"
    },
    {
     "data": {
      "image/png": "[encoded data removed]",
      "text/plain": [
       "<Figure size 720x504 with 1 Axes>"
      ]
     },
     "metadata": {},
     "output_type": "display_data"
    }
   ],
   "source": [
    "df_data['cp'].value_counts().plot(kind='pie',figsize=(10,7),autopct='%.2f')\n",
    "plt.title('Different Types of Chest Pain among people')"
   ]
  },
  {
   "cell_type": "markdown",
   "metadata": {},
   "source": [
    "#### Plot for Resting Blood Pressure\n",
    "The histogramgiven below for Resting Blood Pressure is slightly left skewed which indicates that most people have a normal resting blood pressure that lies between 120-140."
   ]
  },
  {
   "cell_type": "code",
   "execution_count": 24,
   "metadata": {},
   "outputs": [
    {
     "data": {
      "text/plain": [
       "Text(0.5, 0, 'Number of people')"
      ]
     },
     "execution_count": 24,
     "metadata": {},
     "output_type": "execute_result"
    },
    {
     "data": {
      "image/png": "[encoded data removed]",
      "text/plain": [
       "<Figure size 432x288 with 1 Axes>"
      ]
     },
     "metadata": {
      "needs_background": "light"
     },
     "output_type": "display_data"
    }
   ],
   "source": [
    "df['rest_bp'].plot.hist()\n",
    "plt.title('Histogram for Resting Blood Pressure')\n",
    "plt.ylabel('count')\n",
    "plt.xlabel('Number of people')"
   ]
  },
  {
   "cell_type": "markdown",
   "metadata": {},
   "source": [
    "#### Plot for Cholestrol\n",
    "The histogram is right skewed which shows that some patients had high level of cholestoral. "
   ]
  },
  {
   "cell_type": "code",
   "execution_count": 25,
   "metadata": {},
   "outputs": [
    {
     "data": {
      "text/plain": [
       "Text(0, 0.5, 'count')"
      ]
     },
     "execution_count": 25,
     "metadata": {},
     "output_type": "execute_result"
    },
    {
     "data": {
      "image/png": "[encoded data removed]",
      "text/plain": [
       "<Figure size 432x288 with 1 Axes>"
      ]
     },
     "metadata": {
      "needs_background": "light"
     },
     "output_type": "display_data"
    }
   ],
   "source": [
    "df['chol'].plot.hist()\n",
    "plt.title('Number of people having heart diseases')\n",
    "plt.ylabel('count')"
   ]
  },
  {
   "cell_type": "markdown",
   "metadata": {},
   "source": [
    "## Bi-variate plots"
   ]
  },
  {
   "cell_type": "markdown",
   "metadata": {},
   "source": [
    "#### Plot shows the people having Heart disease in different Gender\n",
    "The bar plot depicts that the number of males was more than twice to that of females. Also, males were more likely to have a heart disease as compared to females."
   ]
  },
  {
   "cell_type": "code",
   "execution_count": 26,
   "metadata": {},
   "outputs": [
    {
     "data": {
      "text/plain": [
       "Text(0.5, 1.0, 'Bar plot showing Heart Disease in Different Gender')"
      ]
     },
     "execution_count": 26,
     "metadata": {},
     "output_type": "execute_result"
    },
    {
     "data": {
      "image/png": "[encoded data removed]",
      "text/plain": [
       "<Figure size 720x504 with 1 Axes>"
      ]
     },
     "metadata": {
      "needs_background": "light"
     },
     "output_type": "display_data"
    }
   ],
   "source": [
    "pd.crosstab(df_data['sex'],df_data['num']).plot(kind='bar',figsize=(10,7), stacked=False)\n",
    "plt.ylabel('Count',fontweight='bold')\n",
    "plt.xlabel('Sex',fontweight='bold')\n",
    "plt.title('Bar plot showing Heart Disease in Different Gender',fontweight='bold')"
   ]
  },
  {
   "cell_type": "markdown",
   "metadata": {},
   "source": [
    "#### Plot between age and Heart Disease\n",
    "The line chart shows that majority of the patient's age was between 45-65 years. A major difference between the graphs for people with heart disease and people without heart disease is not seen and hence it may not be a major factor to predict a heart disease."
   ]
  },
  {
   "cell_type": "code",
   "execution_count": 27,
   "metadata": {},
   "outputs": [
    {
     "data": {
      "text/plain": [
       "Text(0.5, 1.0, 'Line plot showing Heart Disease in Different Age')"
      ]
     },
     "execution_count": 27,
     "metadata": {},
     "output_type": "execute_result"
    },
    {
     "data": {
      "image/png": "[encoded data removed]",
      "text/plain": [
       "<Figure size 720x504 with 1 Axes>"
      ]
     },
     "metadata": {
      "needs_background": "light"
     },
     "output_type": "display_data"
    }
   ],
   "source": [
    "pd.crosstab(df_data['age'],df_data['num']).plot(kind='line',figsize=(10,7))\n",
    "plt.ylabel('Count',fontweight='bold')\n",
    "plt.xlabel('Age',fontweight='bold')\n",
    "plt.title('Line plot showing Heart Disease in Different Age',fontweight='bold')"
   ]
  },
  {
   "cell_type": "markdown",
   "metadata": {},
   "source": [
    "#### Plot between heart disease and Thalium tests\n",
    "In the bar plot we see that Normal and reversible defect conditions were prominent from the Thallium Test. For people with No Heart Disease the heart status was Normal while the people with Heart disease had reversable defect condition as retrieved from the Thallium test."
   ]
  },
  {
   "cell_type": "code",
   "execution_count": 28,
   "metadata": {},
   "outputs": [
    {
     "data": {
      "text/plain": [
       "Text(0.5, 1.0, 'Bar plot showing Heart Disease in Different Conditions')"
      ]
     },
     "execution_count": 28,
     "metadata": {},
     "output_type": "execute_result"
    },
    {
     "data": {
      "image/png": "[encoded data removed]",
      "text/plain": [
       "<Figure size 720x504 with 1 Axes>"
      ]
     },
     "metadata": {
      "needs_background": "light"
     },
     "output_type": "display_data"
    }
   ],
   "source": [
    "pd.crosstab(df_data['thal'],df_data['num']).plot(kind='bar',figsize=(10,7), stacked=False)\n",
    "plt.ylabel('Count',fontweight='bold')\n",
    "plt.xlabel('Thalium',fontweight='bold')\n",
    "plt.title('Bar plot showing Heart Disease in Different Conditions',fontweight='bold')"
   ]
  },
  {
   "cell_type": "markdown",
   "metadata": {},
   "source": [
    "#### Plot between sex and Chest Pain\n",
    "The given below plot gives us an interesting conclusion that most male have an Asymptomatic Chest pain in women asymptomatic is nearly as common as non anginal chest pain. "
   ]
  },
  {
   "cell_type": "code",
   "execution_count": 29,
   "metadata": {},
   "outputs": [
    {
     "data": {
      "text/plain": [
       "Text(0.5, 1.0, 'Bar plot showing Heart Disease in Different Gender')"
      ]
     },
     "execution_count": 29,
     "metadata": {},
     "output_type": "execute_result"
    },
    {
     "data": {
      "image/png": "[encoded data removed]",
      "text/plain": [
       "<Figure size 720x504 with 1 Axes>"
      ]
     },
     "metadata": {
      "needs_background": "light"
     },
     "output_type": "display_data"
    }
   ],
   "source": [
    "pd.crosstab(df_data['sex'],df_data['cp']).plot(kind='bar',figsize=(10,7), stacked=False)\n",
    "plt.ylabel('Count',fontweight='bold')\n",
    "plt.xlabel('Sex',fontweight='bold')\n",
    "plt.title('Bar plot showing Heart Disease in Different Gender',fontweight='bold')"
   ]
  },
  {
   "cell_type": "markdown",
   "metadata": {},
   "source": [
    "##  Three variable plot"
   ]
  },
  {
   "cell_type": "markdown",
   "metadata": {},
   "source": [
    "### Plot 1:\n",
    "The below given box plot is age by sex and the different conditions found by the Thalium tests conducted on the people. The plot shows that most people have a normal condition but we can say that as the age increases(above 50) fixed defect and Reversible Defect is more common in people. Also, hardly any female have Fixed Defect as a condition of Thallium Tests. "
   ]
  },
  {
   "cell_type": "code",
   "execution_count": 30,
   "metadata": {},
   "outputs": [
    {
     "data": {
      "text/plain": [
       "<matplotlib.legend.Legend at 0x1d4015c2c18>"
      ]
     },
     "execution_count": 30,
     "metadata": {},
     "output_type": "execute_result"
    },
    {
     "data": {
      "image/png": "[encoded data removed]",
      "text/plain": [
       "<Figure size 432x288 with 1 Axes>"
      ]
     },
     "metadata": {
      "needs_background": "light"
     },
     "output_type": "display_data"
    }
   ],
   "source": [
    "sns.boxplot(x='sex',y='age',hue='thal',data=df_data)\n",
    "plt.legend(loc='center left', bbox_to_anchor=(1, 0.5))"
   ]
  },
  {
   "cell_type": "markdown",
   "metadata": {},
   "source": [
    "### Plot 2:\n",
    "\n",
    "The plot for distribution of Cholesterol by exercise Induced Angima and target feature signifying heart disease is plotted. It is seen that high cholesterol levels are associated with a Heart disease and is also seen in cases with both Exercise induced Angima and without Exercise Induced Angima. A difference between the medians for people with and without Heart Disease is seen where Exercise Induced Angima is found. The cases without Exercise induced Angima have very close median values for people with and without Heart Disease."
   ]
  },
  {
   "cell_type": "code",
   "execution_count": 31,
   "metadata": {},
   "outputs": [
    {
     "data": {
      "text/plain": [
       "<matplotlib.legend.Legend at 0x1d401a3d208>"
      ]
     },
     "execution_count": 31,
     "metadata": {},
     "output_type": "execute_result"
    },
    {
     "data": {
      "image/png": "[encoded data removed]",
      "text/plain": [
       "<Figure size 432x288 with 1 Axes>"
      ]
     },
     "metadata": {
      "needs_background": "light"
     },
     "output_type": "display_data"
    }
   ],
   "source": [
    "sns.boxplot(x='exang',y='chol',hue='num',data=df_data)\n",
    "plt.legend(loc='center left', bbox_to_anchor=(1, 0.5))\n"
   ]
  },
  {
   "cell_type": "markdown",
   "metadata": {},
   "source": [
    "### Plot 3\n",
    "\n",
    "If Abnormality is encountered as a result for Resting electrocardiographic test then the person will have a heart disease for sure. If the result is Hypertrophy then people with age greater than 55 years are more probable to have a heart disease. For Normal results, the person can still develop a heart disease but it is more prominent in elder people."
   ]
  },
  {
   "cell_type": "code",
   "execution_count": 32,
   "metadata": {},
   "outputs": [
    {
     "data": {
      "text/plain": [
       "Text(0.5, 0, 'Resting Electrocardiographic Test')"
      ]
     },
     "execution_count": 32,
     "metadata": {},
     "output_type": "execute_result"
    },
    {
     "data": {
      "image/png": "[encoded data removed]",
      "text/plain": [
       "<Figure size 432x288 with 1 Axes>"
      ]
     },
     "metadata": {
      "needs_background": "light"
     },
     "output_type": "display_data"
    }
   ],
   "source": [
    "sns.boxplot(x='restecg',y='age',hue='num',data=df_data)\n",
    "plt.legend(loc='center left', bbox_to_anchor=(1, 0.5))\n",
    "plt.xlabel('Resting Electrocardiographic Test')"
   ]
  },
  {
   "cell_type": "markdown",
   "metadata": {},
   "source": [
    "## Scaling of Features"
   ]
  },
  {
   "cell_type": "markdown",
   "metadata": {},
   "source": [
    "Before we do Data Modelling we need to Scale all the features. We do feature scaling in oreder to bring the range of all the features in one particular range. If the features have a different range it may introduce bian in the predictions.\n",
    "\n",
    "* Before we scale the features we create a copy of the dataset in order to keep track of column names.\n",
    "* We have used Min Max Scalar for the descriptive features."
   ]
  },
  {
   "cell_type": "code",
   "execution_count": 33,
   "metadata": {},
   "outputs": [],
   "source": [
    "from sklearn import preprocessing\n",
    "df_copy = df.copy()"
   ]
  },
  {
   "cell_type": "code",
   "execution_count": 34,
   "metadata": {},
   "outputs": [],
   "source": [
    "Data = preprocessing.MinMaxScaler().fit_transform(df_copy)"
   ]
  },
  {
   "cell_type": "code",
   "execution_count": 35,
   "metadata": {},
   "outputs": [
    {
     "data": {
      "text/html": [
       "<div>\n",
       "<style scoped>\n",
       "    .dataframe tbody tr th:only-of-type {\n",
       "        vertical-align: middle;\n",
       "    }\n",
       "\n",
       "    .dataframe tbody tr th {\n",
       "        vertical-align: top;\n",
       "    }\n",
       "\n",
       "    .dataframe thead th {\n",
       "        text-align: right;\n",
       "    }\n",
       "</style>\n",
       "<table border=\"1\" class=\"dataframe\">\n",
       "  <thead>\n",
       "    <tr style=\"text-align: right;\">\n",
       "      <th></th>\n",
       "      <th>age</th>\n",
       "      <th>sex</th>\n",
       "      <th>rest_bp</th>\n",
       "      <th>chol</th>\n",
       "      <th>fbs</th>\n",
       "      <th>max_heart_rate</th>\n",
       "      <th>exang</th>\n",
       "      <th>oldpeak</th>\n",
       "      <th>cp_Asymptomatic</th>\n",
       "      <th>cp_Atypical Angina</th>\n",
       "      <th>...</th>\n",
       "      <th>slope_Down</th>\n",
       "      <th>slope_Flat</th>\n",
       "      <th>slope_Up</th>\n",
       "      <th>ca_No vessel</th>\n",
       "      <th>ca_One vessel</th>\n",
       "      <th>ca_Three vessel</th>\n",
       "      <th>ca_Two vessel</th>\n",
       "      <th>thal_Fixed Defect</th>\n",
       "      <th>thal_Normal</th>\n",
       "      <th>thal_Reversable Defect</th>\n",
       "    </tr>\n",
       "  </thead>\n",
       "  <tbody>\n",
       "    <tr>\n",
       "      <th>0</th>\n",
       "      <td>0.708333</td>\n",
       "      <td>1.0</td>\n",
       "      <td>0.481132</td>\n",
       "      <td>0.244292</td>\n",
       "      <td>1.0</td>\n",
       "      <td>0.603053</td>\n",
       "      <td>0.0</td>\n",
       "      <td>0.370968</td>\n",
       "      <td>0.0</td>\n",
       "      <td>0.0</td>\n",
       "      <td>...</td>\n",
       "      <td>1.0</td>\n",
       "      <td>0.0</td>\n",
       "      <td>0.0</td>\n",
       "      <td>1.0</td>\n",
       "      <td>0.0</td>\n",
       "      <td>0.0</td>\n",
       "      <td>0.0</td>\n",
       "      <td>1.0</td>\n",
       "      <td>0.0</td>\n",
       "      <td>0.0</td>\n",
       "    </tr>\n",
       "    <tr>\n",
       "      <th>1</th>\n",
       "      <td>0.791667</td>\n",
       "      <td>1.0</td>\n",
       "      <td>0.622642</td>\n",
       "      <td>0.365297</td>\n",
       "      <td>0.0</td>\n",
       "      <td>0.282443</td>\n",
       "      <td>1.0</td>\n",
       "      <td>0.241935</td>\n",
       "      <td>1.0</td>\n",
       "      <td>0.0</td>\n",
       "      <td>...</td>\n",
       "      <td>0.0</td>\n",
       "      <td>1.0</td>\n",
       "      <td>0.0</td>\n",
       "      <td>0.0</td>\n",
       "      <td>0.0</td>\n",
       "      <td>1.0</td>\n",
       "      <td>0.0</td>\n",
       "      <td>0.0</td>\n",
       "      <td>1.0</td>\n",
       "      <td>0.0</td>\n",
       "    </tr>\n",
       "    <tr>\n",
       "      <th>2</th>\n",
       "      <td>0.791667</td>\n",
       "      <td>1.0</td>\n",
       "      <td>0.245283</td>\n",
       "      <td>0.235160</td>\n",
       "      <td>0.0</td>\n",
       "      <td>0.442748</td>\n",
       "      <td>1.0</td>\n",
       "      <td>0.419355</td>\n",
       "      <td>1.0</td>\n",
       "      <td>0.0</td>\n",
       "      <td>...</td>\n",
       "      <td>0.0</td>\n",
       "      <td>1.0</td>\n",
       "      <td>0.0</td>\n",
       "      <td>0.0</td>\n",
       "      <td>0.0</td>\n",
       "      <td>0.0</td>\n",
       "      <td>1.0</td>\n",
       "      <td>0.0</td>\n",
       "      <td>0.0</td>\n",
       "      <td>1.0</td>\n",
       "    </tr>\n",
       "    <tr>\n",
       "      <th>3</th>\n",
       "      <td>0.166667</td>\n",
       "      <td>1.0</td>\n",
       "      <td>0.339623</td>\n",
       "      <td>0.283105</td>\n",
       "      <td>0.0</td>\n",
       "      <td>0.885496</td>\n",
       "      <td>0.0</td>\n",
       "      <td>0.564516</td>\n",
       "      <td>0.0</td>\n",
       "      <td>0.0</td>\n",
       "      <td>...</td>\n",
       "      <td>1.0</td>\n",
       "      <td>0.0</td>\n",
       "      <td>0.0</td>\n",
       "      <td>1.0</td>\n",
       "      <td>0.0</td>\n",
       "      <td>0.0</td>\n",
       "      <td>0.0</td>\n",
       "      <td>0.0</td>\n",
       "      <td>1.0</td>\n",
       "      <td>0.0</td>\n",
       "    </tr>\n",
       "    <tr>\n",
       "      <th>4</th>\n",
       "      <td>0.250000</td>\n",
       "      <td>0.0</td>\n",
       "      <td>0.339623</td>\n",
       "      <td>0.178082</td>\n",
       "      <td>0.0</td>\n",
       "      <td>0.770992</td>\n",
       "      <td>0.0</td>\n",
       "      <td>0.225806</td>\n",
       "      <td>0.0</td>\n",
       "      <td>1.0</td>\n",
       "      <td>...</td>\n",
       "      <td>0.0</td>\n",
       "      <td>0.0</td>\n",
       "      <td>1.0</td>\n",
       "      <td>1.0</td>\n",
       "      <td>0.0</td>\n",
       "      <td>0.0</td>\n",
       "      <td>0.0</td>\n",
       "      <td>0.0</td>\n",
       "      <td>1.0</td>\n",
       "      <td>0.0</td>\n",
       "    </tr>\n",
       "  </tbody>\n",
       "</table>\n",
       "<p>5 rows × 25 columns</p>\n",
       "</div>"
      ],
      "text/plain": [
       "        age  sex   rest_bp      chol  fbs  max_heart_rate  exang   oldpeak  \\\n",
       "0  0.708333  1.0  0.481132  0.244292  1.0        0.603053    0.0  0.370968   \n",
       "1  0.791667  1.0  0.622642  0.365297  0.0        0.282443    1.0  0.241935   \n",
       "2  0.791667  1.0  0.245283  0.235160  0.0        0.442748    1.0  0.419355   \n",
       "3  0.166667  1.0  0.339623  0.283105  0.0        0.885496    0.0  0.564516   \n",
       "4  0.250000  0.0  0.339623  0.178082  0.0        0.770992    0.0  0.225806   \n",
       "\n",
       "   cp_Asymptomatic  cp_Atypical Angina  ...  slope_Down  slope_Flat  slope_Up  \\\n",
       "0              0.0                 0.0  ...         1.0         0.0       0.0   \n",
       "1              1.0                 0.0  ...         0.0         1.0       0.0   \n",
       "2              1.0                 0.0  ...         0.0         1.0       0.0   \n",
       "3              0.0                 0.0  ...         1.0         0.0       0.0   \n",
       "4              0.0                 1.0  ...         0.0         0.0       1.0   \n",
       "\n",
       "   ca_No vessel  ca_One vessel  ca_Three vessel  ca_Two vessel  \\\n",
       "0           1.0            0.0              0.0            0.0   \n",
       "1           0.0            0.0              1.0            0.0   \n",
       "2           0.0            0.0              0.0            1.0   \n",
       "3           1.0            0.0              0.0            0.0   \n",
       "4           1.0            0.0              0.0            0.0   \n",
       "\n",
       "   thal_Fixed Defect  thal_Normal  thal_Reversable Defect  \n",
       "0                1.0          0.0                     0.0  \n",
       "1                0.0          1.0                     0.0  \n",
       "2                0.0          0.0                     1.0  \n",
       "3                0.0          1.0                     0.0  \n",
       "4                0.0          1.0                     0.0  \n",
       "\n",
       "[5 rows x 25 columns]"
      ]
     },
     "execution_count": 35,
     "metadata": {},
     "output_type": "execute_result"
    }
   ],
   "source": [
    "Data1 = pd.DataFrame(Data,columns=df_copy.columns)\n",
    "Data1.head()"
   ]
  },
  {
   "cell_type": "markdown",
   "metadata": {},
   "source": [
    "# Data Modelling <a class=\"anchor\" id=\"5\"></a> "
   ]
  },
  {
   "cell_type": "markdown",
   "metadata": {},
   "source": [
    "The following Steps are carried out before we deploy various classification models for Data Modelling:\n",
    "\n",
    "* First we import all the packages of Scikit Learn that will further be used in data Modelling.\n",
    "* We are mainly going to use Accuracy as the performance metrics, this is because we don’t want to miss on a patient who is having a heart disease but goes undetected (false negative) or if a person not having heart disease is detected as having one.\n",
    "* First we have created a base model using all the descriptive features in our model, moving forward we have explored feature engineering and feature selection to further improve the model.\n",
    "* We have used two methods in Data Modelling:\n",
    "    1. Repeated stratifed cross-validation method.\n",
    "    2. GridSearchCV method"
   ]
  },
  {
   "cell_type": "code",
   "execution_count": 36,
   "metadata": {},
   "outputs": [],
   "source": [
    "from sklearn.model_selection import cross_val_score, RepeatedStratifiedKFold, GridSearchCV\n",
    "import sklearn.metrics as metrics\n",
    "from sklearn.ensemble import RandomForestClassifier\n",
    "from sklearn import preprocessing\n",
    "from sklearn import feature_selection as fs\n",
    "from sklearn.neighbors import KNeighborsClassifier"
   ]
  },
  {
   "cell_type": "markdown",
   "metadata": {},
   "source": [
    "* all descriptive features"
   ]
  },
  {
   "cell_type": "code",
   "execution_count": 37,
   "metadata": {},
   "outputs": [],
   "source": [
    "clf = KNeighborsClassifier(n_neighbors=3)\n",
    "\n",
    "cv_method = RepeatedStratifiedKFold(n_splits=5, \n",
    "                                     n_repeats=3,\n",
    "                                     random_state=999)\n",
    "\n",
    "scoring_metric = 'accuracy'\n"
   ]
  },
  {
   "cell_type": "code",
   "execution_count": 38,
   "metadata": {},
   "outputs": [
    {
     "data": {
      "text/plain": [
       "array([0.83333333, 0.81666667, 0.86440678, 0.88135593, 0.79661017,\n",
       "       0.8       , 0.86666667, 0.81355932, 0.83050847, 0.84745763,\n",
       "       0.86666667, 0.86666667, 0.84745763, 0.72881356, 0.91525424])"
      ]
     },
     "execution_count": 38,
     "metadata": {},
     "output_type": "execute_result"
    }
   ],
   "source": [
    "cv_results_full = cross_val_score(estimator=clf,\n",
    "                             X=Data,\n",
    "                             y=target, \n",
    "                             cv=cv_method, \n",
    "                             scoring=scoring_metric)\n",
    "cv_results_full"
   ]
  },
  {
   "cell_type": "code",
   "execution_count": 39,
   "metadata": {},
   "outputs": [
    {
     "data": {
      "text/plain": [
       "0.838"
      ]
     },
     "execution_count": 39,
     "metadata": {},
     "output_type": "execute_result"
    }
   ],
   "source": [
    "cv_results_full.mean().round(3)"
   ]
  },
  {
   "cell_type": "markdown",
   "metadata": {},
   "source": [
    "We see that we get an accuracy of 82.4% using all the descriptive features."
   ]
  },
  {
   "cell_type": "code",
   "execution_count": 40,
   "metadata": {},
   "outputs": [],
   "source": [
    "#!pip install --upgrade altair\n",
    "\n",
    "#!pip install vega vega_datasets"
   ]
  },
  {
   "cell_type": "code",
   "execution_count": 41,
   "metadata": {},
   "outputs": [
    {
     "data": {
      "text/plain": [
       "RendererRegistry.enable('html')"
      ]
     },
     "execution_count": 41,
     "metadata": {},
     "output_type": "execute_result"
    }
   ],
   "source": [
    "import altair as alt\n",
    "alt.renderers.enable('html')\n"
   ]
  },
  {
   "cell_type": "markdown",
   "metadata": {},
   "source": [
    "## Train-Test Split (Hold Out Sampling)"
   ]
  },
  {
   "cell_type": "markdown",
   "metadata": {},
   "source": [
    "We use the standard split of 70:30 ratio to split the Data into Train and Test Split with stratification to preserve the Target ratio in the split."
   ]
  },
  {
   "cell_type": "code",
   "execution_count": 42,
   "metadata": {},
   "outputs": [],
   "source": [
    "from sklearn.model_selection import train_test_split\n",
    "\n",
    "D_train, D_test, t_train, t_test = \\\n",
    "    train_test_split(Data, target, test_size = 0.3, \n",
    "                     stratify=target, shuffle=True, random_state=999)"
   ]
  },
  {
   "cell_type": "code",
   "execution_count": 43,
   "metadata": {},
   "outputs": [
    {
     "name": "stdout",
     "output_type": "stream",
     "text": [
      "(207, 25)\n",
      "(90, 25)\n"
     ]
    }
   ],
   "source": [
    "print(D_train.shape)\n",
    "print(D_test.shape)"
   ]
  },
  {
   "cell_type": "markdown",
   "metadata": {},
   "source": [
    "### Cross Validation"
   ]
  },
  {
   "cell_type": "markdown",
   "metadata": {},
   "source": [
    "* Since the Dataset is not a large one we use the Repeated Strtified K-Fold method for Cross validation.\n",
    "* n_splits- It partitions the dataset into k number of folds where each of the chunks is used for testing and rest is used to train the data. \n",
    "* n_repeats- It is used to iterate the process n number of times. We have used 3 repeats. This would help the model to overcome the problem of overfitting and underfitting.\n",
    "* we use Statified k-fold to preserve the proportion of target levels in the split dataset which would further help reduce the bias or variance in the model. \n"
   ]
  },
  {
   "cell_type": "code",
   "execution_count": 44,
   "metadata": {},
   "outputs": [],
   "source": [
    "from sklearn.model_selection import RepeatedStratifiedKFold\n",
    "\n",
    "cv_method = RepeatedStratifiedKFold(n_splits=5, \n",
    "                                    n_repeats=3, \n",
    "                                    random_state=999)"
   ]
  },
  {
   "cell_type": "markdown",
   "metadata": {},
   "source": [
    "### GridSearchCV\n",
    "\n",
    "* We have also used a method called GridSearchCV in our model. We use this method as it builds multiple models of a particular classifier on the stated parameters.This is Hyperparameter Tuning, it enables us to train the data on various combinations of parameters which would help to identify the Model with the best parameters.\n",
    "\n"
   ]
  },
  {
   "cell_type": "markdown",
   "metadata": {},
   "source": [
    "### Feature Selection and Ranking"
   ]
  },
  {
   "cell_type": "markdown",
   "metadata": {},
   "source": [
    "Random Forest Importance (RFI) is a Machine Learning method which gives good accuracy, robustness and ease of use. It has the following features:\n",
    "\n",
    "1. how much the accuracy decreases when a variable is excluded and the decrease in gini impurity when the variable is chosen to split a node.\n",
    "2. It is comparatively faster than other feature selection techniques.\n",
    "\n",
    "Random Forest Importance selects best number of features in the dataset according to its importance realtive to the target variable. We are introducing random forest importance during the hyperparameter tuning phase to get the best combination of classifier and number of features."
   ]
  },
  {
   "cell_type": "markdown",
   "metadata": {},
   "source": [
    "# Hyperparameter Tuning"
   ]
  },
  {
   "cell_type": "markdown",
   "metadata": {},
   "source": [
    "## K-Nearest Neighbours (KNN)"
   ]
  },
  {
   "cell_type": "markdown",
   "metadata": {},
   "source": [
    "* Feature selection and KNN hyperparameter tuning is done via cross validation and GridSearchCV using Pipeline feature.\n",
    "\n",
    "* The hyperparameters for KNN are:\n",
    "    1. Number of nearest neighbours- we have considered multiple values for nearest neighbours\n",
    "    2. Distance metric p- we have used different distance metric.\n",
    "    \n",
    "        for p=1 the distance metric is the Manhatten Distance.\n",
    "        \n",
    "        for p=2 the distance metric is the Euclidean Distance.\n",
    "        \n",
    "        for p>3 the distance metric is Minkowski Distance.\n",
    "\n",
    "* We further use the Random Forest Importance(RFI) method with 100 estimators to perform feature selection.\n"
   ]
  },
  {
   "cell_type": "code",
   "execution_count": 45,
   "metadata": {},
   "outputs": [],
   "source": [
    "from sklearn.base import BaseEstimator, TransformerMixin\n",
    "\n",
    "# custom function for RFI feature selection inside a pipeline\n",
    "# here we use n_estimators=100\n",
    "class RFIFeatureSelector(BaseEstimator, TransformerMixin):\n",
    "    \n",
    "    # class constructor \n",
    "    # make sure class attributes end with a \"_\"\n",
    "    # per scikit-learn convention to avoid errors\n",
    "    def __init__(self, n_features_=10):\n",
    "        self.n_features_ = n_features_\n",
    "        self.fs_indices_ = None\n",
    "\n",
    "    # override the fit function\n",
    "    def fit(self, X, y):\n",
    "        from sklearn.ensemble import RandomForestClassifier\n",
    "        from numpy import argsort\n",
    "        model_rfi = RandomForestClassifier(n_estimators=100)\n",
    "        model_rfi.fit(X, y)\n",
    "        self.fs_indices_ = argsort(model_rfi.feature_importances_)[::-1][0:self.n_features_] \n",
    "        return self \n",
    "    \n",
    "    # override the transform function\n",
    "    def transform(self, X, y=None):\n",
    "        return X[:, self.fs_indices_]"
   ]
  },
  {
   "cell_type": "code",
   "execution_count": 46,
   "metadata": {},
   "outputs": [],
   "source": [
    "from sklearn.pipeline import Pipeline\n",
    "from sklearn.neighbors import KNeighborsClassifier\n",
    "\n",
    "pipe_KNN = Pipeline(steps=[('rfi_fs', RFIFeatureSelector()), \n",
    "                           ('knn', KNeighborsClassifier())])\n",
    "\n",
    "params_pipe_KNN = {'rfi_fs__n_features_': [10, 15, 20, 25, Data.shape[1]],\n",
    "                   'knn__n_neighbors': [1,20,30,40,50,60],\n",
    "                   'knn__p': [1, 2, 3, 4]}\n",
    "\n",
    "gs_pipe_KNN = GridSearchCV(estimator=pipe_KNN, \n",
    "                           param_grid=params_pipe_KNN, \n",
    "                           cv=cv_method,\n",
    "                           refit=True,\n",
    "                           n_jobs=-2,\n",
    "                           scoring='accuracy',\n",
    "                           verbose=1) "
   ]
  },
  {
   "cell_type": "code",
   "execution_count": 47,
   "metadata": {},
   "outputs": [
    {
     "name": "stdout",
     "output_type": "stream",
     "text": [
      "Fitting 15 folds for each of 120 candidates, totalling 1800 fits\n"
     ]
    },
    {
     "name": "stderr",
     "output_type": "stream",
     "text": [
      "[Parallel(n_jobs=-2)]: Using backend LokyBackend with 11 concurrent workers.\n",
      "[Parallel(n_jobs=-2)]: Done  28 tasks      | elapsed:    4.6s\n",
      "[Parallel(n_jobs=-2)]: Done 178 tasks      | elapsed:   10.1s\n",
      "[Parallel(n_jobs=-2)]: Done 428 tasks      | elapsed:   20.6s\n",
      "[Parallel(n_jobs=-2)]: Done 778 tasks      | elapsed:   34.1s\n",
      "[Parallel(n_jobs=-2)]: Done 1228 tasks      | elapsed:   54.1s\n",
      "[Parallel(n_jobs=-2)]: Done 1778 tasks      | elapsed:  1.3min\n",
      "[Parallel(n_jobs=-2)]: Done 1800 out of 1800 | elapsed:  1.3min finished\n"
     ]
    }
   ],
   "source": [
    "gs_pipe_KNN.fit(D_train, t_train);"
   ]
  },
  {
   "cell_type": "code",
   "execution_count": 48,
   "metadata": {},
   "outputs": [
    {
     "data": {
      "text/plain": [
       "{'knn__n_neighbors': 50, 'knn__p': 3, 'rfi_fs__n_features_': 20}"
      ]
     },
     "execution_count": 48,
     "metadata": {},
     "output_type": "execute_result"
    }
   ],
   "source": [
    "gs_pipe_KNN.best_params_\n"
   ]
  },
  {
   "cell_type": "code",
   "execution_count": 49,
   "metadata": {
    "scrolled": true
   },
   "outputs": [
    {
     "data": {
      "text/plain": [
       "0.8661246612466125"
      ]
     },
     "execution_count": 49,
     "metadata": {},
     "output_type": "execute_result"
    }
   ],
   "source": [
    "gs_pipe_KNN.best_score_\n"
   ]
  },
  {
   "cell_type": "markdown",
   "metadata": {},
   "source": [
    "* We get a mean accuracy of 85.5% for the optimal KNN model. \n",
    "* The best parametric values for the optimal model is \n",
    "    1. number of neighbours= 50, distance metric= 4 (Minkowski Distance), number of features=20"
   ]
  },
  {
   "cell_type": "code",
   "execution_count": 50,
   "metadata": {},
   "outputs": [],
   "source": [
    "# custom function to format the search results as a Pandas data frame\n",
    "def get_search_results(gs):\n",
    "\n",
    "    def model_result(scores, params):\n",
    "        scores = {'mean_score': np.mean(scores),\n",
    "             'std_score': np.std(scores),\n",
    "             'min_score': np.min(scores),\n",
    "             'max_score': np.max(scores)}\n",
    "        return pd.Series({**params,**scores})\n",
    "\n",
    "    models = []\n",
    "    scores = []\n",
    "\n",
    "    for i in range(gs.n_splits_):\n",
    "        key = f\"split{i}_test_score\"\n",
    "        r = gs.cv_results_[key]        \n",
    "        scores.append(r.reshape(-1,1))\n",
    "\n",
    "    all_scores = np.hstack(scores)\n",
    "    for p, s in zip(gs.cv_results_['params'], all_scores):\n",
    "        models.append((model_result(s, p)))\n",
    "\n",
    "    pipe_results = pd.concat(models, axis=1).T.sort_values(['mean_score'], ascending=False)\n",
    "\n",
    "    columns_first = ['mean_score', 'std_score', 'max_score', 'min_score']\n",
    "    columns = columns_first + [c for c in pipe_results.columns if c not in columns_first]\n",
    "\n",
    "    return pipe_results[columns]"
   ]
  },
  {
   "cell_type": "markdown",
   "metadata": {},
   "source": [
    "The below code, shows us results on different values of the parameters."
   ]
  },
  {
   "cell_type": "code",
   "execution_count": 51,
   "metadata": {},
   "outputs": [
    {
     "data": {
      "text/html": [
       "<div>\n",
       "<style scoped>\n",
       "    .dataframe tbody tr th:only-of-type {\n",
       "        vertical-align: middle;\n",
       "    }\n",
       "\n",
       "    .dataframe tbody tr th {\n",
       "        vertical-align: top;\n",
       "    }\n",
       "\n",
       "    .dataframe thead th {\n",
       "        text-align: right;\n",
       "    }\n",
       "</style>\n",
       "<table border=\"1\" class=\"dataframe\">\n",
       "  <thead>\n",
       "    <tr style=\"text-align: right;\">\n",
       "      <th></th>\n",
       "      <th>mean_score</th>\n",
       "      <th>std_score</th>\n",
       "      <th>max_score</th>\n",
       "      <th>min_score</th>\n",
       "      <th>knn__n_neighbors</th>\n",
       "      <th>knn__p</th>\n",
       "      <th>rfi_fs__n_features_</th>\n",
       "    </tr>\n",
       "  </thead>\n",
       "  <tbody>\n",
       "    <tr>\n",
       "      <th>92</th>\n",
       "      <td>0.866125</td>\n",
       "      <td>0.046569</td>\n",
       "      <td>0.928571</td>\n",
       "      <td>0.756098</td>\n",
       "      <td>50.0</td>\n",
       "      <td>3.0</td>\n",
       "      <td>20.0</td>\n",
       "    </tr>\n",
       "    <tr>\n",
       "      <th>97</th>\n",
       "      <td>0.861324</td>\n",
       "      <td>0.048755</td>\n",
       "      <td>0.951220</td>\n",
       "      <td>0.756098</td>\n",
       "      <td>50.0</td>\n",
       "      <td>4.0</td>\n",
       "      <td>20.0</td>\n",
       "    </tr>\n",
       "    <tr>\n",
       "      <th>69</th>\n",
       "      <td>0.861285</td>\n",
       "      <td>0.058368</td>\n",
       "      <td>0.951220</td>\n",
       "      <td>0.731707</td>\n",
       "      <td>40.0</td>\n",
       "      <td>2.0</td>\n",
       "      <td>25.0</td>\n",
       "    </tr>\n",
       "    <tr>\n",
       "      <th>68</th>\n",
       "      <td>0.861285</td>\n",
       "      <td>0.058368</td>\n",
       "      <td>0.951220</td>\n",
       "      <td>0.731707</td>\n",
       "      <td>40.0</td>\n",
       "      <td>2.0</td>\n",
       "      <td>25.0</td>\n",
       "    </tr>\n",
       "    <tr>\n",
       "      <th>57</th>\n",
       "      <td>0.859775</td>\n",
       "      <td>0.052209</td>\n",
       "      <td>0.926829</td>\n",
       "      <td>0.731707</td>\n",
       "      <td>30.0</td>\n",
       "      <td>4.0</td>\n",
       "      <td>20.0</td>\n",
       "    </tr>\n",
       "  </tbody>\n",
       "</table>\n",
       "</div>"
      ],
      "text/plain": [
       "    mean_score  std_score  max_score  min_score  knn__n_neighbors  knn__p  \\\n",
       "92    0.866125   0.046569   0.928571   0.756098              50.0     3.0   \n",
       "97    0.861324   0.048755   0.951220   0.756098              50.0     4.0   \n",
       "69    0.861285   0.058368   0.951220   0.731707              40.0     2.0   \n",
       "68    0.861285   0.058368   0.951220   0.731707              40.0     2.0   \n",
       "57    0.859775   0.052209   0.926829   0.731707              30.0     4.0   \n",
       "\n",
       "    rfi_fs__n_features_  \n",
       "92                 20.0  \n",
       "97                 20.0  \n",
       "69                 25.0  \n",
       "68                 25.0  \n",
       "57                 20.0  "
      ]
     },
     "execution_count": 51,
     "metadata": {},
     "output_type": "execute_result"
    }
   ],
   "source": [
    "results_KNN = get_search_results(gs_pipe_KNN)\n",
    "results_KNN.head()"
   ]
  },
  {
   "cell_type": "markdown",
   "metadata": {},
   "source": [
    "#### Conclusions:\n",
    "    1. We can see above that the top five models are closely related in terms of their accuracy. \n",
    "    2. We can also observe that the top 4 models use 20 features as the optimal number of features. \n",
    "    3. The 4th and the 5th model in terms of higher accuracy use only 30 neighbours and give a result which is approximately as accurate as the top three models."
   ]
  },
  {
   "cell_type": "markdown",
   "metadata": {},
   "source": [
    "In the below code, we try to plot the mean Accuracy value for 20 features selected for p=1, p=2,p=3 and p=4.\n"
   ]
  },
  {
   "cell_type": "code",
   "execution_count": 52,
   "metadata": {},
   "outputs": [
    {
     "data": {
      "text/html": [
       "\n",
       "<div id=\"altair-viz-a6aaff18dd674d1b8c720da296cb94a1\"></div>\n",
       "<script type=\"text/javascript\">\n",
       "  (function(spec, embedOpt){\n",
       "    let outputDiv = document.currentScript.previousElementSibling;\n",
       "    if (outputDiv.id !== \"altair-viz-a6aaff18dd674d1b8c720da296cb94a1\") {\n",
       "      outputDiv = document.getElementById(\"altair-viz-a6aaff18dd674d1b8c720da296cb94a1\");\n",
       "    }\n",
       "    const paths = {\n",
       "      \"vega\": \"https://cdn.jsdelivr.net/npm//vega@5?noext\",\n",
       "      \"vega-lib\": \"https://cdn.jsdelivr.net/npm//vega-lib?noext\",\n",
       "      \"vega-lite\": \"https://cdn.jsdelivr.net/npm//vega-lite@4.8.1?noext\",\n",
       "      \"vega-embed\": \"https://cdn.jsdelivr.net/npm//vega-embed@6?noext\",\n",
       "    };\n",
       "\n",
       "    function loadScript(lib) {\n",
       "      return new Promise(function(resolve, reject) {\n",
       "        var s = document.createElement('script');\n",
       "        s.src = paths[lib];\n",
       "        s.async = true;\n",
       "        s.onload = () => resolve(paths[lib]);\n",
       "        s.onerror = () => reject(`Error loading script: ${paths[lib]}`);\n",
       "        document.getElementsByTagName(\"head\")[0].appendChild(s);\n",
       "      });\n",
       "    }\n",
       "\n",
       "    function showError(err) {\n",
       "      outputDiv.innerHTML = `<div class=\"error\" style=\"color:red;\">${err}</div>`;\n",
       "      throw err;\n",
       "    }\n",
       "\n",
       "    function displayChart(vegaEmbed) {\n",
       "      vegaEmbed(outputDiv, spec, embedOpt)\n",
       "        .catch(err => showError(`Javascript Error: ${err.message}<br>This usually means there's a typo in your chart specification. See the javascript console for the full traceback.`));\n",
       "    }\n",
       "\n",
       "    if(typeof define === \"function\" && define.amd) {\n",
       "      requirejs.config({paths});\n",
       "      require([\"vega-embed\"], displayChart, err => showError(`Error loading script: ${err.message}`));\n",
       "    } else if (typeof vegaEmbed === \"function\") {\n",
       "      displayChart(vegaEmbed);\n",
       "    } else {\n",
       "      loadScript(\"vega\")\n",
       "        .then(() => loadScript(\"vega-lite\"))\n",
       "        .then(() => loadScript(\"vega-embed\"))\n",
       "        .catch(showError)\n",
       "        .then(() => displayChart(vegaEmbed));\n",
       "    }\n",
       "  })({\"config\": {\"view\": {\"continuousWidth\": 400, \"continuousHeight\": 300}}, \"data\": {\"name\": \"data-55d274ff1c2d4f227584fef9669c1b7e\"}, \"mark\": {\"type\": \"line\", \"point\": true}, \"encoding\": {\"color\": {\"type\": \"nominal\", \"field\": \"knn__p\", \"title\": \"p\"}, \"x\": {\"type\": \"quantitative\", \"field\": \"knn__n_neighbors\", \"title\": \"Number of Neighbors\"}, \"y\": {\"type\": \"quantitative\", \"field\": \"mean_score\", \"scale\": {\"zero\": false}, \"title\": \"Accuracy\"}}, \"title\": \"KNN Performance Comparison with 20 Features\", \"$schema\": \"https://vega.github.io/schema/vega-lite/v4.8.1.json\", \"datasets\": {\"data-55d274ff1c2d4f227584fef9669c1b7e\": [{\"mean_score\": 0.8661246612466125, \"std_score\": 0.04656871473198517, \"max_score\": 0.9285714285714286, \"min_score\": 0.7560975609756098, \"knn__n_neighbors\": 50.0, \"knn__p\": 3.0, \"rfi_fs__n_features_\": 20.0}, {\"mean_score\": 0.8613240418118467, \"std_score\": 0.04875522454784626, \"max_score\": 0.9512195121951219, \"min_score\": 0.7560975609756098, \"knn__n_neighbors\": 50.0, \"knn__p\": 4.0, \"rfi_fs__n_features_\": 20.0}, {\"mean_score\": 0.8597754548974061, \"std_score\": 0.05220879980292734, \"max_score\": 0.926829268292683, \"min_score\": 0.7317073170731707, \"knn__n_neighbors\": 30.0, \"knn__p\": 4.0, \"rfi_fs__n_features_\": 20.0}, {\"mean_score\": 0.8565234223770809, \"std_score\": 0.05522541898826104, \"max_score\": 0.9285714285714286, \"min_score\": 0.7317073170731707, \"knn__n_neighbors\": 50.0, \"knn__p\": 1.0, \"rfi_fs__n_features_\": 20.0}, {\"mean_score\": 0.8532713898567559, \"std_score\": 0.0453500710001657, \"max_score\": 0.9047619047619048, \"min_score\": 0.7317073170731707, \"knn__n_neighbors\": 60.0, \"knn__p\": 3.0, \"rfi_fs__n_features_\": 20.0}, {\"mean_score\": 0.8517228029423154, \"std_score\": 0.0496704877395832, \"max_score\": 0.926829268292683, \"min_score\": 0.7317073170731707, \"knn__n_neighbors\": 60.0, \"knn__p\": 4.0, \"rfi_fs__n_features_\": 20.0}, {\"mean_score\": 0.8516840882694543, \"std_score\": 0.0473495485212544, \"max_score\": 0.9047619047619048, \"min_score\": 0.7317073170731707, \"knn__n_neighbors\": 50.0, \"knn__p\": 2.0, \"rfi_fs__n_features_\": 20.0}, {\"mean_score\": 0.8516840882694543, \"std_score\": 0.05136700377590268, \"max_score\": 0.926829268292683, \"min_score\": 0.7317073170731707, \"knn__n_neighbors\": 60.0, \"knn__p\": 2.0, \"rfi_fs__n_features_\": 20.0}, {\"mean_score\": 0.8515679442508712, \"std_score\": 0.056720153608018714, \"max_score\": 0.9285714285714286, \"min_score\": 0.7317073170731707, \"knn__n_neighbors\": 60.0, \"knn__p\": 1.0, \"rfi_fs__n_features_\": 20.0}, {\"mean_score\": 0.8501742160278748, \"std_score\": 0.04895898614040711, \"max_score\": 0.926829268292683, \"min_score\": 0.7317073170731707, \"knn__n_neighbors\": 40.0, \"knn__p\": 3.0, \"rfi_fs__n_features_\": 20.0}, {\"mean_score\": 0.8500967866821527, \"std_score\": 0.05446393607670282, \"max_score\": 0.9285714285714286, \"min_score\": 0.7317073170731707, \"knn__n_neighbors\": 30.0, \"knn__p\": 3.0, \"rfi_fs__n_features_\": 20.0}, {\"mean_score\": 0.8485481997677121, \"std_score\": 0.05062253998702649, \"max_score\": 0.926829268292683, \"min_score\": 0.7317073170731707, \"knn__n_neighbors\": 40.0, \"knn__p\": 1.0, \"rfi_fs__n_features_\": 20.0}, {\"mean_score\": 0.845373596593109, \"std_score\": 0.05309423450923691, \"max_score\": 0.926829268292683, \"min_score\": 0.7317073170731707, \"knn__n_neighbors\": 30.0, \"knn__p\": 2.0, \"rfi_fs__n_features_\": 20.0}, {\"mean_score\": 0.8452961672473869, \"std_score\": 0.050262232631857626, \"max_score\": 0.926829268292683, \"min_score\": 0.7317073170731707, \"knn__n_neighbors\": 40.0, \"knn__p\": 2.0, \"rfi_fs__n_features_\": 20.0}, {\"mean_score\": 0.8452574525745259, \"std_score\": 0.0535447299526284, \"max_score\": 0.926829268292683, \"min_score\": 0.7317073170731707, \"knn__n_neighbors\": 30.0, \"knn__p\": 1.0, \"rfi_fs__n_features_\": 20.0}, {\"mean_score\": 0.8437862950058074, \"std_score\": 0.04594030616610872, \"max_score\": 0.926829268292683, \"min_score\": 0.7560975609756098, \"knn__n_neighbors\": 20.0, \"knn__p\": 2.0, \"rfi_fs__n_features_\": 20.0}, {\"mean_score\": 0.8437088656600852, \"std_score\": 0.04063816344954123, \"max_score\": 0.9047619047619048, \"min_score\": 0.7560975609756098, \"knn__n_neighbors\": 40.0, \"knn__p\": 4.0, \"rfi_fs__n_features_\": 20.0}, {\"mean_score\": 0.8421602787456447, \"std_score\": 0.04599371570407157, \"max_score\": 0.926829268292683, \"min_score\": 0.7560975609756098, \"knn__n_neighbors\": 20.0, \"knn__p\": 3.0, \"rfi_fs__n_features_\": 20.0}, {\"mean_score\": 0.8406116918312042, \"std_score\": 0.051993906546775256, \"max_score\": 0.926829268292683, \"min_score\": 0.7560975609756098, \"knn__n_neighbors\": 20.0, \"knn__p\": 4.0, \"rfi_fs__n_features_\": 20.0}, {\"mean_score\": 0.8357336430507163, \"std_score\": 0.04267502075399104, \"max_score\": 0.9024390243902439, \"min_score\": 0.7560975609756098, \"knn__n_neighbors\": 20.0, \"knn__p\": 1.0, \"rfi_fs__n_features_\": 20.0}, {\"mean_score\": 0.7970189701897019, \"std_score\": 0.07030755138711295, \"max_score\": 0.8809523809523809, \"min_score\": 0.6341463414634146, \"knn__n_neighbors\": 1.0, \"knn__p\": 3.0, \"rfi_fs__n_features_\": 20.0}, {\"mean_score\": 0.7888888888888891, \"std_score\": 0.06627468042726639, \"max_score\": 0.9047619047619048, \"min_score\": 0.6341463414634146, \"knn__n_neighbors\": 1.0, \"knn__p\": 4.0, \"rfi_fs__n_features_\": 20.0}, {\"mean_score\": 0.78091366627952, \"std_score\": 0.056540178573726105, \"max_score\": 0.8571428571428571, \"min_score\": 0.6585365853658537, \"knn__n_neighbors\": 1.0, \"knn__p\": 2.0, \"rfi_fs__n_features_\": 20.0}, {\"mean_score\": 0.7793263646922185, \"std_score\": 0.05249615421983844, \"max_score\": 0.8536585365853658, \"min_score\": 0.6829268292682927, \"knn__n_neighbors\": 1.0, \"knn__p\": 1.0, \"rfi_fs__n_features_\": 20.0}]}}, {\"mode\": \"vega-lite\"});\n",
       "</script>"
      ],
      "text/plain": [
       "alt.Chart(...)"
      ]
     },
     "execution_count": 52,
     "metadata": {},
     "output_type": "execute_result"
    }
   ],
   "source": [
    "import altair as alt\n",
    "\n",
    "results_KNN_20_features = results_KNN[results_KNN['rfi_fs__n_features_'] == 20.0]\n",
    "\n",
    "alt.Chart(results_KNN_20_features, \n",
    "          title='KNN Performance Comparison with 20 Features'\n",
    "         ).mark_line(point=True).encode(\n",
    "    alt.X('knn__n_neighbors', title='Number of Neighbors'),\n",
    "    alt.Y('mean_score', title='Accuracy', scale=alt.Scale(zero=False)),\n",
    "    alt.Color('knn__p:N', title='p')\n",
    ")"
   ]
  },
  {
   "cell_type": "markdown",
   "metadata": {},
   "source": [
    "#### Interpretation:\n",
    "* We see that mean Accuracy value is between 0.83 and 0.86 and the highest accuracy goes for 50 nearest neighbours."
   ]
  },
  {
   "cell_type": "markdown",
   "metadata": {},
   "source": [
    "## Gaussian NB"
   ]
  },
  {
   "cell_type": "markdown",
   "metadata": {},
   "source": [
    "* We implement a Gaussian Naive Bayes model. \n",
    "* We optimize var_smoothing (a variant of Laplace smoothing) as we do not have any prior information about our dataset.\n",
    "* By default, the var_smoothing parameter's value is 10−9 . We conduct the grid search in the logspace (over the powers of 10) sourced from NumPy. \n",
    "* We start with 10 and end with 10−3 with 200 different values, but we perform a random search over only 20 different values (for shorter run times). \n",
    "* Since NB requires each descriptive feature to follow a Gaussian distribution, we first perform a power transformation on the input data before model fitting.\n",
    "* We further use the Random Forest Importance(RFI) method with 100 estimators to perform feature selection.\n"
   ]
  },
  {
   "cell_type": "code",
   "execution_count": 53,
   "metadata": {},
   "outputs": [],
   "source": [
    "from sklearn.preprocessing import PowerTransformer\n",
    "Data_sample_train_transformed = PowerTransformer().fit_transform(D_train)"
   ]
  },
  {
   "cell_type": "code",
   "execution_count": 54,
   "metadata": {},
   "outputs": [
    {
     "name": "stdout",
     "output_type": "stream",
     "text": [
      "Fitting 15 folds for each of 20 candidates, totalling 300 fits\n"
     ]
    },
    {
     "name": "stderr",
     "output_type": "stream",
     "text": [
      "[Parallel(n_jobs=-2)]: Using backend LokyBackend with 11 concurrent workers.\n",
      "[Parallel(n_jobs=-2)]: Done  28 tasks      | elapsed:    1.7s\n",
      "[Parallel(n_jobs=-2)]: Done 178 tasks      | elapsed:    8.2s\n",
      "[Parallel(n_jobs=-2)]: Done 300 out of 300 | elapsed:   12.5s finished\n"
     ]
    }
   ],
   "source": [
    "from sklearn.naive_bayes import GaussianNB\n",
    "from sklearn.model_selection import RandomizedSearchCV\n",
    "\n",
    "pipe_NB = Pipeline([('rfi_fs', RFIFeatureSelector()), \n",
    "                     ('nb', GaussianNB())])\n",
    "\n",
    "params_pipe_NB = {'rfi_fs__n_features_': [10, 15, 20, 25, Data.shape[1]],\n",
    "                  'nb__var_smoothing': np.logspace(1,-3, num=200)}\n",
    "\n",
    "n_iter_search = 20\n",
    "gs_pipe_NB = RandomizedSearchCV(estimator=pipe_NB, \n",
    "                          param_distributions=params_pipe_NB, \n",
    "                          cv=cv_method,\n",
    "                          refit=True,\n",
    "                          n_jobs=-2,\n",
    "                          scoring='accuracy',\n",
    "                          n_iter=n_iter_search,\n",
    "                          verbose=1) \n",
    "\n",
    "gs_pipe_NB.fit(Data_sample_train_transformed, t_train);"
   ]
  },
  {
   "cell_type": "code",
   "execution_count": 55,
   "metadata": {},
   "outputs": [
    {
     "data": {
      "text/plain": [
       "{'rfi_fs__n_features_': 15, 'nb__var_smoothing': 0.12898902612533086}"
      ]
     },
     "execution_count": 55,
     "metadata": {},
     "output_type": "execute_result"
    }
   ],
   "source": [
    "gs_pipe_NB.best_params_\n"
   ]
  },
  {
   "cell_type": "code",
   "execution_count": 56,
   "metadata": {},
   "outputs": [
    {
     "data": {
      "text/plain": [
       "0.8358497870692995"
      ]
     },
     "execution_count": 56,
     "metadata": {},
     "output_type": "execute_result"
    }
   ],
   "source": [
    "gs_pipe_NB.best_score_\n"
   ]
  },
  {
   "cell_type": "markdown",
   "metadata": {},
   "source": [
    "The accuracy score for Naive Bayes is 83.7% and the number of features selected for the most optimal model are 15."
   ]
  },
  {
   "cell_type": "code",
   "execution_count": 57,
   "metadata": {},
   "outputs": [
    {
     "data": {
      "text/html": [
       "<div>\n",
       "<style scoped>\n",
       "    .dataframe tbody tr th:only-of-type {\n",
       "        vertical-align: middle;\n",
       "    }\n",
       "\n",
       "    .dataframe tbody tr th {\n",
       "        vertical-align: top;\n",
       "    }\n",
       "\n",
       "    .dataframe thead th {\n",
       "        text-align: right;\n",
       "    }\n",
       "</style>\n",
       "<table border=\"1\" class=\"dataframe\">\n",
       "  <thead>\n",
       "    <tr style=\"text-align: right;\">\n",
       "      <th></th>\n",
       "      <th>mean_score</th>\n",
       "      <th>std_score</th>\n",
       "      <th>max_score</th>\n",
       "      <th>min_score</th>\n",
       "      <th>rfi_fs__n_features_</th>\n",
       "      <th>nb__var_smoothing</th>\n",
       "    </tr>\n",
       "  </thead>\n",
       "  <tbody>\n",
       "    <tr>\n",
       "      <th>0</th>\n",
       "      <td>0.835850</td>\n",
       "      <td>0.053789</td>\n",
       "      <td>0.926829</td>\n",
       "      <td>0.707317</td>\n",
       "      <td>15.0</td>\n",
       "      <td>0.128989</td>\n",
       "    </tr>\n",
       "    <tr>\n",
       "      <th>7</th>\n",
       "      <td>0.835734</td>\n",
       "      <td>0.048479</td>\n",
       "      <td>0.928571</td>\n",
       "      <td>0.756098</td>\n",
       "      <td>25.0</td>\n",
       "      <td>0.410266</td>\n",
       "    </tr>\n",
       "    <tr>\n",
       "      <th>1</th>\n",
       "      <td>0.832559</td>\n",
       "      <td>0.052495</td>\n",
       "      <td>0.926829</td>\n",
       "      <td>0.731707</td>\n",
       "      <td>25.0</td>\n",
       "      <td>0.622257</td>\n",
       "    </tr>\n",
       "    <tr>\n",
       "      <th>16</th>\n",
       "      <td>0.832520</td>\n",
       "      <td>0.052567</td>\n",
       "      <td>0.928571</td>\n",
       "      <td>0.756098</td>\n",
       "      <td>25.0</td>\n",
       "      <td>0.186791</td>\n",
       "    </tr>\n",
       "    <tr>\n",
       "      <th>11</th>\n",
       "      <td>0.830856</td>\n",
       "      <td>0.055351</td>\n",
       "      <td>0.928571</td>\n",
       "      <td>0.731707</td>\n",
       "      <td>25.0</td>\n",
       "      <td>0.017629</td>\n",
       "    </tr>\n",
       "  </tbody>\n",
       "</table>\n",
       "</div>"
      ],
      "text/plain": [
       "    mean_score  std_score  max_score  min_score  rfi_fs__n_features_  \\\n",
       "0     0.835850   0.053789   0.926829   0.707317                 15.0   \n",
       "7     0.835734   0.048479   0.928571   0.756098                 25.0   \n",
       "1     0.832559   0.052495   0.926829   0.731707                 25.0   \n",
       "16    0.832520   0.052567   0.928571   0.756098                 25.0   \n",
       "11    0.830856   0.055351   0.928571   0.731707                 25.0   \n",
       "\n",
       "    nb__var_smoothing  \n",
       "0            0.128989  \n",
       "7            0.410266  \n",
       "1            0.622257  \n",
       "16           0.186791  \n",
       "11           0.017629  "
      ]
     },
     "execution_count": 57,
     "metadata": {},
     "output_type": "execute_result"
    }
   ],
   "source": [
    "results_NB = get_search_results(gs_pipe_NB)\n",
    "results_NB.head()"
   ]
  },
  {
   "cell_type": "markdown",
   "metadata": {},
   "source": [
    "All the top five models have approximately the same accuracy which is 83%. The top three models use 15 features that give a better accuracy compared to 20 features used in fourth and fivth most optimal model."
   ]
  },
  {
   "cell_type": "markdown",
   "metadata": {},
   "source": [
    "#### Given below is a plot to compare the Naive Bayes performance with 10 features. "
   ]
  },
  {
   "cell_type": "code",
   "execution_count": 58,
   "metadata": {},
   "outputs": [
    {
     "data": {
      "text/html": [
       "\n",
       "<div id=\"altair-viz-8eeeec5ef34749de9e7b1e0984e2a54b\"></div>\n",
       "<script type=\"text/javascript\">\n",
       "  (function(spec, embedOpt){\n",
       "    let outputDiv = document.currentScript.previousElementSibling;\n",
       "    if (outputDiv.id !== \"altair-viz-8eeeec5ef34749de9e7b1e0984e2a54b\") {\n",
       "      outputDiv = document.getElementById(\"altair-viz-8eeeec5ef34749de9e7b1e0984e2a54b\");\n",
       "    }\n",
       "    const paths = {\n",
       "      \"vega\": \"https://cdn.jsdelivr.net/npm//vega@5?noext\",\n",
       "      \"vega-lib\": \"https://cdn.jsdelivr.net/npm//vega-lib?noext\",\n",
       "      \"vega-lite\": \"https://cdn.jsdelivr.net/npm//vega-lite@4.8.1?noext\",\n",
       "      \"vega-embed\": \"https://cdn.jsdelivr.net/npm//vega-embed@6?noext\",\n",
       "    };\n",
       "\n",
       "    function loadScript(lib) {\n",
       "      return new Promise(function(resolve, reject) {\n",
       "        var s = document.createElement('script');\n",
       "        s.src = paths[lib];\n",
       "        s.async = true;\n",
       "        s.onload = () => resolve(paths[lib]);\n",
       "        s.onerror = () => reject(`Error loading script: ${paths[lib]}`);\n",
       "        document.getElementsByTagName(\"head\")[0].appendChild(s);\n",
       "      });\n",
       "    }\n",
       "\n",
       "    function showError(err) {\n",
       "      outputDiv.innerHTML = `<div class=\"error\" style=\"color:red;\">${err}</div>`;\n",
       "      throw err;\n",
       "    }\n",
       "\n",
       "    function displayChart(vegaEmbed) {\n",
       "      vegaEmbed(outputDiv, spec, embedOpt)\n",
       "        .catch(err => showError(`Javascript Error: ${err.message}<br>This usually means there's a typo in your chart specification. See the javascript console for the full traceback.`));\n",
       "    }\n",
       "\n",
       "    if(typeof define === \"function\" && define.amd) {\n",
       "      requirejs.config({paths});\n",
       "      require([\"vega-embed\"], displayChart, err => showError(`Error loading script: ${err.message}`));\n",
       "    } else if (typeof vegaEmbed === \"function\") {\n",
       "      displayChart(vegaEmbed);\n",
       "    } else {\n",
       "      loadScript(\"vega\")\n",
       "        .then(() => loadScript(\"vega-lite\"))\n",
       "        .then(() => loadScript(\"vega-embed\"))\n",
       "        .catch(showError)\n",
       "        .then(() => displayChart(vegaEmbed));\n",
       "    }\n",
       "  })({\"config\": {\"view\": {\"continuousWidth\": 400, \"continuousHeight\": 300}}, \"data\": {\"name\": \"data-6b78e1cf2370dc2f26acd8cf13c56b5f\"}, \"mark\": {\"type\": \"line\", \"point\": true}, \"encoding\": {\"x\": {\"type\": \"quantitative\", \"field\": \"nb__var_smoothing\", \"title\": \"Var. Smoothing\"}, \"y\": {\"type\": \"quantitative\", \"field\": \"mean_score\", \"scale\": {\"zero\": false}, \"title\": \"Accuracy\"}}, \"title\": \"NB Performance Comparison with 15 Features\", \"$schema\": \"https://vega.github.io/schema/vega-lite/v4.8.1.json\", \"datasets\": {\"data-6b78e1cf2370dc2f26acd8cf13c56b5f\": [{\"mean_score\": 0.8358497870692995, \"std_score\": 0.0537888796838478, \"max_score\": 0.926829268292683, \"min_score\": 0.7073170731707317, \"rfi_fs__n_features_\": 15.0, \"nb__var_smoothing\": 0.12898902612533086}, {\"mean_score\": 0.8132404181184669, \"std_score\": 0.05475867160125687, \"max_score\": 0.9024390243902439, \"min_score\": 0.7073170731707317, \"rfi_fs__n_features_\": 15.0, \"nb__var_smoothing\": 0.0020022003718155844}]}}, {\"mode\": \"vega-lite\"});\n",
       "</script>"
      ],
      "text/plain": [
       "alt.Chart(...)"
      ]
     },
     "execution_count": 58,
     "metadata": {},
     "output_type": "execute_result"
    }
   ],
   "source": [
    "results_NB_15_features = results_NB[results_NB['rfi_fs__n_features_'] == 15.0]\n",
    "\n",
    "alt.Chart(results_NB_15_features, \n",
    "          title='NB Performance Comparison with 15 Features'\n",
    "         ).mark_line(point=True).encode(\n",
    "    alt.X('nb__var_smoothing', title='Var. Smoothing'),\n",
    "    alt.Y('mean_score', title='Accuracy', scale=alt.Scale(zero=False))\n",
    ")\n"
   ]
  },
  {
   "cell_type": "markdown",
   "metadata": {},
   "source": [
    "From the above graph we can conclude that the accuracy of the graph suddenly drops when the value of var smoothing is between 0-0.02 and then it gradually increases. Although the maximum accuracy recorded is on the value 0.002. "
   ]
  },
  {
   "cell_type": "markdown",
   "metadata": {},
   "source": [
    "## Decision Tree(DT)"
   ]
  },
  {
   "cell_type": "markdown",
   "metadata": {},
   "source": [
    "* Feature selection and hyperparameter tuning is done via cross validation and GridSearchCV using Pipeline feature.\n",
    "\n",
    "* The hyperparameters for Decision are:\n",
    "    1. Max_Depth- This tells the maximum depth of the decision tree.\n",
    "    2. Minimum samples split- which tells into how many minimum samples we need to split the node. \n",
    "    3. Criterion- Two types are gini(Information Gain) and entropy.\n",
    "\n",
    "* We further use the Random Forest Importance(RFI) method with 100 estimators to perform feature selection.\n",
    "\n"
   ]
  },
  {
   "cell_type": "code",
   "execution_count": 59,
   "metadata": {},
   "outputs": [
    {
     "name": "stdout",
     "output_type": "stream",
     "text": [
      "Fitting 15 folds for each of 120 candidates, totalling 1800 fits\n"
     ]
    },
    {
     "name": "stderr",
     "output_type": "stream",
     "text": [
      "[Parallel(n_jobs=-2)]: Using backend LokyBackend with 11 concurrent workers.\n",
      "[Parallel(n_jobs=-2)]: Done  28 tasks      | elapsed:    1.0s\n",
      "[Parallel(n_jobs=-2)]: Done 178 tasks      | elapsed:    6.9s\n",
      "[Parallel(n_jobs=-2)]: Done 428 tasks      | elapsed:   17.7s\n",
      "[Parallel(n_jobs=-2)]: Done 778 tasks      | elapsed:   32.5s\n",
      "[Parallel(n_jobs=-2)]: Done 1228 tasks      | elapsed:   48.9s\n",
      "[Parallel(n_jobs=-2)]: Done 1778 tasks      | elapsed:  1.2min\n",
      "[Parallel(n_jobs=-2)]: Done 1800 out of 1800 | elapsed:  1.2min finished\n"
     ]
    }
   ],
   "source": [
    "from sklearn.tree import DecisionTreeClassifier\n",
    "\n",
    "pipe_DT = Pipeline([('rfi_fs', RFIFeatureSelector()),\n",
    "                    ('dt', DecisionTreeClassifier(random_state=999))])\n",
    "\n",
    "params_pipe_DT = {'rfi_fs__n_features_': [10, 20, 25, Data.shape[1]],\n",
    "                  'dt__max_depth': [3, 4, 5],\n",
    "                  'dt__min_samples_split': [2, 5, 6,8, 10],\n",
    "                  'dt__criterion': ['gini', 'entropy']}\n",
    "\n",
    "gs_pipe_DT = GridSearchCV(estimator=pipe_DT, \n",
    "                          param_grid=params_pipe_DT, \n",
    "                          cv=cv_method,\n",
    "                          refit=True,\n",
    "                          n_jobs=-2,\n",
    "                          scoring='roc_auc',\n",
    "                          verbose=1) \n",
    "\n",
    "gs_pipe_DT.fit(D_train, t_train);"
   ]
  },
  {
   "cell_type": "code",
   "execution_count": 60,
   "metadata": {},
   "outputs": [
    {
     "data": {
      "text/plain": [
       "{'dt__criterion': 'gini',\n",
       " 'dt__max_depth': 3,\n",
       " 'dt__min_samples_split': 8,\n",
       " 'rfi_fs__n_features_': 25}"
      ]
     },
     "execution_count": 60,
     "metadata": {},
     "output_type": "execute_result"
    }
   ],
   "source": [
    "gs_pipe_DT.best_params_\n"
   ]
  },
  {
   "cell_type": "code",
   "execution_count": 61,
   "metadata": {},
   "outputs": [
    {
     "data": {
      "text/plain": [
       "0.8076416337285903"
      ]
     },
     "execution_count": 61,
     "metadata": {},
     "output_type": "execute_result"
    }
   ],
   "source": [
    "gs_pipe_DT.best_score_\n"
   ]
  },
  {
   "cell_type": "markdown",
   "metadata": {},
   "source": [
    "* We get a mean accuracy of 79.8% for the optimal Decision Tree model. \n",
    "* The best parametric values for the optimal model is \n",
    "    1. Criterion=entropy, Max Depth= 4, Minimum Samples split=10 and the number of features is 20."
   ]
  },
  {
   "cell_type": "code",
   "execution_count": 62,
   "metadata": {},
   "outputs": [
    {
     "data": {
      "text/html": [
       "\n",
       "<div id=\"altair-viz-38bc1f25919d489e95c7e31b227fc128\"></div>\n",
       "<script type=\"text/javascript\">\n",
       "  (function(spec, embedOpt){\n",
       "    let outputDiv = document.currentScript.previousElementSibling;\n",
       "    if (outputDiv.id !== \"altair-viz-38bc1f25919d489e95c7e31b227fc128\") {\n",
       "      outputDiv = document.getElementById(\"altair-viz-38bc1f25919d489e95c7e31b227fc128\");\n",
       "    }\n",
       "    const paths = {\n",
       "      \"vega\": \"https://cdn.jsdelivr.net/npm//vega@5?noext\",\n",
       "      \"vega-lib\": \"https://cdn.jsdelivr.net/npm//vega-lib?noext\",\n",
       "      \"vega-lite\": \"https://cdn.jsdelivr.net/npm//vega-lite@4.8.1?noext\",\n",
       "      \"vega-embed\": \"https://cdn.jsdelivr.net/npm//vega-embed@6?noext\",\n",
       "    };\n",
       "\n",
       "    function loadScript(lib) {\n",
       "      return new Promise(function(resolve, reject) {\n",
       "        var s = document.createElement('script');\n",
       "        s.src = paths[lib];\n",
       "        s.async = true;\n",
       "        s.onload = () => resolve(paths[lib]);\n",
       "        s.onerror = () => reject(`Error loading script: ${paths[lib]}`);\n",
       "        document.getElementsByTagName(\"head\")[0].appendChild(s);\n",
       "      });\n",
       "    }\n",
       "\n",
       "    function showError(err) {\n",
       "      outputDiv.innerHTML = `<div class=\"error\" style=\"color:red;\">${err}</div>`;\n",
       "      throw err;\n",
       "    }\n",
       "\n",
       "    function displayChart(vegaEmbed) {\n",
       "      vegaEmbed(outputDiv, spec, embedOpt)\n",
       "        .catch(err => showError(`Javascript Error: ${err.message}<br>This usually means there's a typo in your chart specification. See the javascript console for the full traceback.`));\n",
       "    }\n",
       "\n",
       "    if(typeof define === \"function\" && define.amd) {\n",
       "      requirejs.config({paths});\n",
       "      require([\"vega-embed\"], displayChart, err => showError(`Error loading script: ${err.message}`));\n",
       "    } else if (typeof vegaEmbed === \"function\") {\n",
       "      displayChart(vegaEmbed);\n",
       "    } else {\n",
       "      loadScript(\"vega\")\n",
       "        .then(() => loadScript(\"vega-lite\"))\n",
       "        .then(() => loadScript(\"vega-embed\"))\n",
       "        .catch(showError)\n",
       "        .then(() => displayChart(vegaEmbed));\n",
       "    }\n",
       "  })({\"config\": {\"view\": {\"continuousWidth\": 400, \"continuousHeight\": 300}}, \"data\": {\"name\": \"data-6431de746c54736b53c3ccf7476b4c41\"}, \"mark\": {\"type\": \"line\", \"point\": true}, \"encoding\": {\"color\": {\"type\": \"nominal\", \"field\": \"dt__max_depth\", \"title\": \"Max Depth\"}, \"x\": {\"type\": \"quantitative\", \"field\": \"dt__min_samples_split\", \"title\": \"Min Samples for Split\"}, \"y\": {\"type\": \"quantitative\", \"field\": \"mean_score\", \"scale\": {\"zero\": false}, \"title\": \"Accuracy\"}}, \"title\": \"DT Performance Comparison with 20 Features\", \"$schema\": \"https://vega.github.io/schema/vega-lite/v4.8.1.json\", \"datasets\": {\"data-6431de746c54736b53c3ccf7476b4c41\": [{\"mean_score\": 0.8058144372789682, \"std_score\": 0.0628399016269813, \"max_score\": 0.8983253588516746, \"min_score\": 0.6818181818181819, \"dt__criterion\": \"gini\", \"dt__max_depth\": 3, \"dt__min_samples_split\": 6, \"rfi_fs__n_features_\": 20}, {\"mean_score\": 0.804566257541086, \"std_score\": 0.06339636890849581, \"max_score\": 0.8983253588516746, \"min_score\": 0.6818181818181819, \"dt__criterion\": \"gini\", \"dt__max_depth\": 3, \"dt__min_samples_split\": 8, \"rfi_fs__n_features_\": 20}, {\"mean_score\": 0.7991505443450524, \"std_score\": 0.06178026948894024, \"max_score\": 0.8983253588516746, \"min_score\": 0.6818181818181819, \"dt__criterion\": \"gini\", \"dt__max_depth\": 3, \"dt__min_samples_split\": 10, \"rfi_fs__n_features_\": 20}, {\"mean_score\": 0.7987136814367938, \"std_score\": 0.05999301554976864, \"max_score\": 0.9066985645933014, \"min_score\": 0.6866028708133971, \"dt__criterion\": \"gini\", \"dt__max_depth\": 3, \"dt__min_samples_split\": 2, \"rfi_fs__n_features_\": 20}, {\"mean_score\": 0.7974412315373414, \"std_score\": 0.062102659906742054, \"max_score\": 0.874401913875598, \"min_score\": 0.6339712918660287, \"dt__criterion\": \"entropy\", \"dt__max_depth\": 3, \"dt__min_samples_split\": 10, \"rfi_fs__n_features_\": 20}, {\"mean_score\": 0.7972158657513349, \"std_score\": 0.05802376482281774, \"max_score\": 0.8839712918660286, \"min_score\": 0.6985645933014354, \"dt__criterion\": \"gini\", \"dt__max_depth\": 4, \"dt__min_samples_split\": 10, \"rfi_fs__n_features_\": 20}, {\"mean_score\": 0.796525899729561, \"std_score\": 0.05471436940819146, \"max_score\": 0.8755980861244018, \"min_score\": 0.7129186602870814, \"dt__criterion\": \"gini\", \"dt__max_depth\": 4, \"dt__min_samples_split\": 6, \"rfi_fs__n_features_\": 20}, {\"mean_score\": 0.7963906802579571, \"std_score\": 0.06002557704471606, \"max_score\": 0.874401913875598, \"min_score\": 0.6339712918660287, \"dt__criterion\": \"entropy\", \"dt__max_depth\": 3, \"dt__min_samples_split\": 2, \"rfi_fs__n_features_\": 20}, {\"mean_score\": 0.7963906802579571, \"std_score\": 0.06002557704471606, \"max_score\": 0.874401913875598, \"min_score\": 0.6339712918660287, \"dt__criterion\": \"entropy\", \"dt__max_depth\": 3, \"dt__min_samples_split\": 5, \"rfi_fs__n_features_\": 20}, {\"mean_score\": 0.7955689619305182, \"std_score\": 0.055752468801528565, \"max_score\": 0.8983253588516746, \"min_score\": 0.6866028708133971, \"dt__criterion\": \"gini\", \"dt__max_depth\": 3, \"dt__min_samples_split\": 5, \"rfi_fs__n_features_\": 20}, {\"mean_score\": 0.7944247971707926, \"std_score\": 0.05684223370194422, \"max_score\": 0.8569794050343249, \"min_score\": 0.6339712918660287, \"dt__criterion\": \"entropy\", \"dt__max_depth\": 3, \"dt__min_samples_split\": 6, \"rfi_fs__n_features_\": 20}, {\"mean_score\": 0.7941335552319535, \"std_score\": 0.06028914808453518, \"max_score\": 0.8958810068649885, \"min_score\": 0.680622009569378, \"dt__criterion\": \"entropy\", \"dt__max_depth\": 4, \"dt__min_samples_split\": 8, \"rfi_fs__n_features_\": 20}, {\"mean_score\": 0.7930171277997364, \"std_score\": 0.05524671093531641, \"max_score\": 0.8767942583732057, \"min_score\": 0.7057416267942584, \"dt__criterion\": \"gini\", \"dt__max_depth\": 4, \"dt__min_samples_split\": 2, \"rfi_fs__n_features_\": 20}, {\"mean_score\": 0.7927952291796686, \"std_score\": 0.058219203223315884, \"max_score\": 0.9130434782608695, \"min_score\": 0.680622009569378, \"dt__criterion\": \"entropy\", \"dt__max_depth\": 4, \"dt__min_samples_split\": 5, \"rfi_fs__n_features_\": 20}, {\"mean_score\": 0.7915401151099091, \"std_score\": 0.06913084464865922, \"max_score\": 0.9164759725400458, \"min_score\": 0.7045454545454545, \"dt__criterion\": \"gini\", \"dt__max_depth\": 5, \"dt__min_samples_split\": 10, \"rfi_fs__n_features_\": 20}, {\"mean_score\": 0.7894528812148951, \"std_score\": 0.05995330706040984, \"max_score\": 0.874401913875598, \"min_score\": 0.6339712918660287, \"dt__criterion\": \"entropy\", \"dt__max_depth\": 3, \"dt__min_samples_split\": 8, \"rfi_fs__n_features_\": 20}, {\"mean_score\": 0.7890888287913459, \"std_score\": 0.07901492823631301, \"max_score\": 0.937070938215103, \"min_score\": 0.6854066985645932, \"dt__criterion\": \"gini\", \"dt__max_depth\": 5, \"dt__min_samples_split\": 8, \"rfi_fs__n_features_\": 20}, {\"mean_score\": 0.7853130850842521, \"std_score\": 0.06919084113191122, \"max_score\": 0.9102870813397128, \"min_score\": 0.6555023923444976, \"dt__criterion\": \"gini\", \"dt__max_depth\": 4, \"dt__min_samples_split\": 8, \"rfi_fs__n_features_\": 20}, {\"mean_score\": 0.7834720199708758, \"std_score\": 0.06819780679183587, \"max_score\": 0.8791866028708133, \"min_score\": 0.6555023923444976, \"dt__criterion\": \"gini\", \"dt__max_depth\": 4, \"dt__min_samples_split\": 5, \"rfi_fs__n_features_\": 20}, {\"mean_score\": 0.7834477498093059, \"std_score\": 0.04411545233553874, \"max_score\": 0.8504784688995215, \"min_score\": 0.6854066985645932, \"dt__criterion\": \"entropy\", \"dt__max_depth\": 4, \"dt__min_samples_split\": 2, \"rfi_fs__n_features_\": 20}, {\"mean_score\": 0.7819464669579087, \"std_score\": 0.055723259779490206, \"max_score\": 0.8935926773455377, \"min_score\": 0.687799043062201, \"dt__criterion\": \"entropy\", \"dt__max_depth\": 4, \"dt__min_samples_split\": 10, \"rfi_fs__n_features_\": 20}, {\"mean_score\": 0.780812703695999, \"std_score\": 0.04432677697631609, \"max_score\": 0.8504784688995215, \"min_score\": 0.680622009569378, \"dt__criterion\": \"entropy\", \"dt__max_depth\": 4, \"dt__min_samples_split\": 6, \"rfi_fs__n_features_\": 20}, {\"mean_score\": 0.7786630608140906, \"std_score\": 0.07466983551119419, \"max_score\": 0.9210526315789473, \"min_score\": 0.6555023923444976, \"dt__criterion\": \"gini\", \"dt__max_depth\": 5, \"dt__min_samples_split\": 6, \"rfi_fs__n_features_\": 20}, {\"mean_score\": 0.7727723458844741, \"std_score\": 0.06332101451893249, \"max_score\": 0.9210526315789471, \"min_score\": 0.6698564593301435, \"dt__criterion\": \"entropy\", \"dt__max_depth\": 5, \"dt__min_samples_split\": 10, \"rfi_fs__n_features_\": 20}, {\"mean_score\": 0.7659246931558145, \"std_score\": 0.06224514528835815, \"max_score\": 0.8958810068649885, \"min_score\": 0.6889952153110047, \"dt__criterion\": \"gini\", \"dt__max_depth\": 5, \"dt__min_samples_split\": 5, \"rfi_fs__n_features_\": 20}, {\"mean_score\": 0.7634213993481728, \"std_score\": 0.06638258524182512, \"max_score\": 0.8649885583524027, \"min_score\": 0.6507177033492823, \"dt__criterion\": \"gini\", \"dt__max_depth\": 5, \"dt__min_samples_split\": 2, \"rfi_fs__n_features_\": 20}, {\"mean_score\": 0.7599195617502253, \"std_score\": 0.06455782573113639, \"max_score\": 0.9130434782608694, \"min_score\": 0.6602870813397129, \"dt__criterion\": \"entropy\", \"dt__max_depth\": 5, \"dt__min_samples_split\": 6, \"rfi_fs__n_features_\": 20}, {\"mean_score\": 0.7540635184799943, \"std_score\": 0.05609063953214421, \"max_score\": 0.8821510297482837, \"min_score\": 0.6674641148325359, \"dt__criterion\": \"entropy\", \"dt__max_depth\": 5, \"dt__min_samples_split\": 8, \"rfi_fs__n_features_\": 20}, {\"mean_score\": 0.7499618611746759, \"std_score\": 0.057998589115271726, \"max_score\": 0.8707093821510298, \"min_score\": 0.6727688787185354, \"dt__criterion\": \"entropy\", \"dt__max_depth\": 5, \"dt__min_samples_split\": 2, \"rfi_fs__n_features_\": 20}, {\"mean_score\": 0.7475903196726995, \"std_score\": 0.0543132401936571, \"max_score\": 0.8421052631578947, \"min_score\": 0.6602870813397129, \"dt__criterion\": \"entropy\", \"dt__max_depth\": 5, \"dt__min_samples_split\": 5, \"rfi_fs__n_features_\": 20}]}}, {\"mode\": \"vega-lite\"});\n",
       "</script>"
      ],
      "text/plain": [
       "alt.Chart(...)"
      ]
     },
     "execution_count": 62,
     "metadata": {},
     "output_type": "execute_result"
    }
   ],
   "source": [
    "results_DT = get_search_results(gs_pipe_DT)\n",
    "\n",
    "results_DT_20_features = results_DT[results_DT['rfi_fs__n_features_'] == 20.0]\n",
    "\n",
    "alt.Chart(results_DT_20_features, \n",
    "          title='DT Performance Comparison with 20 Features'\n",
    "         ).mark_line(point=True).encode(\n",
    "    alt.X('dt__min_samples_split', title='Min Samples for Split'),\n",
    "    alt.Y('mean_score', title='Accuracy', scale=alt.Scale(zero=False)),\n",
    "    alt.Color('dt__max_depth:N', title='Max Depth')\n",
    ")"
   ]
  },
  {
   "cell_type": "markdown",
   "metadata": {},
   "source": [
    "#### Conclusion:\n",
    "The performance of the Model is demonstrated in the graph above. It performs best with 20 features, Max Depth 4, Min Sample split of 10 and criterion entropy.\n"
   ]
  },
  {
   "cell_type": "markdown",
   "metadata": {},
   "source": [
    "## Random Forest Classifier"
   ]
  },
  {
   "cell_type": "markdown",
   "metadata": {},
   "source": [
    "* Feature selection and hyperparameter tuning is done via cross validation and GridSearchCV using Pipeline feature.\n",
    "* For Random Forest Classifier the various parameters are:\n",
    "    1. n_estimators(number of decision tree to be built) - the values are 100,200,500\n",
    "    2. criterion - 'gini(Information Gain),'entropy'\n",
    "    3. maximum depth - Number of levels\n",
    "    4. bootstrap- Whether bootstrap samples are used or not.\n",
    "    5. minimum samples split: Minimum number of splits required for the sample to be at the leaf node.\n",
    "* We further use the Random Forest Importance(RFI) method with 100 estimators to perform feature selection."
   ]
  },
  {
   "cell_type": "code",
   "execution_count": 63,
   "metadata": {},
   "outputs": [
    {
     "name": "stdout",
     "output_type": "stream",
     "text": [
      "Fitting 15 folds for each of 960 candidates, totalling 14400 fits\n"
     ]
    },
    {
     "name": "stderr",
     "output_type": "stream",
     "text": [
      "[Parallel(n_jobs=-2)]: Using backend LokyBackend with 11 concurrent workers.\n",
      "[Parallel(n_jobs=-2)]: Done  28 tasks      | elapsed:    1.2s\n",
      "[Parallel(n_jobs=-2)]: Done 178 tasks      | elapsed:   10.1s\n",
      "[Parallel(n_jobs=-2)]: Done 428 tasks      | elapsed:   23.2s\n",
      "[Parallel(n_jobs=-2)]: Done 778 tasks      | elapsed:   43.0s\n",
      "[Parallel(n_jobs=-2)]: Done 1228 tasks      | elapsed:  1.1min\n",
      "[Parallel(n_jobs=-2)]: Done 1778 tasks      | elapsed:  1.7min\n",
      "[Parallel(n_jobs=-2)]: Done 2428 tasks      | elapsed:  2.3min\n",
      "[Parallel(n_jobs=-2)]: Done 3178 tasks      | elapsed:  3.0min\n",
      "[Parallel(n_jobs=-2)]: Done 4028 tasks      | elapsed:  3.8min\n",
      "[Parallel(n_jobs=-2)]: Done 4978 tasks      | elapsed:  4.8min\n",
      "[Parallel(n_jobs=-2)]: Done 6028 tasks      | elapsed:  5.9min\n",
      "[Parallel(n_jobs=-2)]: Done 7178 tasks      | elapsed:  7.0min\n",
      "[Parallel(n_jobs=-2)]: Done 8428 tasks      | elapsed:  8.3min\n",
      "[Parallel(n_jobs=-2)]: Done 9778 tasks      | elapsed:  9.6min\n",
      "[Parallel(n_jobs=-2)]: Done 11228 tasks      | elapsed: 11.0min\n",
      "[Parallel(n_jobs=-2)]: Done 12778 tasks      | elapsed: 12.4min\n",
      "[Parallel(n_jobs=-2)]: Done 14400 out of 14400 | elapsed: 13.9min finished\n"
     ]
    }
   ],
   "source": [
    "from sklearn.ensemble import RandomForestClassifier\n",
    "\n",
    "pipe_RF = Pipeline([('rfi_fs', RFIFeatureSelector()),\n",
    "                    ('rf', RandomForestClassifier(random_state=999))])\n",
    "\n",
    "params_pipe_RF = {'rfi_fs__n_features_': [10, 20, 25, Data.shape[1]],\n",
    "                  'rf__max_depth': [2, 3, 4, 5],\n",
    "                  'rf__min_samples_split': [2,3, 5, 6, 8],\n",
    "                  'rf__criterion': ['gini', 'entropy'], \n",
    "                  'rf__bootstrap': ['True', 'False'],\n",
    "                  'rf__n_estimators':[10, 50, 100]}\n",
    "\n",
    "gs_pipe_RF = GridSearchCV(estimator=pipe_RF, \n",
    "                          param_grid=params_pipe_RF, \n",
    "                          cv=cv_method,\n",
    "                          refit=True,\n",
    "                          n_jobs=-2,\n",
    "                          scoring='accuracy',\n",
    "                          verbose=1) \n",
    "\n",
    "gs_pipe_RF.fit(D_train, t_train);"
   ]
  },
  {
   "cell_type": "code",
   "execution_count": 64,
   "metadata": {},
   "outputs": [
    {
     "data": {
      "text/plain": [
       "{'rf__bootstrap': 'True',\n",
       " 'rf__criterion': 'gini',\n",
       " 'rf__max_depth': 2,\n",
       " 'rf__min_samples_split': 2,\n",
       " 'rf__n_estimators': 100,\n",
       " 'rfi_fs__n_features_': 20}"
      ]
     },
     "execution_count": 64,
     "metadata": {},
     "output_type": "execute_result"
    }
   ],
   "source": [
    "gs_pipe_RF.best_params_\n"
   ]
  },
  {
   "cell_type": "code",
   "execution_count": 65,
   "metadata": {},
   "outputs": [
    {
     "data": {
      "text/plain": [
       "0.8327138985675574"
      ]
     },
     "execution_count": 65,
     "metadata": {},
     "output_type": "execute_result"
    }
   ],
   "source": [
    "gs_pipe_RF.best_score_\n"
   ]
  },
  {
   "cell_type": "markdown",
   "metadata": {},
   "source": [
    "The accuracy score for Random Forest is 82.6%. "
   ]
  },
  {
   "cell_type": "markdown",
   "metadata": {},
   "source": [
    "#### Below given is the plot to depict the Accuracy performance by Random Forest comparison with 20 features."
   ]
  },
  {
   "cell_type": "code",
   "execution_count": 66,
   "metadata": {},
   "outputs": [
    {
     "data": {
      "text/html": [
       "\n",
       "<div id=\"altair-viz-6e5e473b203a459c85ec39854dd1c2ff\"></div>\n",
       "<script type=\"text/javascript\">\n",
       "  (function(spec, embedOpt){\n",
       "    let outputDiv = document.currentScript.previousElementSibling;\n",
       "    if (outputDiv.id !== \"altair-viz-6e5e473b203a459c85ec39854dd1c2ff\") {\n",
       "      outputDiv = document.getElementById(\"altair-viz-6e5e473b203a459c85ec39854dd1c2ff\");\n",
       "    }\n",
       "    const paths = {\n",
       "      \"vega\": \"https://cdn.jsdelivr.net/npm//vega@5?noext\",\n",
       "      \"vega-lib\": \"https://cdn.jsdelivr.net/npm//vega-lib?noext\",\n",
       "      \"vega-lite\": \"https://cdn.jsdelivr.net/npm//vega-lite@4.8.1?noext\",\n",
       "      \"vega-embed\": \"https://cdn.jsdelivr.net/npm//vega-embed@6?noext\",\n",
       "    };\n",
       "\n",
       "    function loadScript(lib) {\n",
       "      return new Promise(function(resolve, reject) {\n",
       "        var s = document.createElement('script');\n",
       "        s.src = paths[lib];\n",
       "        s.async = true;\n",
       "        s.onload = () => resolve(paths[lib]);\n",
       "        s.onerror = () => reject(`Error loading script: ${paths[lib]}`);\n",
       "        document.getElementsByTagName(\"head\")[0].appendChild(s);\n",
       "      });\n",
       "    }\n",
       "\n",
       "    function showError(err) {\n",
       "      outputDiv.innerHTML = `<div class=\"error\" style=\"color:red;\">${err}</div>`;\n",
       "      throw err;\n",
       "    }\n",
       "\n",
       "    function displayChart(vegaEmbed) {\n",
       "      vegaEmbed(outputDiv, spec, embedOpt)\n",
       "        .catch(err => showError(`Javascript Error: ${err.message}<br>This usually means there's a typo in your chart specification. See the javascript console for the full traceback.`));\n",
       "    }\n",
       "\n",
       "    if(typeof define === \"function\" && define.amd) {\n",
       "      requirejs.config({paths});\n",
       "      require([\"vega-embed\"], displayChart, err => showError(`Error loading script: ${err.message}`));\n",
       "    } else if (typeof vegaEmbed === \"function\") {\n",
       "      displayChart(vegaEmbed);\n",
       "    } else {\n",
       "      loadScript(\"vega\")\n",
       "        .then(() => loadScript(\"vega-lite\"))\n",
       "        .then(() => loadScript(\"vega-embed\"))\n",
       "        .catch(showError)\n",
       "        .then(() => displayChart(vegaEmbed));\n",
       "    }\n",
       "  })({\"config\": {\"view\": {\"continuousWidth\": 400, \"continuousHeight\": 300}}, \"data\": {\"name\": \"data-d21e997a027fd0615dad4313ff21899e\"}, \"mark\": {\"type\": \"line\", \"point\": true}, \"encoding\": {\"color\": {\"type\": \"nominal\", \"field\": \"rf__max_depth\", \"title\": \"Max Depth\"}, \"x\": {\"type\": \"quantitative\", \"field\": \"rf__min_samples_split\", \"title\": \"Min Samples for Split\"}, \"y\": {\"type\": \"quantitative\", \"field\": \"mean_score\", \"scale\": {\"zero\": false}, \"title\": \"Accuracy\"}}, \"title\": \"RF Performance Comparison with 20 Features\", \"$schema\": \"https://vega.github.io/schema/vega-lite/v4.8.1.json\", \"datasets\": {\"data-d21e997a027fd0615dad4313ff21899e\": [{\"mean_score\": 0.8327138985675574, \"std_score\": 0.05199113908564622, \"max_score\": 0.926829268292683, \"min_score\": 0.7380952380952381, \"rf__bootstrap\": \"True\", \"rf__criterion\": \"gini\", \"rf__max_depth\": 2, \"rf__min_samples_split\": 2, \"rf__n_estimators\": 100, \"rfi_fs__n_features_\": 20}, {\"mean_score\": 0.829423151374371, \"std_score\": 0.048224933453668455, \"max_score\": 0.9024390243902439, \"min_score\": 0.7380952380952381, \"rf__bootstrap\": \"False\", \"rf__criterion\": \"entropy\", \"rf__max_depth\": 2, \"rf__min_samples_split\": 3, \"rf__n_estimators\": 50, \"rfi_fs__n_features_\": 20}, {\"mean_score\": 0.8293070073557881, \"std_score\": 0.05338182041810944, \"max_score\": 0.9024390243902439, \"min_score\": 0.7073170731707317, \"rf__bootstrap\": \"False\", \"rf__criterion\": \"gini\", \"rf__max_depth\": 2, \"rf__min_samples_split\": 3, \"rf__n_estimators\": 100, \"rfi_fs__n_features_\": 20}, {\"mean_score\": 0.8293070073557879, \"std_score\": 0.0576350056195865, \"max_score\": 0.9047619047619048, \"min_score\": 0.7073170731707317, \"rf__bootstrap\": \"True\", \"rf__criterion\": \"entropy\", \"rf__max_depth\": 5, \"rf__min_samples_split\": 8, \"rf__n_estimators\": 100, \"rfi_fs__n_features_\": 20}, {\"mean_score\": 0.8277971351142084, \"std_score\": 0.05342282583704932, \"max_score\": 0.926829268292683, \"min_score\": 0.7073170731707317, \"rf__bootstrap\": \"True\", \"rf__criterion\": \"gini\", \"rf__max_depth\": 3, \"rf__min_samples_split\": 8, \"rf__n_estimators\": 50, \"rfi_fs__n_features_\": 20}, {\"mean_score\": 0.8276809910956254, \"std_score\": 0.05076369120130085, \"max_score\": 0.9024390243902439, \"min_score\": 0.7073170731707317, \"rf__bootstrap\": \"False\", \"rf__criterion\": \"gini\", \"rf__max_depth\": 2, \"rf__min_samples_split\": 8, \"rf__n_estimators\": 50, \"rfi_fs__n_features_\": 20}, {\"mean_score\": 0.8260162601626018, \"std_score\": 0.05711042833701385, \"max_score\": 0.926829268292683, \"min_score\": 0.7073170731707317, \"rf__bootstrap\": \"False\", \"rf__criterion\": \"gini\", \"rf__max_depth\": 2, \"rf__min_samples_split\": 5, \"rf__n_estimators\": 100, \"rfi_fs__n_features_\": 20}, {\"mean_score\": 0.8245063879210223, \"std_score\": 0.07157060434302683, \"max_score\": 0.926829268292683, \"min_score\": 0.6585365853658537, \"rf__bootstrap\": \"False\", \"rf__criterion\": \"gini\", \"rf__max_depth\": 3, \"rf__min_samples_split\": 5, \"rf__n_estimators\": 100, \"rfi_fs__n_features_\": 20}, {\"mean_score\": 0.8231126596980258, \"std_score\": 0.05134818002139308, \"max_score\": 0.926829268292683, \"min_score\": 0.7560975609756098, \"rf__bootstrap\": \"True\", \"rf__criterion\": \"entropy\", \"rf__max_depth\": 5, \"rf__min_samples_split\": 3, \"rf__n_estimators\": 10, \"rfi_fs__n_features_\": 20}, {\"mean_score\": 0.8229190863337207, \"std_score\": 0.048704597173834026, \"max_score\": 0.926829268292683, \"min_score\": 0.7380952380952381, \"rf__bootstrap\": \"False\", \"rf__criterion\": \"entropy\", \"rf__max_depth\": 2, \"rf__min_samples_split\": 3, \"rf__n_estimators\": 100, \"rfi_fs__n_features_\": 20}, {\"mean_score\": 0.8229190863337207, \"std_score\": 0.04780539474327416, \"max_score\": 0.9024390243902439, \"min_score\": 0.7317073170731707, \"rf__bootstrap\": \"True\", \"rf__criterion\": \"entropy\", \"rf__max_depth\": 2, \"rf__min_samples_split\": 8, \"rf__n_estimators\": 100, \"rfi_fs__n_features_\": 20}, {\"mean_score\": 0.8228803716608597, \"std_score\": 0.04881273937058645, \"max_score\": 0.9024390243902439, \"min_score\": 0.7317073170731707, \"rf__bootstrap\": \"False\", \"rf__criterion\": \"entropy\", \"rf__max_depth\": 2, \"rf__min_samples_split\": 6, \"rf__n_estimators\": 100, \"rfi_fs__n_features_\": 20}, {\"mean_score\": 0.8228803716608597, \"std_score\": 0.06544142602945319, \"max_score\": 0.926829268292683, \"min_score\": 0.6829268292682927, \"rf__bootstrap\": \"True\", \"rf__criterion\": \"gini\", \"rf__max_depth\": 3, \"rf__min_samples_split\": 3, \"rf__n_estimators\": 50, \"rfi_fs__n_features_\": 20}, {\"mean_score\": 0.8228803716608596, \"std_score\": 0.04287953695935517, \"max_score\": 0.8809523809523809, \"min_score\": 0.7560975609756098, \"rf__bootstrap\": \"True\", \"rf__criterion\": \"gini\", \"rf__max_depth\": 2, \"rf__min_samples_split\": 6, \"rf__n_estimators\": 50, \"rfi_fs__n_features_\": 20}, {\"mean_score\": 0.8228803716608596, \"std_score\": 0.05257703444181891, \"max_score\": 0.9047619047619048, \"min_score\": 0.7073170731707317, \"rf__bootstrap\": \"False\", \"rf__criterion\": \"entropy\", \"rf__max_depth\": 4, \"rf__min_samples_split\": 3, \"rf__n_estimators\": 100, \"rfi_fs__n_features_\": 20}, {\"mean_score\": 0.8228803716608596, \"std_score\": 0.05695598147052226, \"max_score\": 0.9047619047619048, \"min_score\": 0.7073170731707317, \"rf__bootstrap\": \"True\", \"rf__criterion\": \"gini\", \"rf__max_depth\": 5, \"rf__min_samples_split\": 2, \"rf__n_estimators\": 100, \"rfi_fs__n_features_\": 20}, {\"mean_score\": 0.8228803716608596, \"std_score\": 0.04896541463903237, \"max_score\": 0.926829268292683, \"min_score\": 0.7317073170731707, \"rf__bootstrap\": \"False\", \"rf__criterion\": \"gini\", \"rf__max_depth\": 2, \"rf__min_samples_split\": 2, \"rf__n_estimators\": 100, \"rfi_fs__n_features_\": 20}, {\"mean_score\": 0.8228416569879987, \"std_score\": 0.05274799944069502, \"max_score\": 0.9024390243902439, \"min_score\": 0.7317073170731707, \"rf__bootstrap\": \"True\", \"rf__criterion\": \"entropy\", \"rf__max_depth\": 2, \"rf__min_samples_split\": 6, \"rf__n_estimators\": 50, \"rfi_fs__n_features_\": 20}, {\"mean_score\": 0.8228416569879986, \"std_score\": 0.05590838439570921, \"max_score\": 0.926829268292683, \"min_score\": 0.6829268292682927, \"rf__bootstrap\": \"False\", \"rf__criterion\": \"gini\", \"rf__max_depth\": 2, \"rf__min_samples_split\": 6, \"rf__n_estimators\": 50, \"rfi_fs__n_features_\": 20}, {\"mean_score\": 0.8228416569879986, \"std_score\": 0.047429092753468766, \"max_score\": 0.926829268292683, \"min_score\": 0.7317073170731707, \"rf__bootstrap\": \"True\", \"rf__criterion\": \"entropy\", \"rf__max_depth\": 2, \"rf__min_samples_split\": 2, \"rf__n_estimators\": 50, \"rfi_fs__n_features_\": 20}, {\"mean_score\": 0.8228416569879985, \"std_score\": 0.044892062960470505, \"max_score\": 0.9024390243902439, \"min_score\": 0.7560975609756098, \"rf__bootstrap\": \"False\", \"rf__criterion\": \"entropy\", \"rf__max_depth\": 5, \"rf__min_samples_split\": 3, \"rf__n_estimators\": 50, \"rfi_fs__n_features_\": 20}, {\"mean_score\": 0.8227255129694154, \"std_score\": 0.05798036387093059, \"max_score\": 0.9285714285714286, \"min_score\": 0.6829268292682927, \"rf__bootstrap\": \"False\", \"rf__criterion\": \"gini\", \"rf__max_depth\": 2, \"rf__min_samples_split\": 5, \"rf__n_estimators\": 50, \"rfi_fs__n_features_\": 20}, {\"mean_score\": 0.8213317847464191, \"std_score\": 0.054921372312033624, \"max_score\": 0.9512195121951219, \"min_score\": 0.7317073170731707, \"rf__bootstrap\": \"True\", \"rf__criterion\": \"gini\", \"rf__max_depth\": 2, \"rf__min_samples_split\": 8, \"rf__n_estimators\": 50, \"rfi_fs__n_features_\": 20}, {\"mean_score\": 0.8213317847464191, \"std_score\": 0.05263971299915157, \"max_score\": 0.9024390243902439, \"min_score\": 0.7073170731707317, \"rf__bootstrap\": \"True\", \"rf__criterion\": \"gini\", \"rf__max_depth\": 3, \"rf__min_samples_split\": 2, \"rf__n_estimators\": 100, \"rfi_fs__n_features_\": 20}, {\"mean_score\": 0.8213317847464191, \"std_score\": 0.04707137474290805, \"max_score\": 0.8809523809523809, \"min_score\": 0.7317073170731707, \"rf__bootstrap\": \"True\", \"rf__criterion\": \"gini\", \"rf__max_depth\": 2, \"rf__min_samples_split\": 8, \"rf__n_estimators\": 100, \"rfi_fs__n_features_\": 20}, {\"mean_score\": 0.8212930700735581, \"std_score\": 0.05124898597713069, \"max_score\": 0.9047619047619048, \"min_score\": 0.7317073170731707, \"rf__bootstrap\": \"True\", \"rf__criterion\": \"gini\", \"rf__max_depth\": 2, \"rf__min_samples_split\": 5, \"rf__n_estimators\": 50, \"rfi_fs__n_features_\": 20}, {\"mean_score\": 0.821293070073558, \"std_score\": 0.050506165700958075, \"max_score\": 0.9024390243902439, \"min_score\": 0.7073170731707317, \"rf__bootstrap\": \"True\", \"rf__criterion\": \"gini\", \"rf__max_depth\": 2, \"rf__min_samples_split\": 2, \"rf__n_estimators\": 50, \"rfi_fs__n_features_\": 20}, {\"mean_score\": 0.821254355400697, \"std_score\": 0.06378347804934552, \"max_score\": 0.9024390243902439, \"min_score\": 0.6585365853658537, \"rf__bootstrap\": \"True\", \"rf__criterion\": \"gini\", \"rf__max_depth\": 3, \"rf__min_samples_split\": 5, \"rf__n_estimators\": 100, \"rfi_fs__n_features_\": 20}, {\"mean_score\": 0.821215640727836, \"std_score\": 0.04239329157186014, \"max_score\": 0.8780487804878049, \"min_score\": 0.7317073170731707, \"rf__bootstrap\": \"True\", \"rf__criterion\": \"gini\", \"rf__max_depth\": 2, \"rf__min_samples_split\": 6, \"rf__n_estimators\": 100, \"rfi_fs__n_features_\": 20}, {\"mean_score\": 0.8212156407278359, \"std_score\": 0.0565908146762221, \"max_score\": 0.9024390243902439, \"min_score\": 0.7073170731707317, \"rf__bootstrap\": \"False\", \"rf__criterion\": \"entropy\", \"rf__max_depth\": 3, \"rf__min_samples_split\": 5, \"rf__n_estimators\": 100, \"rfi_fs__n_features_\": 20}, {\"mean_score\": 0.821176926054975, \"std_score\": 0.0653466980491173, \"max_score\": 0.9512195121951219, \"min_score\": 0.6829268292682927, \"rf__bootstrap\": \"True\", \"rf__criterion\": \"entropy\", \"rf__max_depth\": 3, \"rf__min_samples_split\": 8, \"rf__n_estimators\": 10, \"rfi_fs__n_features_\": 20}, {\"mean_score\": 0.8211769260549749, \"std_score\": 0.06254491697386869, \"max_score\": 0.9024390243902439, \"min_score\": 0.6829268292682927, \"rf__bootstrap\": \"False\", \"rf__criterion\": \"entropy\", \"rf__max_depth\": 3, \"rf__min_samples_split\": 8, \"rf__n_estimators\": 50, \"rfi_fs__n_features_\": 20}, {\"mean_score\": 0.8211382113821138, \"std_score\": 0.06085215088453513, \"max_score\": 0.926829268292683, \"min_score\": 0.6829268292682927, \"rf__bootstrap\": \"True\", \"rf__criterion\": \"entropy\", \"rf__max_depth\": 4, \"rf__min_samples_split\": 6, \"rf__n_estimators\": 100, \"rfi_fs__n_features_\": 20}, {\"mean_score\": 0.8197444831591175, \"std_score\": 0.051817590219618376, \"max_score\": 0.9024390243902439, \"min_score\": 0.7317073170731707, \"rf__bootstrap\": \"False\", \"rf__criterion\": \"entropy\", \"rf__max_depth\": 4, \"rf__min_samples_split\": 8, \"rf__n_estimators\": 100, \"rfi_fs__n_features_\": 20}, {\"mean_score\": 0.8197444831591175, \"std_score\": 0.05551262908487822, \"max_score\": 0.926829268292683, \"min_score\": 0.7317073170731707, \"rf__bootstrap\": \"False\", \"rf__criterion\": \"entropy\", \"rf__max_depth\": 4, \"rf__min_samples_split\": 2, \"rf__n_estimators\": 50, \"rfi_fs__n_features_\": 20}, {\"mean_score\": 0.8197057684862565, \"std_score\": 0.05419454089890409, \"max_score\": 0.9024390243902439, \"min_score\": 0.7317073170731707, \"rf__bootstrap\": \"True\", \"rf__criterion\": \"gini\", \"rf__max_depth\": 4, \"rf__min_samples_split\": 8, \"rf__n_estimators\": 100, \"rfi_fs__n_features_\": 20}, {\"mean_score\": 0.8197057684862564, \"std_score\": 0.054125632654844845, \"max_score\": 0.9024390243902439, \"min_score\": 0.7317073170731707, \"rf__bootstrap\": \"True\", \"rf__criterion\": \"entropy\", \"rf__max_depth\": 4, \"rf__min_samples_split\": 8, \"rf__n_estimators\": 50, \"rfi_fs__n_features_\": 20}, {\"mean_score\": 0.8196670538133954, \"std_score\": 0.05984887741582946, \"max_score\": 0.926829268292683, \"min_score\": 0.7073170731707317, \"rf__bootstrap\": \"False\", \"rf__criterion\": \"gini\", \"rf__max_depth\": 3, \"rf__min_samples_split\": 3, \"rf__n_estimators\": 100, \"rfi_fs__n_features_\": 20}, {\"mean_score\": 0.8196670538133954, \"std_score\": 0.046733533415193394, \"max_score\": 0.926829268292683, \"min_score\": 0.7317073170731707, \"rf__bootstrap\": \"False\", \"rf__criterion\": \"gini\", \"rf__max_depth\": 2, \"rf__min_samples_split\": 2, \"rf__n_estimators\": 50, \"rfi_fs__n_features_\": 20}, {\"mean_score\": 0.8196670538133953, \"std_score\": 0.05287885794338615, \"max_score\": 0.9024390243902439, \"min_score\": 0.7073170731707317, \"rf__bootstrap\": \"True\", \"rf__criterion\": \"gini\", \"rf__max_depth\": 4, \"rf__min_samples_split\": 8, \"rf__n_estimators\": 50, \"rfi_fs__n_features_\": 20}, {\"mean_score\": 0.8196670538133953, \"std_score\": 0.05057884951586609, \"max_score\": 0.8809523809523809, \"min_score\": 0.7073170731707317, \"rf__bootstrap\": \"True\", \"rf__criterion\": \"entropy\", \"rf__max_depth\": 3, \"rf__min_samples_split\": 6, \"rf__n_estimators\": 100, \"rfi_fs__n_features_\": 20}, {\"mean_score\": 0.8196283391405343, \"std_score\": 0.05371950688522049, \"max_score\": 0.9024390243902439, \"min_score\": 0.7073170731707317, \"rf__bootstrap\": \"False\", \"rf__criterion\": \"gini\", \"rf__max_depth\": 2, \"rf__min_samples_split\": 3, \"rf__n_estimators\": 50, \"rfi_fs__n_features_\": 20}, {\"mean_score\": 0.8196283391405343, \"std_score\": 0.04226738128312883, \"max_score\": 0.9024390243902439, \"min_score\": 0.7560975609756098, \"rf__bootstrap\": \"True\", \"rf__criterion\": \"entropy\", \"rf__max_depth\": 3, \"rf__min_samples_split\": 5, \"rf__n_estimators\": 50, \"rfi_fs__n_features_\": 20}, {\"mean_score\": 0.8196283391405343, \"std_score\": 0.046883356942436734, \"max_score\": 0.8780487804878049, \"min_score\": 0.7073170731707317, \"rf__bootstrap\": \"True\", \"rf__criterion\": \"entropy\", \"rf__max_depth\": 5, \"rf__min_samples_split\": 6, \"rf__n_estimators\": 50, \"rfi_fs__n_features_\": 20}, {\"mean_score\": 0.8196283391405343, \"std_score\": 0.0537889354137729, \"max_score\": 0.9047619047619048, \"min_score\": 0.7073170731707317, \"rf__bootstrap\": \"False\", \"rf__criterion\": \"entropy\", \"rf__max_depth\": 5, \"rf__min_samples_split\": 8, \"rf__n_estimators\": 50, \"rfi_fs__n_features_\": 20}, {\"mean_score\": 0.8195509097948125, \"std_score\": 0.06202404748389963, \"max_score\": 0.9285714285714286, \"min_score\": 0.6829268292682927, \"rf__bootstrap\": \"False\", \"rf__criterion\": \"entropy\", \"rf__max_depth\": 3, \"rf__min_samples_split\": 3, \"rf__n_estimators\": 50, \"rfi_fs__n_features_\": 20}, {\"mean_score\": 0.8195509097948123, \"std_score\": 0.056678386846220966, \"max_score\": 0.9047619047619048, \"min_score\": 0.7073170731707317, \"rf__bootstrap\": \"True\", \"rf__criterion\": \"gini\", \"rf__max_depth\": 2, \"rf__min_samples_split\": 5, \"rf__n_estimators\": 10, \"rfi_fs__n_features_\": 20}, {\"mean_score\": 0.8195121951219513, \"std_score\": 0.03997626954455667, \"max_score\": 0.8809523809523809, \"min_score\": 0.7560975609756098, \"rf__bootstrap\": \"False\", \"rf__criterion\": \"entropy\", \"rf__max_depth\": 2, \"rf__min_samples_split\": 6, \"rf__n_estimators\": 50, \"rfi_fs__n_features_\": 20}, {\"mean_score\": 0.8181184668989548, \"std_score\": 0.0436080191611566, \"max_score\": 0.8780487804878049, \"min_score\": 0.7380952380952381, \"rf__bootstrap\": \"False\", \"rf__criterion\": \"entropy\", \"rf__max_depth\": 2, \"rf__min_samples_split\": 8, \"rf__n_estimators\": 100, \"rfi_fs__n_features_\": 20}, {\"mean_score\": 0.8180797522260939, \"std_score\": 0.056498809335748516, \"max_score\": 0.9024390243902439, \"min_score\": 0.7073170731707317, \"rf__bootstrap\": \"True\", \"rf__criterion\": \"entropy\", \"rf__max_depth\": 4, \"rf__min_samples_split\": 5, \"rf__n_estimators\": 100, \"rfi_fs__n_features_\": 20}, {\"mean_score\": 0.8180410375532329, \"std_score\": 0.046675672242535306, \"max_score\": 0.9024390243902439, \"min_score\": 0.7317073170731707, \"rf__bootstrap\": \"True\", \"rf__criterion\": \"gini\", \"rf__max_depth\": 2, \"rf__min_samples_split\": 5, \"rf__n_estimators\": 100, \"rfi_fs__n_features_\": 20}, {\"mean_score\": 0.8180410375532327, \"std_score\": 0.055783262660908134, \"max_score\": 0.9024390243902439, \"min_score\": 0.7073170731707317, \"rf__bootstrap\": \"True\", \"rf__criterion\": \"entropy\", \"rf__max_depth\": 5, \"rf__min_samples_split\": 6, \"rf__n_estimators\": 100, \"rfi_fs__n_features_\": 20}, {\"mean_score\": 0.8180023228803718, \"std_score\": 0.040509572975686636, \"max_score\": 0.8809523809523809, \"min_score\": 0.7317073170731707, \"rf__bootstrap\": \"False\", \"rf__criterion\": \"entropy\", \"rf__max_depth\": 2, \"rf__min_samples_split\": 2, \"rf__n_estimators\": 100, \"rfi_fs__n_features_\": 20}, {\"mean_score\": 0.8180023228803718, \"std_score\": 0.05309988011737632, \"max_score\": 0.9024390243902439, \"min_score\": 0.7073170731707317, \"rf__bootstrap\": \"True\", \"rf__criterion\": \"gini\", \"rf__max_depth\": 5, \"rf__min_samples_split\": 8, \"rf__n_estimators\": 100, \"rfi_fs__n_features_\": 20}, {\"mean_score\": 0.8180023228803718, \"std_score\": 0.0522763354604601, \"max_score\": 0.8809523809523809, \"min_score\": 0.7073170731707317, \"rf__bootstrap\": \"False\", \"rf__criterion\": \"gini\", \"rf__max_depth\": 2, \"rf__min_samples_split\": 6, \"rf__n_estimators\": 100, \"rfi_fs__n_features_\": 20}, {\"mean_score\": 0.8179636082075109, \"std_score\": 0.06565574788996849, \"max_score\": 0.9047619047619048, \"min_score\": 0.6829268292682927, \"rf__bootstrap\": \"True\", \"rf__criterion\": \"entropy\", \"rf__max_depth\": 3, \"rf__min_samples_split\": 8, \"rf__n_estimators\": 100, \"rfi_fs__n_features_\": 20}, {\"mean_score\": 0.8179636082075107, \"std_score\": 0.04681332394121122, \"max_score\": 0.9047619047619048, \"min_score\": 0.7073170731707317, \"rf__bootstrap\": \"True\", \"rf__criterion\": \"gini\", \"rf__max_depth\": 3, \"rf__min_samples_split\": 6, \"rf__n_estimators\": 50, \"rfi_fs__n_features_\": 20}, {\"mean_score\": 0.8179636082075107, \"std_score\": 0.05466624221945955, \"max_score\": 0.9024390243902439, \"min_score\": 0.7560975609756098, \"rf__bootstrap\": \"False\", \"rf__criterion\": \"entropy\", \"rf__max_depth\": 5, \"rf__min_samples_split\": 6, \"rf__n_estimators\": 100, \"rfi_fs__n_features_\": 20}, {\"mean_score\": 0.8179636082075107, \"std_score\": 0.06081551413137347, \"max_score\": 0.9024390243902439, \"min_score\": 0.6585365853658537, \"rf__bootstrap\": \"True\", \"rf__criterion\": \"entropy\", \"rf__max_depth\": 2, \"rf__min_samples_split\": 2, \"rf__n_estimators\": 100, \"rfi_fs__n_features_\": 20}, {\"mean_score\": 0.8178861788617887, \"std_score\": 0.05835502079191148, \"max_score\": 0.9047619047619048, \"min_score\": 0.7073170731707317, \"rf__bootstrap\": \"True\", \"rf__criterion\": \"gini\", \"rf__max_depth\": 5, \"rf__min_samples_split\": 6, \"rf__n_estimators\": 50, \"rfi_fs__n_features_\": 20}, {\"mean_score\": 0.8165311653116533, \"std_score\": 0.05762018059022174, \"max_score\": 0.9024390243902439, \"min_score\": 0.6829268292682927, \"rf__bootstrap\": \"False\", \"rf__criterion\": \"gini\", \"rf__max_depth\": 4, \"rf__min_samples_split\": 6, \"rf__n_estimators\": 100, \"rfi_fs__n_features_\": 20}, {\"mean_score\": 0.8164924506387924, \"std_score\": 0.051258870159114706, \"max_score\": 0.926829268292683, \"min_score\": 0.7317073170731707, \"rf__bootstrap\": \"True\", \"rf__criterion\": \"gini\", \"rf__max_depth\": 2, \"rf__min_samples_split\": 3, \"rf__n_estimators\": 100, \"rfi_fs__n_features_\": 20}, {\"mean_score\": 0.8164924506387923, \"std_score\": 0.059034227308577186, \"max_score\": 0.9024390243902439, \"min_score\": 0.6829268292682927, \"rf__bootstrap\": \"True\", \"rf__criterion\": \"gini\", \"rf__max_depth\": 4, \"rf__min_samples_split\": 6, \"rf__n_estimators\": 100, \"rfi_fs__n_features_\": 20}, {\"mean_score\": 0.8164537359659313, \"std_score\": 0.05132044253812892, \"max_score\": 0.8780487804878049, \"min_score\": 0.6829268292682927, \"rf__bootstrap\": \"False\", \"rf__criterion\": \"entropy\", \"rf__max_depth\": 3, \"rf__min_samples_split\": 8, \"rf__n_estimators\": 100, \"rfi_fs__n_features_\": 20}, {\"mean_score\": 0.8164537359659313, \"std_score\": 0.059119270316192726, \"max_score\": 0.9024390243902439, \"min_score\": 0.6829268292682927, \"rf__bootstrap\": \"True\", \"rf__criterion\": \"entropy\", \"rf__max_depth\": 3, \"rf__min_samples_split\": 2, \"rf__n_estimators\": 100, \"rfi_fs__n_features_\": 20}, {\"mean_score\": 0.8164537359659312, \"std_score\": 0.0528786878759872, \"max_score\": 0.9024390243902439, \"min_score\": 0.7073170731707317, \"rf__bootstrap\": \"True\", \"rf__criterion\": \"entropy\", \"rf__max_depth\": 2, \"rf__min_samples_split\": 8, \"rf__n_estimators\": 50, \"rfi_fs__n_features_\": 20}, {\"mean_score\": 0.8164537359659312, \"std_score\": 0.05128406912318388, \"max_score\": 0.9024390243902439, \"min_score\": 0.7073170731707317, \"rf__bootstrap\": \"True\", \"rf__criterion\": \"gini\", \"rf__max_depth\": 3, \"rf__min_samples_split\": 6, \"rf__n_estimators\": 100, \"rfi_fs__n_features_\": 20}, {\"mean_score\": 0.8164537359659312, \"std_score\": 0.05121124478935969, \"max_score\": 0.9024390243902439, \"min_score\": 0.7073170731707317, \"rf__bootstrap\": \"True\", \"rf__criterion\": \"gini\", \"rf__max_depth\": 4, \"rf__min_samples_split\": 3, \"rf__n_estimators\": 100, \"rfi_fs__n_features_\": 20}, {\"mean_score\": 0.8164537359659312, \"std_score\": 0.04749588269473338, \"max_score\": 0.9024390243902439, \"min_score\": 0.7317073170731707, \"rf__bootstrap\": \"True\", \"rf__criterion\": \"entropy\", \"rf__max_depth\": 5, \"rf__min_samples_split\": 2, \"rf__n_estimators\": 100, \"rfi_fs__n_features_\": 20}, {\"mean_score\": 0.8164150212930702, \"std_score\": 0.04823444296411361, \"max_score\": 0.9024390243902439, \"min_score\": 0.7380952380952381, \"rf__bootstrap\": \"True\", \"rf__criterion\": \"entropy\", \"rf__max_depth\": 2, \"rf__min_samples_split\": 3, \"rf__n_estimators\": 100, \"rfi_fs__n_features_\": 20}, {\"mean_score\": 0.8164150212930702, \"std_score\": 0.055140024348950795, \"max_score\": 0.9024390243902439, \"min_score\": 0.7317073170731707, \"rf__bootstrap\": \"True\", \"rf__criterion\": \"entropy\", \"rf__max_depth\": 3, \"rf__min_samples_split\": 3, \"rf__n_estimators\": 50, \"rfi_fs__n_features_\": 20}, {\"mean_score\": 0.8164150212930702, \"std_score\": 0.05923567616178171, \"max_score\": 0.9024390243902439, \"min_score\": 0.6829268292682927, \"rf__bootstrap\": \"True\", \"rf__criterion\": \"gini\", \"rf__max_depth\": 5, \"rf__min_samples_split\": 3, \"rf__n_estimators\": 100, \"rfi_fs__n_features_\": 20}, {\"mean_score\": 0.8164150212930702, \"std_score\": 0.05138191196304414, \"max_score\": 0.9024390243902439, \"min_score\": 0.7073170731707317, \"rf__bootstrap\": \"False\", \"rf__criterion\": \"gini\", \"rf__max_depth\": 4, \"rf__min_samples_split\": 6, \"rf__n_estimators\": 50, \"rfi_fs__n_features_\": 20}, {\"mean_score\": 0.8164150212930702, \"std_score\": 0.064195138462903, \"max_score\": 0.926829268292683, \"min_score\": 0.6829268292682927, \"rf__bootstrap\": \"True\", \"rf__criterion\": \"entropy\", \"rf__max_depth\": 5, \"rf__min_samples_split\": 3, \"rf__n_estimators\": 100, \"rfi_fs__n_features_\": 20}, {\"mean_score\": 0.8164150212930701, \"std_score\": 0.06267253881053327, \"max_score\": 0.926829268292683, \"min_score\": 0.6585365853658537, \"rf__bootstrap\": \"False\", \"rf__criterion\": \"entropy\", \"rf__max_depth\": 5, \"rf__min_samples_split\": 8, \"rf__n_estimators\": 100, \"rfi_fs__n_features_\": 20}, {\"mean_score\": 0.8163763066202093, \"std_score\": 0.04339457203757206, \"max_score\": 0.9024390243902439, \"min_score\": 0.7317073170731707, \"rf__bootstrap\": \"True\", \"rf__criterion\": \"entropy\", \"rf__max_depth\": 4, \"rf__min_samples_split\": 8, \"rf__n_estimators\": 10, \"rfi_fs__n_features_\": 20}, {\"mean_score\": 0.8163763066202091, \"std_score\": 0.050850304325883, \"max_score\": 0.9024390243902439, \"min_score\": 0.7073170731707317, \"rf__bootstrap\": \"True\", \"rf__criterion\": \"entropy\", \"rf__max_depth\": 2, \"rf__min_samples_split\": 6, \"rf__n_estimators\": 100, \"rfi_fs__n_features_\": 20}, {\"mean_score\": 0.8163763066202091, \"std_score\": 0.06004739364155099, \"max_score\": 0.9024390243902439, \"min_score\": 0.6829268292682927, \"rf__bootstrap\": \"False\", \"rf__criterion\": \"entropy\", \"rf__max_depth\": 3, \"rf__min_samples_split\": 6, \"rf__n_estimators\": 50, \"rfi_fs__n_features_\": 20}, {\"mean_score\": 0.8163763066202091, \"std_score\": 0.053208751179095376, \"max_score\": 0.926829268292683, \"min_score\": 0.7073170731707317, \"rf__bootstrap\": \"True\", \"rf__criterion\": \"gini\", \"rf__max_depth\": 3, \"rf__min_samples_split\": 2, \"rf__n_estimators\": 50, \"rfi_fs__n_features_\": 20}, {\"mean_score\": 0.8163763066202091, \"std_score\": 0.05800003282427782, \"max_score\": 0.926829268292683, \"min_score\": 0.7073170731707317, \"rf__bootstrap\": \"False\", \"rf__criterion\": \"gini\", \"rf__max_depth\": 5, \"rf__min_samples_split\": 8, \"rf__n_estimators\": 50, \"rfi_fs__n_features_\": 20}, {\"mean_score\": 0.8163763066202091, \"std_score\": 0.05506182013253973, \"max_score\": 0.8809523809523809, \"min_score\": 0.7073170731707317, \"rf__bootstrap\": \"False\", \"rf__criterion\": \"gini\", \"rf__max_depth\": 3, \"rf__min_samples_split\": 6, \"rf__n_estimators\": 100, \"rfi_fs__n_features_\": 20}, {\"mean_score\": 0.8163375919473483, \"std_score\": 0.05407642999227209, \"max_score\": 0.9024390243902439, \"min_score\": 0.6829268292682927, \"rf__bootstrap\": \"True\", \"rf__criterion\": \"gini\", \"rf__max_depth\": 5, \"rf__min_samples_split\": 5, \"rf__n_estimators\": 50, \"rfi_fs__n_features_\": 20}, {\"mean_score\": 0.8149438637243518, \"std_score\": 0.04407287608655958, \"max_score\": 0.8780487804878049, \"min_score\": 0.7380952380952381, \"rf__bootstrap\": \"False\", \"rf__criterion\": \"gini\", \"rf__max_depth\": 5, \"rf__min_samples_split\": 3, \"rf__n_estimators\": 10, \"rfi_fs__n_features_\": 20}, {\"mean_score\": 0.8149438637243517, \"std_score\": 0.05379807434038861, \"max_score\": 0.9024390243902439, \"min_score\": 0.7317073170731707, \"rf__bootstrap\": \"False\", \"rf__criterion\": \"gini\", \"rf__max_depth\": 4, \"rf__min_samples_split\": 3, \"rf__n_estimators\": 50, \"rfi_fs__n_features_\": 20}, {\"mean_score\": 0.8148664343786297, \"std_score\": 0.0682847815160906, \"max_score\": 0.926829268292683, \"min_score\": 0.7073170731707317, \"rf__bootstrap\": \"True\", \"rf__criterion\": \"gini\", \"rf__max_depth\": 4, \"rf__min_samples_split\": 2, \"rf__n_estimators\": 50, \"rfi_fs__n_features_\": 20}, {\"mean_score\": 0.8148664343786296, \"std_score\": 0.05331259266948129, \"max_score\": 0.9024390243902439, \"min_score\": 0.7073170731707317, \"rf__bootstrap\": \"False\", \"rf__criterion\": \"entropy\", \"rf__max_depth\": 3, \"rf__min_samples_split\": 6, \"rf__n_estimators\": 100, \"rfi_fs__n_features_\": 20}, {\"mean_score\": 0.8148664343786296, \"std_score\": 0.05249238533193985, \"max_score\": 0.9047619047619048, \"min_score\": 0.7073170731707317, \"rf__bootstrap\": \"True\", \"rf__criterion\": \"entropy\", \"rf__max_depth\": 2, \"rf__min_samples_split\": 5, \"rf__n_estimators\": 50, \"rfi_fs__n_features_\": 20}, {\"mean_score\": 0.8148277197057687, \"std_score\": 0.05417752954309068, \"max_score\": 0.926829268292683, \"min_score\": 0.7317073170731707, \"rf__bootstrap\": \"True\", \"rf__criterion\": \"entropy\", \"rf__max_depth\": 4, \"rf__min_samples_split\": 2, \"rf__n_estimators\": 50, \"rfi_fs__n_features_\": 20}, {\"mean_score\": 0.8148277197057686, \"std_score\": 0.05337061633602601, \"max_score\": 0.9047619047619048, \"min_score\": 0.7317073170731707, \"rf__bootstrap\": \"True\", \"rf__criterion\": \"entropy\", \"rf__max_depth\": 4, \"rf__min_samples_split\": 3, \"rf__n_estimators\": 100, \"rfi_fs__n_features_\": 20}, {\"mean_score\": 0.8148277197057686, \"std_score\": 0.04823677344042136, \"max_score\": 0.926829268292683, \"min_score\": 0.7560975609756098, \"rf__bootstrap\": \"True\", \"rf__criterion\": \"gini\", \"rf__max_depth\": 2, \"rf__min_samples_split\": 6, \"rf__n_estimators\": 10, \"rfi_fs__n_features_\": 20}, {\"mean_score\": 0.8148277197057686, \"std_score\": 0.05197098406632464, \"max_score\": 0.9024390243902439, \"min_score\": 0.7317073170731707, \"rf__bootstrap\": \"True\", \"rf__criterion\": \"entropy\", \"rf__max_depth\": 2, \"rf__min_samples_split\": 3, \"rf__n_estimators\": 50, \"rfi_fs__n_features_\": 20}, {\"mean_score\": 0.8148277197057685, \"std_score\": 0.053475404790622766, \"max_score\": 0.8809523809523809, \"min_score\": 0.7073170731707317, \"rf__bootstrap\": \"True\", \"rf__criterion\": \"entropy\", \"rf__max_depth\": 3, \"rf__min_samples_split\": 5, \"rf__n_estimators\": 100, \"rfi_fs__n_features_\": 20}, {\"mean_score\": 0.8147890050329077, \"std_score\": 0.0484166262214715, \"max_score\": 0.926829268292683, \"min_score\": 0.7560975609756098, \"rf__bootstrap\": \"False\", \"rf__criterion\": \"gini\", \"rf__max_depth\": 4, \"rf__min_samples_split\": 3, \"rf__n_estimators\": 10, \"rfi_fs__n_features_\": 20}, {\"mean_score\": 0.8147890050329077, \"std_score\": 0.05526570740826851, \"max_score\": 0.926829268292683, \"min_score\": 0.6829268292682927, \"rf__bootstrap\": \"False\", \"rf__criterion\": \"entropy\", \"rf__max_depth\": 2, \"rf__min_samples_split\": 5, \"rf__n_estimators\": 50, \"rfi_fs__n_features_\": 20}, {\"mean_score\": 0.8147890050329075, \"std_score\": 0.05509662451499994, \"max_score\": 0.9024390243902439, \"min_score\": 0.7073170731707317, \"rf__bootstrap\": \"True\", \"rf__criterion\": \"gini\", \"rf__max_depth\": 5, \"rf__min_samples_split\": 8, \"rf__n_estimators\": 50, \"rfi_fs__n_features_\": 20}, {\"mean_score\": 0.8147890050329075, \"std_score\": 0.055062745631406715, \"max_score\": 0.9047619047619048, \"min_score\": 0.6829268292682927, \"rf__bootstrap\": \"False\", \"rf__criterion\": \"gini\", \"rf__max_depth\": 4, \"rf__min_samples_split\": 8, \"rf__n_estimators\": 100, \"rfi_fs__n_features_\": 20}, {\"mean_score\": 0.8147890050329075, \"std_score\": 0.04830086402163016, \"max_score\": 0.9024390243902439, \"min_score\": 0.7317073170731707, \"rf__bootstrap\": \"False\", \"rf__criterion\": \"gini\", \"rf__max_depth\": 2, \"rf__min_samples_split\": 8, \"rf__n_estimators\": 100, \"rfi_fs__n_features_\": 20}, {\"mean_score\": 0.8147890050329075, \"std_score\": 0.043266552590323165, \"max_score\": 0.8780487804878049, \"min_score\": 0.7317073170731707, \"rf__bootstrap\": \"True\", \"rf__criterion\": \"entropy\", \"rf__max_depth\": 2, \"rf__min_samples_split\": 5, \"rf__n_estimators\": 100, \"rfi_fs__n_features_\": 20}, {\"mean_score\": 0.8147890050329075, \"std_score\": 0.05367247317504562, \"max_score\": 0.8809523809523809, \"min_score\": 0.7073170731707317, \"rf__bootstrap\": \"False\", \"rf__criterion\": \"entropy\", \"rf__max_depth\": 4, \"rf__min_samples_split\": 2, \"rf__n_estimators\": 100, \"rfi_fs__n_features_\": 20}, {\"mean_score\": 0.8147502903600466, \"std_score\": 0.047537771871726274, \"max_score\": 0.9047619047619048, \"min_score\": 0.7317073170731707, \"rf__bootstrap\": \"True\", \"rf__criterion\": \"entropy\", \"rf__max_depth\": 5, \"rf__min_samples_split\": 5, \"rf__n_estimators\": 100, \"rfi_fs__n_features_\": 20}, {\"mean_score\": 0.8147502903600466, \"std_score\": 0.0545316472488485, \"max_score\": 0.9024390243902439, \"min_score\": 0.6829268292682927, \"rf__bootstrap\": \"True\", \"rf__criterion\": \"gini\", \"rf__max_depth\": 5, \"rf__min_samples_split\": 5, \"rf__n_estimators\": 100, \"rfi_fs__n_features_\": 20}, {\"mean_score\": 0.8147502903600466, \"std_score\": 0.05525412580090507, \"max_score\": 0.9024390243902439, \"min_score\": 0.7073170731707317, \"rf__bootstrap\": \"False\", \"rf__criterion\": \"gini\", \"rf__max_depth\": 4, \"rf__min_samples_split\": 2, \"rf__n_estimators\": 100, \"rfi_fs__n_features_\": 20}, {\"mean_score\": 0.8147115756871856, \"std_score\": 0.058912793293737734, \"max_score\": 0.8809523809523809, \"min_score\": 0.6585365853658537, \"rf__bootstrap\": \"False\", \"rf__criterion\": \"gini\", \"rf__max_depth\": 5, \"rf__min_samples_split\": 2, \"rf__n_estimators\": 100, \"rfi_fs__n_features_\": 20}, {\"mean_score\": 0.8146728610143246, \"std_score\": 0.05614409813734126, \"max_score\": 0.9047619047619048, \"min_score\": 0.6829268292682927, \"rf__bootstrap\": \"False\", \"rf__criterion\": \"entropy\", \"rf__max_depth\": 3, \"rf__min_samples_split\": 3, \"rf__n_estimators\": 100, \"rfi_fs__n_features_\": 20}, {\"mean_score\": 0.8146728610143246, \"std_score\": 0.06144514998774838, \"max_score\": 0.9047619047619048, \"min_score\": 0.6585365853658537, \"rf__bootstrap\": \"False\", \"rf__criterion\": \"entropy\", \"rf__max_depth\": 3, \"rf__min_samples_split\": 2, \"rf__n_estimators\": 50, \"rfi_fs__n_features_\": 20}, {\"mean_score\": 0.813240418118467, \"std_score\": 0.04552825776028325, \"max_score\": 0.9024390243902439, \"min_score\": 0.7317073170731707, \"rf__bootstrap\": \"True\", \"rf__criterion\": \"entropy\", \"rf__max_depth\": 4, \"rf__min_samples_split\": 2, \"rf__n_estimators\": 10, \"rfi_fs__n_features_\": 20}, {\"mean_score\": 0.8132017034456062, \"std_score\": 0.05681198516370482, \"max_score\": 0.9047619047619048, \"min_score\": 0.7073170731707317, \"rf__bootstrap\": \"False\", \"rf__criterion\": \"entropy\", \"rf__max_depth\": 5, \"rf__min_samples_split\": 2, \"rf__n_estimators\": 50, \"rfi_fs__n_features_\": 20}, {\"mean_score\": 0.8132017034456059, \"std_score\": 0.06761858701350425, \"max_score\": 0.926829268292683, \"min_score\": 0.7073170731707317, \"rf__bootstrap\": \"False\", \"rf__criterion\": \"gini\", \"rf__max_depth\": 2, \"rf__min_samples_split\": 3, \"rf__n_estimators\": 10, \"rfi_fs__n_features_\": 20}, {\"mean_score\": 0.8132017034456059, \"std_score\": 0.05620925209718853, \"max_score\": 0.8809523809523809, \"min_score\": 0.6829268292682927, \"rf__bootstrap\": \"False\", \"rf__criterion\": \"entropy\", \"rf__max_depth\": 4, \"rf__min_samples_split\": 6, \"rf__n_estimators\": 100, \"rfi_fs__n_features_\": 20}, {\"mean_score\": 0.8132017034456059, \"std_score\": 0.04360722863435195, \"max_score\": 0.9024390243902439, \"min_score\": 0.7560975609756098, \"rf__bootstrap\": \"True\", \"rf__criterion\": \"gini\", \"rf__max_depth\": 4, \"rf__min_samples_split\": 5, \"rf__n_estimators\": 50, \"rfi_fs__n_features_\": 20}, {\"mean_score\": 0.8131629887727451, \"std_score\": 0.06431186556014218, \"max_score\": 0.926829268292683, \"min_score\": 0.6829268292682927, \"rf__bootstrap\": \"False\", \"rf__criterion\": \"gini\", \"rf__max_depth\": 4, \"rf__min_samples_split\": 2, \"rf__n_estimators\": 50, \"rfi_fs__n_features_\": 20}, {\"mean_score\": 0.8131629887727451, \"std_score\": 0.0596835874004787, \"max_score\": 0.9047619047619048, \"min_score\": 0.6829268292682927, \"rf__bootstrap\": \"False\", \"rf__criterion\": \"gini\", \"rf__max_depth\": 3, \"rf__min_samples_split\": 2, \"rf__n_estimators\": 50, \"rfi_fs__n_features_\": 20}, {\"mean_score\": 0.8131629887727451, \"std_score\": 0.04660182158972305, \"max_score\": 0.9024390243902439, \"min_score\": 0.7317073170731707, \"rf__bootstrap\": \"True\", \"rf__criterion\": \"entropy\", \"rf__max_depth\": 4, \"rf__min_samples_split\": 6, \"rf__n_estimators\": 50, \"rfi_fs__n_features_\": 20}, {\"mean_score\": 0.813162988772745, \"std_score\": 0.0609980847050903, \"max_score\": 0.926829268292683, \"min_score\": 0.7073170731707317, \"rf__bootstrap\": \"False\", \"rf__criterion\": \"gini\", \"rf__max_depth\": 4, \"rf__min_samples_split\": 5, \"rf__n_estimators\": 100, \"rfi_fs__n_features_\": 20}, {\"mean_score\": 0.8131242740998841, \"std_score\": 0.055742353440380435, \"max_score\": 0.9047619047619048, \"min_score\": 0.6829268292682927, \"rf__bootstrap\": \"True\", \"rf__criterion\": \"entropy\", \"rf__max_depth\": 4, \"rf__min_samples_split\": 2, \"rf__n_estimators\": 100, \"rfi_fs__n_features_\": 20}, {\"mean_score\": 0.813124274099884, \"std_score\": 0.060548881971477814, \"max_score\": 0.9047619047619048, \"min_score\": 0.6829268292682927, \"rf__bootstrap\": \"False\", \"rf__criterion\": \"gini\", \"rf__max_depth\": 5, \"rf__min_samples_split\": 3, \"rf__n_estimators\": 100, \"rfi_fs__n_features_\": 20}, {\"mean_score\": 0.813124274099884, \"std_score\": 0.06438793662302135, \"max_score\": 0.9047619047619048, \"min_score\": 0.6585365853658537, \"rf__bootstrap\": \"True\", \"rf__criterion\": \"entropy\", \"rf__max_depth\": 4, \"rf__min_samples_split\": 8, \"rf__n_estimators\": 100, \"rfi_fs__n_features_\": 20}, {\"mean_score\": 0.813124274099884, \"std_score\": 0.059859144373843695, \"max_score\": 0.9024390243902439, \"min_score\": 0.6585365853658537, \"rf__bootstrap\": \"True\", \"rf__criterion\": \"gini\", \"rf__max_depth\": 3, \"rf__min_samples_split\": 8, \"rf__n_estimators\": 100, \"rfi_fs__n_features_\": 20}, {\"mean_score\": 0.813085559427023, \"std_score\": 0.056601937417990314, \"max_score\": 0.9047619047619048, \"min_score\": 0.6829268292682927, \"rf__bootstrap\": \"True\", \"rf__criterion\": \"entropy\", \"rf__max_depth\": 4, \"rf__min_samples_split\": 5, \"rf__n_estimators\": 50, \"rfi_fs__n_features_\": 20}, {\"mean_score\": 0.813085559427023, \"std_score\": 0.0673868445468115, \"max_score\": 0.926829268292683, \"min_score\": 0.6829268292682927, \"rf__bootstrap\": \"False\", \"rf__criterion\": \"gini\", \"rf__max_depth\": 3, \"rf__min_samples_split\": 8, \"rf__n_estimators\": 50, \"rfi_fs__n_features_\": 20}, {\"mean_score\": 0.813085559427023, \"std_score\": 0.03536508550192323, \"max_score\": 0.8780487804878049, \"min_score\": 0.7560975609756098, \"rf__bootstrap\": \"False\", \"rf__criterion\": \"entropy\", \"rf__max_depth\": 2, \"rf__min_samples_split\": 5, \"rf__n_estimators\": 100, \"rfi_fs__n_features_\": 20}, {\"mean_score\": 0.8116918312040264, \"std_score\": 0.05151938271924977, \"max_score\": 0.9024390243902439, \"min_score\": 0.7073170731707317, \"rf__bootstrap\": \"False\", \"rf__criterion\": \"entropy\", \"rf__max_depth\": 3, \"rf__min_samples_split\": 8, \"rf__n_estimators\": 10, \"rfi_fs__n_features_\": 20}, {\"mean_score\": 0.8116531165311655, \"std_score\": 0.04587990927219981, \"max_score\": 0.8780487804878049, \"min_score\": 0.7073170731707317, \"rf__bootstrap\": \"False\", \"rf__criterion\": \"gini\", \"rf__max_depth\": 5, \"rf__min_samples_split\": 8, \"rf__n_estimators\": 100, \"rfi_fs__n_features_\": 20}, {\"mean_score\": 0.8116531165311653, \"std_score\": 0.044286099941607635, \"max_score\": 0.926829268292683, \"min_score\": 0.7560975609756098, \"rf__bootstrap\": \"False\", \"rf__criterion\": \"entropy\", \"rf__max_depth\": 5, \"rf__min_samples_split\": 3, \"rf__n_estimators\": 10, \"rfi_fs__n_features_\": 20}, {\"mean_score\": 0.8116144018583044, \"std_score\": 0.046106786122907986, \"max_score\": 0.926829268292683, \"min_score\": 0.7317073170731707, \"rf__bootstrap\": \"True\", \"rf__criterion\": \"entropy\", \"rf__max_depth\": 3, \"rf__min_samples_split\": 5, \"rf__n_estimators\": 10, \"rfi_fs__n_features_\": 20}, {\"mean_score\": 0.8115756871854436, \"std_score\": 0.06292707745710506, \"max_score\": 0.9512195121951219, \"min_score\": 0.6829268292682927, \"rf__bootstrap\": \"False\", \"rf__criterion\": \"entropy\", \"rf__max_depth\": 5, \"rf__min_samples_split\": 6, \"rf__n_estimators\": 50, \"rfi_fs__n_features_\": 20}, {\"mean_score\": 0.8115756871854436, \"std_score\": 0.04183435249819352, \"max_score\": 0.9024390243902439, \"min_score\": 0.7317073170731707, \"rf__bootstrap\": \"False\", \"rf__criterion\": \"entropy\", \"rf__max_depth\": 4, \"rf__min_samples_split\": 2, \"rf__n_estimators\": 10, \"rfi_fs__n_features_\": 20}, {\"mean_score\": 0.8115756871854435, \"std_score\": 0.0509557164942386, \"max_score\": 0.8809523809523809, \"min_score\": 0.7317073170731707, \"rf__bootstrap\": \"False\", \"rf__criterion\": \"gini\", \"rf__max_depth\": 3, \"rf__min_samples_split\": 2, \"rf__n_estimators\": 100, \"rfi_fs__n_features_\": 20}, {\"mean_score\": 0.8115756871854435, \"std_score\": 0.051980067767711226, \"max_score\": 0.8780487804878049, \"min_score\": 0.6829268292682927, \"rf__bootstrap\": \"True\", \"rf__criterion\": \"gini\", \"rf__max_depth\": 4, \"rf__min_samples_split\": 6, \"rf__n_estimators\": 50, \"rfi_fs__n_features_\": 20}, {\"mean_score\": 0.8115756871854434, \"std_score\": 0.04233332198769186, \"max_score\": 0.8809523809523809, \"min_score\": 0.7560975609756098, \"rf__bootstrap\": \"True\", \"rf__criterion\": \"gini\", \"rf__max_depth\": 3, \"rf__min_samples_split\": 2, \"rf__n_estimators\": 10, \"rfi_fs__n_features_\": 20}, {\"mean_score\": 0.8115756871854434, \"std_score\": 0.04864150077196237, \"max_score\": 0.8780487804878049, \"min_score\": 0.7073170731707317, \"rf__bootstrap\": \"False\", \"rf__criterion\": \"gini\", \"rf__max_depth\": 3, \"rf__min_samples_split\": 8, \"rf__n_estimators\": 100, \"rfi_fs__n_features_\": 20}, {\"mean_score\": 0.8115369725125825, \"std_score\": 0.059586094969373705, \"max_score\": 0.9047619047619048, \"min_score\": 0.6829268292682927, \"rf__bootstrap\": \"False\", \"rf__criterion\": \"gini\", \"rf__max_depth\": 4, \"rf__min_samples_split\": 8, \"rf__n_estimators\": 50, \"rfi_fs__n_features_\": 20}, {\"mean_score\": 0.8115369725125824, \"std_score\": 0.05261673003559747, \"max_score\": 0.8809523809523809, \"min_score\": 0.7317073170731707, \"rf__bootstrap\": \"True\", \"rf__criterion\": \"entropy\", \"rf__max_depth\": 4, \"rf__min_samples_split\": 3, \"rf__n_estimators\": 50, \"rfi_fs__n_features_\": 20}, {\"mean_score\": 0.8115369725125824, \"std_score\": 0.050230494001502486, \"max_score\": 0.9047619047619048, \"min_score\": 0.7073170731707317, \"rf__bootstrap\": \"False\", \"rf__criterion\": \"entropy\", \"rf__max_depth\": 5, \"rf__min_samples_split\": 5, \"rf__n_estimators\": 100, \"rfi_fs__n_features_\": 20}, {\"mean_score\": 0.8114982578397214, \"std_score\": 0.05912510112152574, \"max_score\": 0.9512195121951219, \"min_score\": 0.7073170731707317, \"rf__bootstrap\": \"False\", \"rf__criterion\": \"gini\", \"rf__max_depth\": 3, \"rf__min_samples_split\": 3, \"rf__n_estimators\": 50, \"rfi_fs__n_features_\": 20}, {\"mean_score\": 0.8114982578397214, \"std_score\": 0.05267307312593701, \"max_score\": 0.9047619047619048, \"min_score\": 0.7317073170731707, \"rf__bootstrap\": \"False\", \"rf__criterion\": \"gini\", \"rf__max_depth\": 3, \"rf__min_samples_split\": 5, \"rf__n_estimators\": 50, \"rfi_fs__n_features_\": 20}, {\"mean_score\": 0.8114595431668603, \"std_score\": 0.04570463487976542, \"max_score\": 0.8809523809523809, \"min_score\": 0.7073170731707317, \"rf__bootstrap\": \"True\", \"rf__criterion\": \"entropy\", \"rf__max_depth\": 5, \"rf__min_samples_split\": 2, \"rf__n_estimators\": 50, \"rfi_fs__n_features_\": 20}, {\"mean_score\": 0.8100658149438639, \"std_score\": 0.07283395840047065, \"max_score\": 0.926829268292683, \"min_score\": 0.6829268292682927, \"rf__bootstrap\": \"True\", \"rf__criterion\": \"entropy\", \"rf__max_depth\": 2, \"rf__min_samples_split\": 2, \"rf__n_estimators\": 10, \"rfi_fs__n_features_\": 20}, {\"mean_score\": 0.8100271002710028, \"std_score\": 0.055719224568665245, \"max_score\": 0.9024390243902439, \"min_score\": 0.7073170731707317, \"rf__bootstrap\": \"False\", \"rf__criterion\": \"entropy\", \"rf__max_depth\": 3, \"rf__min_samples_split\": 2, \"rf__n_estimators\": 100, \"rfi_fs__n_features_\": 20}, {\"mean_score\": 0.8099883855981419, \"std_score\": 0.06259835780921442, \"max_score\": 0.9512195121951219, \"min_score\": 0.6829268292682927, \"rf__bootstrap\": \"False\", \"rf__criterion\": \"entropy\", \"rf__max_depth\": 5, \"rf__min_samples_split\": 5, \"rf__n_estimators\": 50, \"rfi_fs__n_features_\": 20}, {\"mean_score\": 0.8099883855981418, \"std_score\": 0.05366524000610189, \"max_score\": 0.8809523809523809, \"min_score\": 0.7073170731707317, \"rf__bootstrap\": \"False\", \"rf__criterion\": \"gini\", \"rf__max_depth\": 5, \"rf__min_samples_split\": 6, \"rf__n_estimators\": 100, \"rfi_fs__n_features_\": 20}, {\"mean_score\": 0.8099496709252809, \"std_score\": 0.045988957664918825, \"max_score\": 0.9024390243902439, \"min_score\": 0.7317073170731707, \"rf__bootstrap\": \"False\", \"rf__criterion\": \"entropy\", \"rf__max_depth\": 4, \"rf__min_samples_split\": 5, \"rf__n_estimators\": 50, \"rfi_fs__n_features_\": 20}, {\"mean_score\": 0.8099496709252809, \"std_score\": 0.06261497241676572, \"max_score\": 0.926829268292683, \"min_score\": 0.6829268292682927, \"rf__bootstrap\": \"True\", \"rf__criterion\": \"entropy\", \"rf__max_depth\": 4, \"rf__min_samples_split\": 3, \"rf__n_estimators\": 10, \"rfi_fs__n_features_\": 20}, {\"mean_score\": 0.8099496709252809, \"std_score\": 0.03852497076946881, \"max_score\": 0.8780487804878049, \"min_score\": 0.7560975609756098, \"rf__bootstrap\": \"False\", \"rf__criterion\": \"entropy\", \"rf__max_depth\": 3, \"rf__min_samples_split\": 2, \"rf__n_estimators\": 10, \"rfi_fs__n_features_\": 20}, {\"mean_score\": 0.8099496709252808, \"std_score\": 0.06258516353157863, \"max_score\": 0.9024390243902439, \"min_score\": 0.6829268292682927, \"rf__bootstrap\": \"True\", \"rf__criterion\": \"gini\", \"rf__max_depth\": 5, \"rf__min_samples_split\": 6, \"rf__n_estimators\": 100, \"rfi_fs__n_features_\": 20}, {\"mean_score\": 0.8099109562524199, \"std_score\": 0.05245573877652434, \"max_score\": 0.9024390243902439, \"min_score\": 0.6829268292682927, \"rf__bootstrap\": \"True\", \"rf__criterion\": \"entropy\", \"rf__max_depth\": 3, \"rf__min_samples_split\": 2, \"rf__n_estimators\": 50, \"rfi_fs__n_features_\": 20}, {\"mean_score\": 0.8099109562524198, \"std_score\": 0.06229538539789243, \"max_score\": 0.926829268292683, \"min_score\": 0.6829268292682927, \"rf__bootstrap\": \"False\", \"rf__criterion\": \"entropy\", \"rf__max_depth\": 4, \"rf__min_samples_split\": 8, \"rf__n_estimators\": 10, \"rfi_fs__n_features_\": 20}, {\"mean_score\": 0.8099109562524198, \"std_score\": 0.0547791416423516, \"max_score\": 0.926829268292683, \"min_score\": 0.6829268292682927, \"rf__bootstrap\": \"True\", \"rf__criterion\": \"gini\", \"rf__max_depth\": 2, \"rf__min_samples_split\": 3, \"rf__n_estimators\": 50, \"rfi_fs__n_features_\": 20}, {\"mean_score\": 0.8099109562524198, \"std_score\": 0.05398122210331701, \"max_score\": 0.9024390243902439, \"min_score\": 0.6829268292682927, \"rf__bootstrap\": \"True\", \"rf__criterion\": \"entropy\", \"rf__max_depth\": 3, \"rf__min_samples_split\": 3, \"rf__n_estimators\": 100, \"rfi_fs__n_features_\": 20}, {\"mean_score\": 0.8098722415795588, \"std_score\": 0.057523073371257206, \"max_score\": 0.8809523809523809, \"min_score\": 0.6829268292682927, \"rf__bootstrap\": \"False\", \"rf__criterion\": \"entropy\", \"rf__max_depth\": 4, \"rf__min_samples_split\": 5, \"rf__n_estimators\": 100, \"rfi_fs__n_features_\": 20}, {\"mean_score\": 0.8098722415795587, \"std_score\": 0.061460125408394906, \"max_score\": 0.9047619047619048, \"min_score\": 0.6829268292682927, \"rf__bootstrap\": \"False\", \"rf__criterion\": \"entropy\", \"rf__max_depth\": 4, \"rf__min_samples_split\": 3, \"rf__n_estimators\": 50, \"rfi_fs__n_features_\": 20}, {\"mean_score\": 0.8084785133565623, \"std_score\": 0.05008721181403957, \"max_score\": 0.926829268292683, \"min_score\": 0.7317073170731707, \"rf__bootstrap\": \"True\", \"rf__criterion\": \"entropy\", \"rf__max_depth\": 3, \"rf__min_samples_split\": 2, \"rf__n_estimators\": 10, \"rfi_fs__n_features_\": 20}, {\"mean_score\": 0.8084397986837012, \"std_score\": 0.0533187773728516, \"max_score\": 0.9024390243902439, \"min_score\": 0.6829268292682927, \"rf__bootstrap\": \"False\", \"rf__criterion\": \"entropy\", \"rf__max_depth\": 3, \"rf__min_samples_split\": 6, \"rf__n_estimators\": 10, \"rfi_fs__n_features_\": 20}, {\"mean_score\": 0.8084010840108403, \"std_score\": 0.05895475671329071, \"max_score\": 0.9024390243902439, \"min_score\": 0.6829268292682927, \"rf__bootstrap\": \"False\", \"rf__criterion\": \"entropy\", \"rf__max_depth\": 5, \"rf__min_samples_split\": 3, \"rf__n_estimators\": 100, \"rfi_fs__n_features_\": 20}, {\"mean_score\": 0.8084010840108403, \"std_score\": 0.05895475671329071, \"max_score\": 0.9024390243902439, \"min_score\": 0.6585365853658537, \"rf__bootstrap\": \"False\", \"rf__criterion\": \"gini\", \"rf__max_depth\": 4, \"rf__min_samples_split\": 3, \"rf__n_estimators\": 100, \"rfi_fs__n_features_\": 20}, {\"mean_score\": 0.8083623693379793, \"std_score\": 0.051919537475612614, \"max_score\": 0.8809523809523809, \"min_score\": 0.7073170731707317, \"rf__bootstrap\": \"True\", \"rf__criterion\": \"entropy\", \"rf__max_depth\": 3, \"rf__min_samples_split\": 6, \"rf__n_estimators\": 50, \"rfi_fs__n_features_\": 20}, {\"mean_score\": 0.8083623693379792, \"std_score\": 0.052784017159217926, \"max_score\": 0.9024390243902439, \"min_score\": 0.7073170731707317, \"rf__bootstrap\": \"True\", \"rf__criterion\": \"gini\", \"rf__max_depth\": 4, \"rf__min_samples_split\": 3, \"rf__n_estimators\": 50, \"rfi_fs__n_features_\": 20}, {\"mean_score\": 0.8083236546651182, \"std_score\": 0.057229453640248826, \"max_score\": 0.9024390243902439, \"min_score\": 0.6585365853658537, \"rf__bootstrap\": \"True\", \"rf__criterion\": \"gini\", \"rf__max_depth\": 5, \"rf__min_samples_split\": 3, \"rf__n_estimators\": 50, \"rfi_fs__n_features_\": 20}, {\"mean_score\": 0.8083236546651182, \"std_score\": 0.06545189200959879, \"max_score\": 0.9047619047619048, \"min_score\": 0.6585365853658537, \"rf__bootstrap\": \"False\", \"rf__criterion\": \"gini\", \"rf__max_depth\": 3, \"rf__min_samples_split\": 6, \"rf__n_estimators\": 50, \"rfi_fs__n_features_\": 20}, {\"mean_score\": 0.8082849399922571, \"std_score\": 0.06615448385963113, \"max_score\": 0.9024390243902439, \"min_score\": 0.6829268292682927, \"rf__bootstrap\": \"True\", \"rf__criterion\": \"entropy\", \"rf__max_depth\": 5, \"rf__min_samples_split\": 3, \"rf__n_estimators\": 50, \"rfi_fs__n_features_\": 20}, {\"mean_score\": 0.8082849399922571, \"std_score\": 0.059288408937367525, \"max_score\": 0.9024390243902439, \"min_score\": 0.6829268292682927, \"rf__bootstrap\": \"True\", \"rf__criterion\": \"gini\", \"rf__max_depth\": 4, \"rf__min_samples_split\": 2, \"rf__n_estimators\": 100, \"rfi_fs__n_features_\": 20}, {\"mean_score\": 0.8082849399922571, \"std_score\": 0.05916237933360149, \"max_score\": 0.9047619047619048, \"min_score\": 0.6829268292682927, \"rf__bootstrap\": \"False\", \"rf__criterion\": \"gini\", \"rf__max_depth\": 3, \"rf__min_samples_split\": 6, \"rf__n_estimators\": 10, \"rfi_fs__n_features_\": 20}, {\"mean_score\": 0.8082849399922571, \"std_score\": 0.05303254535295885, \"max_score\": 0.8809523809523809, \"min_score\": 0.6585365853658537, \"rf__bootstrap\": \"True\", \"rf__criterion\": \"gini\", \"rf__max_depth\": 3, \"rf__min_samples_split\": 5, \"rf__n_estimators\": 50, \"rfi_fs__n_features_\": 20}, {\"mean_score\": 0.8082462253193962, \"std_score\": 0.05860046045177795, \"max_score\": 0.9047619047619048, \"min_score\": 0.7073170731707317, \"rf__bootstrap\": \"False\", \"rf__criterion\": \"gini\", \"rf__max_depth\": 4, \"rf__min_samples_split\": 5, \"rf__n_estimators\": 50, \"rfi_fs__n_features_\": 20}, {\"mean_score\": 0.8082462253193962, \"std_score\": 0.05449131120185761, \"max_score\": 0.9047619047619048, \"min_score\": 0.6829268292682927, \"rf__bootstrap\": \"False\", \"rf__criterion\": \"entropy\", \"rf__max_depth\": 5, \"rf__min_samples_split\": 2, \"rf__n_estimators\": 100, \"rfi_fs__n_features_\": 20}, {\"mean_score\": 0.8082462253193962, \"std_score\": 0.06431701588904196, \"max_score\": 0.9285714285714286, \"min_score\": 0.6829268292682927, \"rf__bootstrap\": \"False\", \"rf__criterion\": \"entropy\", \"rf__max_depth\": 4, \"rf__min_samples_split\": 8, \"rf__n_estimators\": 50, \"rfi_fs__n_features_\": 20}, {\"mean_score\": 0.8082075106465353, \"std_score\": 0.041527762638818896, \"max_score\": 0.8809523809523809, \"min_score\": 0.7317073170731707, \"rf__bootstrap\": \"False\", \"rf__criterion\": \"entropy\", \"rf__max_depth\": 2, \"rf__min_samples_split\": 2, \"rf__n_estimators\": 50, \"rfi_fs__n_features_\": 20}, {\"mean_score\": 0.8082075106465353, \"std_score\": 0.05468005902427789, \"max_score\": 0.8809523809523809, \"min_score\": 0.6829268292682927, \"rf__bootstrap\": \"True\", \"rf__criterion\": \"entropy\", \"rf__max_depth\": 3, \"rf__min_samples_split\": 8, \"rf__n_estimators\": 50, \"rfi_fs__n_features_\": 20}, {\"mean_score\": 0.8081300813008132, \"std_score\": 0.05701232143496281, \"max_score\": 0.9047619047619048, \"min_score\": 0.6829268292682927, \"rf__bootstrap\": \"True\", \"rf__criterion\": \"entropy\", \"rf__max_depth\": 2, \"rf__min_samples_split\": 6, \"rf__n_estimators\": 10, \"rfi_fs__n_features_\": 20}, {\"mean_score\": 0.8068137824235387, \"std_score\": 0.04991160729852071, \"max_score\": 0.8780487804878049, \"min_score\": 0.7073170731707317, \"rf__bootstrap\": \"False\", \"rf__criterion\": \"gini\", \"rf__max_depth\": 3, \"rf__min_samples_split\": 2, \"rf__n_estimators\": 10, \"rfi_fs__n_features_\": 20}, {\"mean_score\": 0.8068137824235386, \"std_score\": 0.03913936629498772, \"max_score\": 0.8780487804878049, \"min_score\": 0.7317073170731707, \"rf__bootstrap\": \"True\", \"rf__criterion\": \"gini\", \"rf__max_depth\": 4, \"rf__min_samples_split\": 6, \"rf__n_estimators\": 10, \"rfi_fs__n_features_\": 20}, {\"mean_score\": 0.8067750677506776, \"std_score\": 0.05856525588007006, \"max_score\": 0.926829268292683, \"min_score\": 0.7073170731707317, \"rf__bootstrap\": \"False\", \"rf__criterion\": \"entropy\", \"rf__max_depth\": 2, \"rf__min_samples_split\": 3, \"rf__n_estimators\": 10, \"rfi_fs__n_features_\": 20}, {\"mean_score\": 0.8067750677506776, \"std_score\": 0.05156649097690742, \"max_score\": 0.926829268292683, \"min_score\": 0.7317073170731707, \"rf__bootstrap\": \"False\", \"rf__criterion\": \"gini\", \"rf__max_depth\": 4, \"rf__min_samples_split\": 6, \"rf__n_estimators\": 10, \"rfi_fs__n_features_\": 20}, {\"mean_score\": 0.8067363530778167, \"std_score\": 0.05274703332733245, \"max_score\": 0.9047619047619048, \"min_score\": 0.7142857142857143, \"rf__bootstrap\": \"False\", \"rf__criterion\": \"gini\", \"rf__max_depth\": 2, \"rf__min_samples_split\": 5, \"rf__n_estimators\": 10, \"rfi_fs__n_features_\": 20}, {\"mean_score\": 0.8066976384049557, \"std_score\": 0.0435397404259339, \"max_score\": 0.8780487804878049, \"min_score\": 0.7317073170731707, \"rf__bootstrap\": \"False\", \"rf__criterion\": \"entropy\", \"rf__max_depth\": 2, \"rf__min_samples_split\": 8, \"rf__n_estimators\": 50, \"rfi_fs__n_features_\": 20}, {\"mean_score\": 0.8066589237320946, \"std_score\": 0.056305883390332365, \"max_score\": 0.9024390243902439, \"min_score\": 0.7073170731707317, \"rf__bootstrap\": \"True\", \"rf__criterion\": \"entropy\", \"rf__max_depth\": 5, \"rf__min_samples_split\": 8, \"rf__n_estimators\": 50, \"rfi_fs__n_features_\": 20}, {\"mean_score\": 0.805303910181959, \"std_score\": 0.05635617150097943, \"max_score\": 0.9024390243902439, \"min_score\": 0.7073170731707317, \"rf__bootstrap\": \"False\", \"rf__criterion\": \"gini\", \"rf__max_depth\": 2, \"rf__min_samples_split\": 8, \"rf__n_estimators\": 10, \"rfi_fs__n_features_\": 20}, {\"mean_score\": 0.8051877661633762, \"std_score\": 0.04520667110248312, \"max_score\": 0.8780487804878049, \"min_score\": 0.7317073170731707, \"rf__bootstrap\": \"True\", \"rf__criterion\": \"gini\", \"rf__max_depth\": 2, \"rf__min_samples_split\": 3, \"rf__n_estimators\": 10, \"rfi_fs__n_features_\": 20}, {\"mean_score\": 0.8051490514905151, \"std_score\": 0.06010864096189939, \"max_score\": 0.9047619047619048, \"min_score\": 0.6585365853658537, \"rf__bootstrap\": \"False\", \"rf__criterion\": \"gini\", \"rf__max_depth\": 3, \"rf__min_samples_split\": 5, \"rf__n_estimators\": 10, \"rfi_fs__n_features_\": 20}, {\"mean_score\": 0.8051490514905151, \"std_score\": 0.06528797710906087, \"max_score\": 0.9047619047619048, \"min_score\": 0.6829268292682927, \"rf__bootstrap\": \"True\", \"rf__criterion\": \"gini\", \"rf__max_depth\": 4, \"rf__min_samples_split\": 5, \"rf__n_estimators\": 100, \"rfi_fs__n_features_\": 20}, {\"mean_score\": 0.8051490514905151, \"std_score\": 0.053067296693111166, \"max_score\": 0.9285714285714286, \"min_score\": 0.7317073170731707, \"rf__bootstrap\": \"True\", \"rf__criterion\": \"gini\", \"rf__max_depth\": 2, \"rf__min_samples_split\": 8, \"rf__n_estimators\": 10, \"rfi_fs__n_features_\": 20}, {\"mean_score\": 0.805149051490515, \"std_score\": 0.05793474550603368, \"max_score\": 0.9285714285714286, \"min_score\": 0.7380952380952381, \"rf__bootstrap\": \"True\", \"rf__criterion\": \"gini\", \"rf__max_depth\": 2, \"rf__min_samples_split\": 2, \"rf__n_estimators\": 10, \"rfi_fs__n_features_\": 20}, {\"mean_score\": 0.8051103368176541, \"std_score\": 0.045614100077249246, \"max_score\": 0.9024390243902439, \"min_score\": 0.7317073170731707, \"rf__bootstrap\": \"True\", \"rf__criterion\": \"entropy\", \"rf__max_depth\": 4, \"rf__min_samples_split\": 6, \"rf__n_estimators\": 10, \"rfi_fs__n_features_\": 20}, {\"mean_score\": 0.8051103368176541, \"std_score\": 0.04401066574218213, \"max_score\": 0.926829268292683, \"min_score\": 0.7317073170731707, \"rf__bootstrap\": \"False\", \"rf__criterion\": \"entropy\", \"rf__max_depth\": 3, \"rf__min_samples_split\": 5, \"rf__n_estimators\": 10, \"rfi_fs__n_features_\": 20}, {\"mean_score\": 0.8051103368176541, \"std_score\": 0.05852621444548705, \"max_score\": 0.926829268292683, \"min_score\": 0.6585365853658537, \"rf__bootstrap\": \"True\", \"rf__criterion\": \"entropy\", \"rf__max_depth\": 5, \"rf__min_samples_split\": 2, \"rf__n_estimators\": 10, \"rfi_fs__n_features_\": 20}, {\"mean_score\": 0.805110336817654, \"std_score\": 0.0455322080828673, \"max_score\": 0.8809523809523809, \"min_score\": 0.7073170731707317, \"rf__bootstrap\": \"True\", \"rf__criterion\": \"gini\", \"rf__max_depth\": 3, \"rf__min_samples_split\": 3, \"rf__n_estimators\": 100, \"rfi_fs__n_features_\": 20}, {\"mean_score\": 0.805110336817654, \"std_score\": 0.05712223707228608, \"max_score\": 0.9024390243902439, \"min_score\": 0.6829268292682927, \"rf__bootstrap\": \"False\", \"rf__criterion\": \"gini\", \"rf__max_depth\": 5, \"rf__min_samples_split\": 5, \"rf__n_estimators\": 100, \"rfi_fs__n_features_\": 20}, {\"mean_score\": 0.805110336817654, \"std_score\": 0.04392578452474471, \"max_score\": 0.9024390243902439, \"min_score\": 0.7073170731707317, \"rf__bootstrap\": \"True\", \"rf__criterion\": \"gini\", \"rf__max_depth\": 4, \"rf__min_samples_split\": 5, \"rf__n_estimators\": 10, \"rfi_fs__n_features_\": 20}, {\"mean_score\": 0.805110336817654, \"std_score\": 0.05510165694902417, \"max_score\": 0.926829268292683, \"min_score\": 0.7073170731707317, \"rf__bootstrap\": \"True\", \"rf__criterion\": \"gini\", \"rf__max_depth\": 4, \"rf__min_samples_split\": 3, \"rf__n_estimators\": 10, \"rfi_fs__n_features_\": 20}, {\"mean_score\": 0.805110336817654, \"std_score\": 0.06424937622288657, \"max_score\": 0.9024390243902439, \"min_score\": 0.6585365853658537, \"rf__bootstrap\": \"True\", \"rf__criterion\": \"gini\", \"rf__max_depth\": 5, \"rf__min_samples_split\": 2, \"rf__n_estimators\": 50, \"rfi_fs__n_features_\": 20}, {\"mean_score\": 0.805110336817654, \"std_score\": 0.056588801756023405, \"max_score\": 0.9024390243902439, \"min_score\": 0.7073170731707317, \"rf__bootstrap\": \"False\", \"rf__criterion\": \"gini\", \"rf__max_depth\": 5, \"rf__min_samples_split\": 6, \"rf__n_estimators\": 50, \"rfi_fs__n_features_\": 20}, {\"mean_score\": 0.804994192799071, \"std_score\": 0.05895084139134672, \"max_score\": 0.9024390243902439, \"min_score\": 0.6585365853658537, \"rf__bootstrap\": \"False\", \"rf__criterion\": \"gini\", \"rf__max_depth\": 5, \"rf__min_samples_split\": 2, \"rf__n_estimators\": 50, \"rfi_fs__n_features_\": 20}, {\"mean_score\": 0.804994192799071, \"std_score\": 0.06155275046386968, \"max_score\": 0.926829268292683, \"min_score\": 0.6829268292682927, \"rf__bootstrap\": \"False\", \"rf__criterion\": \"entropy\", \"rf__max_depth\": 2, \"rf__min_samples_split\": 6, \"rf__n_estimators\": 10, \"rfi_fs__n_features_\": 20}, {\"mean_score\": 0.8036391792489356, \"std_score\": 0.04621056396217999, \"max_score\": 0.926829268292683, \"min_score\": 0.7380952380952381, \"rf__bootstrap\": \"True\", \"rf__criterion\": \"gini\", \"rf__max_depth\": 5, \"rf__min_samples_split\": 6, \"rf__n_estimators\": 10, \"rfi_fs__n_features_\": 20}, {\"mean_score\": 0.8036004645760744, \"std_score\": 0.053288549847617654, \"max_score\": 0.9024390243902439, \"min_score\": 0.7317073170731707, \"rf__bootstrap\": \"False\", \"rf__criterion\": \"entropy\", \"rf__max_depth\": 4, \"rf__min_samples_split\": 6, \"rf__n_estimators\": 10, \"rfi_fs__n_features_\": 20}, {\"mean_score\": 0.8034843205574914, \"std_score\": 0.06642375154938933, \"max_score\": 0.9024390243902439, \"min_score\": 0.6428571428571429, \"rf__bootstrap\": \"True\", \"rf__criterion\": \"gini\", \"rf__max_depth\": 4, \"rf__min_samples_split\": 2, \"rf__n_estimators\": 10, \"rfi_fs__n_features_\": 20}, {\"mean_score\": 0.8034843205574913, \"std_score\": 0.05544333152936675, \"max_score\": 0.9024390243902439, \"min_score\": 0.6829268292682927, \"rf__bootstrap\": \"False\", \"rf__criterion\": \"gini\", \"rf__max_depth\": 5, \"rf__min_samples_split\": 5, \"rf__n_estimators\": 50, \"rfi_fs__n_features_\": 20}, {\"mean_score\": 0.8034456058846303, \"std_score\": 0.04871216694220913, \"max_score\": 0.8780487804878049, \"min_score\": 0.7073170731707317, \"rf__bootstrap\": \"True\", \"rf__criterion\": \"gini\", \"rf__max_depth\": 3, \"rf__min_samples_split\": 6, \"rf__n_estimators\": 10, \"rfi_fs__n_features_\": 20}, {\"mean_score\": 0.8019357336430508, \"std_score\": 0.05472074896970873, \"max_score\": 0.9024390243902439, \"min_score\": 0.7317073170731707, \"rf__bootstrap\": \"False\", \"rf__criterion\": \"gini\", \"rf__max_depth\": 3, \"rf__min_samples_split\": 8, \"rf__n_estimators\": 10, \"rfi_fs__n_features_\": 20}, {\"mean_score\": 0.8019357336430507, \"std_score\": 0.06058795590025732, \"max_score\": 0.9047619047619048, \"min_score\": 0.7073170731707317, \"rf__bootstrap\": \"False\", \"rf__criterion\": \"entropy\", \"rf__max_depth\": 4, \"rf__min_samples_split\": 6, \"rf__n_estimators\": 50, \"rfi_fs__n_features_\": 20}, {\"mean_score\": 0.8018195896244679, \"std_score\": 0.049043163250561225, \"max_score\": 0.9024390243902439, \"min_score\": 0.7073170731707317, \"rf__bootstrap\": \"True\", \"rf__criterion\": \"entropy\", \"rf__max_depth\": 3, \"rf__min_samples_split\": 3, \"rf__n_estimators\": 10, \"rfi_fs__n_features_\": 20}, {\"mean_score\": 0.8018195896244679, \"std_score\": 0.05108421255503864, \"max_score\": 0.9285714285714286, \"min_score\": 0.7317073170731707, \"rf__bootstrap\": \"False\", \"rf__criterion\": \"entropy\", \"rf__max_depth\": 5, \"rf__min_samples_split\": 8, \"rf__n_estimators\": 10, \"rfi_fs__n_features_\": 20}, {\"mean_score\": 0.8018195896244679, \"std_score\": 0.049081197398791014, \"max_score\": 0.8780487804878049, \"min_score\": 0.7073170731707317, \"rf__bootstrap\": \"False\", \"rf__criterion\": \"entropy\", \"rf__max_depth\": 2, \"rf__min_samples_split\": 5, \"rf__n_estimators\": 10, \"rfi_fs__n_features_\": 20}, {\"mean_score\": 0.8017808749516068, \"std_score\": 0.05719888201987063, \"max_score\": 0.9047619047619048, \"min_score\": 0.7073170731707317, \"rf__bootstrap\": \"False\", \"rf__criterion\": \"gini\", \"rf__max_depth\": 5, \"rf__min_samples_split\": 3, \"rf__n_estimators\": 50, \"rfi_fs__n_features_\": 20}, {\"mean_score\": 0.8017034456058848, \"std_score\": 0.06151499597166311, \"max_score\": 0.9024390243902439, \"min_score\": 0.6829268292682927, \"rf__bootstrap\": \"False\", \"rf__criterion\": \"entropy\", \"rf__max_depth\": 3, \"rf__min_samples_split\": 3, \"rf__n_estimators\": 10, \"rfi_fs__n_features_\": 20}, {\"mean_score\": 0.8003871467286102, \"std_score\": 0.05720980794513549, \"max_score\": 0.9047619047619048, \"min_score\": 0.7317073170731707, \"rf__bootstrap\": \"False\", \"rf__criterion\": \"gini\", \"rf__max_depth\": 4, \"rf__min_samples_split\": 2, \"rf__n_estimators\": 10, \"rfi_fs__n_features_\": 20}, {\"mean_score\": 0.8003484320557492, \"std_score\": 0.036706042639473906, \"max_score\": 0.8780487804878049, \"min_score\": 0.7380952380952381, \"rf__bootstrap\": \"True\", \"rf__criterion\": \"gini\", \"rf__max_depth\": 5, \"rf__min_samples_split\": 8, \"rf__n_estimators\": 10, \"rfi_fs__n_features_\": 20}, {\"mean_score\": 0.8002322880371663, \"std_score\": 0.05299910041261733, \"max_score\": 0.9024390243902439, \"min_score\": 0.7073170731707317, \"rf__bootstrap\": \"False\", \"rf__criterion\": \"entropy\", \"rf__max_depth\": 5, \"rf__min_samples_split\": 5, \"rf__n_estimators\": 10, \"rfi_fs__n_features_\": 20}, {\"mean_score\": 0.8002322880371663, \"std_score\": 0.050065571853926495, \"max_score\": 0.8780487804878049, \"min_score\": 0.6829268292682927, \"rf__bootstrap\": \"False\", \"rf__criterion\": \"entropy\", \"rf__max_depth\": 3, \"rf__min_samples_split\": 5, \"rf__n_estimators\": 50, \"rfi_fs__n_features_\": 20}, {\"mean_score\": 0.8001935733643053, \"std_score\": 0.0594268841244262, \"max_score\": 0.9024390243902439, \"min_score\": 0.6829268292682927, \"rf__bootstrap\": \"False\", \"rf__criterion\": \"gini\", \"rf__max_depth\": 2, \"rf__min_samples_split\": 2, \"rf__n_estimators\": 10, \"rfi_fs__n_features_\": 20}, {\"mean_score\": 0.7987998451413086, \"std_score\": 0.046117057414248076, \"max_score\": 0.9024390243902439, \"min_score\": 0.7073170731707317, \"rf__bootstrap\": \"False\", \"rf__criterion\": \"gini\", \"rf__max_depth\": 4, \"rf__min_samples_split\": 5, \"rf__n_estimators\": 10, \"rfi_fs__n_features_\": 20}, {\"mean_score\": 0.7987611304684477, \"std_score\": 0.06487620473638636, \"max_score\": 0.9024390243902439, \"min_score\": 0.6585365853658537, \"rf__bootstrap\": \"True\", \"rf__criterion\": \"gini\", \"rf__max_depth\": 3, \"rf__min_samples_split\": 3, \"rf__n_estimators\": 10, \"rfi_fs__n_features_\": 20}, {\"mean_score\": 0.7987611304684475, \"std_score\": 0.04856425104556017, \"max_score\": 0.9024390243902439, \"min_score\": 0.7380952380952381, \"rf__bootstrap\": \"False\", \"rf__criterion\": \"entropy\", \"rf__max_depth\": 4, \"rf__min_samples_split\": 3, \"rf__n_estimators\": 10, \"rfi_fs__n_features_\": 20}, {\"mean_score\": 0.7986837011227256, \"std_score\": 0.04190726984233478, \"max_score\": 0.8809523809523809, \"min_score\": 0.7560975609756098, \"rf__bootstrap\": \"True\", \"rf__criterion\": \"entropy\", \"rf__max_depth\": 4, \"rf__min_samples_split\": 5, \"rf__n_estimators\": 10, \"rfi_fs__n_features_\": 20}, {\"mean_score\": 0.7986837011227255, \"std_score\": 0.04371639191263573, \"max_score\": 0.9047619047619048, \"min_score\": 0.7317073170731707, \"rf__bootstrap\": \"True\", \"rf__criterion\": \"gini\", \"rf__max_depth\": 5, \"rf__min_samples_split\": 3, \"rf__n_estimators\": 10, \"rfi_fs__n_features_\": 20}, {\"mean_score\": 0.7986062717770037, \"std_score\": 0.04926213555177433, \"max_score\": 0.8809523809523809, \"min_score\": 0.7317073170731707, \"rf__bootstrap\": \"True\", \"rf__criterion\": \"gini\", \"rf__max_depth\": 3, \"rf__min_samples_split\": 8, \"rf__n_estimators\": 10, \"rfi_fs__n_features_\": 20}, {\"mean_score\": 0.7974061169183121, \"std_score\": 0.052088517008292805, \"max_score\": 0.9024390243902439, \"min_score\": 0.7142857142857143, \"rf__bootstrap\": \"False\", \"rf__criterion\": \"gini\", \"rf__max_depth\": 3, \"rf__min_samples_split\": 3, \"rf__n_estimators\": 10, \"rfi_fs__n_features_\": 20}, {\"mean_score\": 0.797096399535424, \"std_score\": 0.04789200636597042, \"max_score\": 0.9047619047619048, \"min_score\": 0.7142857142857143, \"rf__bootstrap\": \"True\", \"rf__criterion\": \"gini\", \"rf__max_depth\": 3, \"rf__min_samples_split\": 5, \"rf__n_estimators\": 10, \"rfi_fs__n_features_\": 20}, {\"mean_score\": 0.797018970189702, \"std_score\": 0.039902340190442386, \"max_score\": 0.8780487804878049, \"min_score\": 0.7073170731707317, \"rf__bootstrap\": \"True\", \"rf__criterion\": \"entropy\", \"rf__max_depth\": 5, \"rf__min_samples_split\": 8, \"rf__n_estimators\": 10, \"rfi_fs__n_features_\": 20}, {\"mean_score\": 0.7970189701897019, \"std_score\": 0.045146952709424766, \"max_score\": 0.8809523809523809, \"min_score\": 0.7073170731707317, \"rf__bootstrap\": \"True\", \"rf__criterion\": \"entropy\", \"rf__max_depth\": 2, \"rf__min_samples_split\": 3, \"rf__n_estimators\": 10, \"rfi_fs__n_features_\": 20}, {\"mean_score\": 0.7970189701897019, \"std_score\": 0.048456729681116896, \"max_score\": 0.8809523809523809, \"min_score\": 0.7073170731707317, \"rf__bootstrap\": \"True\", \"rf__criterion\": \"entropy\", \"rf__max_depth\": 2, \"rf__min_samples_split\": 8, \"rf__n_estimators\": 10, \"rfi_fs__n_features_\": 20}, {\"mean_score\": 0.7956639566395665, \"std_score\": 0.05358754065020889, \"max_score\": 0.9024390243902439, \"min_score\": 0.7317073170731707, \"rf__bootstrap\": \"True\", \"rf__criterion\": \"gini\", \"rf__max_depth\": 5, \"rf__min_samples_split\": 5, \"rf__n_estimators\": 10, \"rfi_fs__n_features_\": 20}, {\"mean_score\": 0.7954703832752615, \"std_score\": 0.04997576935523488, \"max_score\": 0.8780487804878049, \"min_score\": 0.7317073170731707, \"rf__bootstrap\": \"False\", \"rf__criterion\": \"entropy\", \"rf__max_depth\": 2, \"rf__min_samples_split\": 2, \"rf__n_estimators\": 10, \"rfi_fs__n_features_\": 20}, {\"mean_score\": 0.7954703832752615, \"std_score\": 0.04249834331324486, \"max_score\": 0.9024390243902439, \"min_score\": 0.7317073170731707, \"rf__bootstrap\": \"False\", \"rf__criterion\": \"entropy\", \"rf__max_depth\": 4, \"rf__min_samples_split\": 5, \"rf__n_estimators\": 10, \"rfi_fs__n_features_\": 20}, {\"mean_score\": 0.7954703832752613, \"std_score\": 0.059151104582810976, \"max_score\": 0.9024390243902439, \"min_score\": 0.6829268292682927, \"rf__bootstrap\": \"True\", \"rf__criterion\": \"entropy\", \"rf__max_depth\": 2, \"rf__min_samples_split\": 5, \"rf__n_estimators\": 10, \"rfi_fs__n_features_\": 20}, {\"mean_score\": 0.794037940379404, \"std_score\": 0.05379222337715917, \"max_score\": 0.9024390243902439, \"min_score\": 0.7073170731707317, \"rf__bootstrap\": \"False\", \"rf__criterion\": \"gini\", \"rf__max_depth\": 4, \"rf__min_samples_split\": 8, \"rf__n_estimators\": 10, \"rfi_fs__n_features_\": 20}, {\"mean_score\": 0.7937669376693769, \"std_score\": 0.06217118425439271, \"max_score\": 0.9024390243902439, \"min_score\": 0.6585365853658537, \"rf__bootstrap\": \"True\", \"rf__criterion\": \"entropy\", \"rf__max_depth\": 5, \"rf__min_samples_split\": 5, \"rf__n_estimators\": 50, \"rfi_fs__n_features_\": 20}, {\"mean_score\": 0.7937669376693768, \"std_score\": 0.05782404150047715, \"max_score\": 0.9024390243902439, \"min_score\": 0.7073170731707317, \"rf__bootstrap\": \"False\", \"rf__criterion\": \"entropy\", \"rf__max_depth\": 5, \"rf__min_samples_split\": 6, \"rf__n_estimators\": 10, \"rfi_fs__n_features_\": 20}, {\"mean_score\": 0.7922570654277972, \"std_score\": 0.06553736641847804, \"max_score\": 0.926829268292683, \"min_score\": 0.6829268292682927, \"rf__bootstrap\": \"False\", \"rf__criterion\": \"entropy\", \"rf__max_depth\": 2, \"rf__min_samples_split\": 8, \"rf__n_estimators\": 10, \"rfi_fs__n_features_\": 20}, {\"mean_score\": 0.7908633372048006, \"std_score\": 0.055228838540697704, \"max_score\": 0.9024390243902439, \"min_score\": 0.6428571428571429, \"rf__bootstrap\": \"False\", \"rf__criterion\": \"gini\", \"rf__max_depth\": 5, \"rf__min_samples_split\": 5, \"rf__n_estimators\": 10, \"rfi_fs__n_features_\": 20}, {\"mean_score\": 0.7907471931862176, \"std_score\": 0.05173850666070153, \"max_score\": 0.9024390243902439, \"min_score\": 0.7142857142857143, \"rf__bootstrap\": \"False\", \"rf__criterion\": \"entropy\", \"rf__max_depth\": 5, \"rf__min_samples_split\": 2, \"rf__n_estimators\": 10, \"rfi_fs__n_features_\": 20}, {\"mean_score\": 0.7907084785133567, \"std_score\": 0.045363520410109104, \"max_score\": 0.9024390243902439, \"min_score\": 0.7317073170731707, \"rf__bootstrap\": \"False\", \"rf__criterion\": \"gini\", \"rf__max_depth\": 5, \"rf__min_samples_split\": 8, \"rf__n_estimators\": 10, \"rfi_fs__n_features_\": 20}, {\"mean_score\": 0.7905923344947736, \"std_score\": 0.05442385278498481, \"max_score\": 0.8571428571428571, \"min_score\": 0.6829268292682927, \"rf__bootstrap\": \"True\", \"rf__criterion\": \"gini\", \"rf__max_depth\": 4, \"rf__min_samples_split\": 8, \"rf__n_estimators\": 10, \"rfi_fs__n_features_\": 20}, {\"mean_score\": 0.7891986062717771, \"std_score\": 0.039025081571222864, \"max_score\": 0.8536585365853658, \"min_score\": 0.7317073170731707, \"rf__bootstrap\": \"False\", \"rf__criterion\": \"gini\", \"rf__max_depth\": 5, \"rf__min_samples_split\": 2, \"rf__n_estimators\": 10, \"rfi_fs__n_features_\": 20}, {\"mean_score\": 0.789121176926055, \"std_score\": 0.05763750209144697, \"max_score\": 0.8571428571428571, \"min_score\": 0.6428571428571429, \"rf__bootstrap\": \"True\", \"rf__criterion\": \"entropy\", \"rf__max_depth\": 3, \"rf__min_samples_split\": 6, \"rf__n_estimators\": 10, \"rfi_fs__n_features_\": 20}, {\"mean_score\": 0.7890824622531941, \"std_score\": 0.05234742040697168, \"max_score\": 0.8571428571428571, \"min_score\": 0.6585365853658537, \"rf__bootstrap\": \"True\", \"rf__criterion\": \"entropy\", \"rf__max_depth\": 5, \"rf__min_samples_split\": 6, \"rf__n_estimators\": 10, \"rfi_fs__n_features_\": 20}, {\"mean_score\": 0.7890824622531939, \"std_score\": 0.04425234444867251, \"max_score\": 0.8780487804878049, \"min_score\": 0.7380952380952381, \"rf__bootstrap\": \"True\", \"rf__criterion\": \"gini\", \"rf__max_depth\": 5, \"rf__min_samples_split\": 2, \"rf__n_estimators\": 10, \"rfi_fs__n_features_\": 20}, {\"mean_score\": 0.7890050329074719, \"std_score\": 0.04220130202850851, \"max_score\": 0.8780487804878049, \"min_score\": 0.7073170731707317, \"rf__bootstrap\": \"False\", \"rf__criterion\": \"gini\", \"rf__max_depth\": 5, \"rf__min_samples_split\": 6, \"rf__n_estimators\": 10, \"rfi_fs__n_features_\": 20}, {\"mean_score\": 0.788888888888889, \"std_score\": 0.07491300202768772, \"max_score\": 0.926829268292683, \"min_score\": 0.6585365853658537, \"rf__bootstrap\": \"False\", \"rf__criterion\": \"gini\", \"rf__max_depth\": 2, \"rf__min_samples_split\": 6, \"rf__n_estimators\": 10, \"rfi_fs__n_features_\": 20}, {\"mean_score\": 0.7855981416957029, \"std_score\": 0.0405996032299779, \"max_score\": 0.8571428571428571, \"min_score\": 0.7317073170731707, \"rf__bootstrap\": \"True\", \"rf__criterion\": \"entropy\", \"rf__max_depth\": 5, \"rf__min_samples_split\": 5, \"rf__n_estimators\": 10, \"rfi_fs__n_features_\": 20}]}}, {\"mode\": \"vega-lite\"});\n",
       "</script>"
      ],
      "text/plain": [
       "alt.Chart(...)"
      ]
     },
     "execution_count": 66,
     "metadata": {},
     "output_type": "execute_result"
    }
   ],
   "source": [
    "results_RF = get_search_results(gs_pipe_RF)\n",
    "\n",
    "results_RF_20_features = results_RF[results_RF['rfi_fs__n_features_'] == 20.0]\n",
    "\n",
    "alt.Chart(results_RF_20_features, \n",
    "          title='RF Performance Comparison with 20 Features'\n",
    "         ).mark_line(point=True).encode(\n",
    "    alt.X('rf__min_samples_split', title='Min Samples for Split'),\n",
    "    alt.Y('mean_score', title='Accuracy', scale=alt.Scale(zero=False)),\n",
    "    alt.Color('rf__max_depth:N', title='Max Depth')\n",
    ")"
   ]
  },
  {
   "cell_type": "markdown",
   "metadata": {},
   "source": [
    "From the above graph we can conclude that Random Forest shows a comparable performance with minimum samples split at 3 as well as 8. Even so, the maximum accuracy achieved is at the minimum sample value 8 alongwith max depth of 2."
   ]
  },
  {
   "cell_type": "markdown",
   "metadata": {},
   "source": [
    "### Model Performance on Test Data"
   ]
  },
  {
   "cell_type": "code",
   "execution_count": 67,
   "metadata": {},
   "outputs": [
    {
     "data": {
      "text/plain": [
       "0.7296296296296296"
      ]
     },
     "execution_count": 67,
     "metadata": {},
     "output_type": "execute_result"
    }
   ],
   "source": [
    "from sklearn.model_selection import cross_val_score\n",
    "\n",
    "cv_method_ttest = RepeatedStratifiedKFold(n_splits=5, \n",
    "                                    n_repeats=3, \n",
    "                                    random_state=999)\n",
    "\n",
    "cv_results_KNN = cross_val_score(estimator=gs_pipe_KNN.best_estimator_,\n",
    "                                 X=D_test,\n",
    "                                 y=t_test, \n",
    "                                 cv=cv_method_ttest, \n",
    "                                 n_jobs=-2,\n",
    "                                 scoring='accuracy')\n",
    "cv_results_KNN.mean()"
   ]
  },
  {
   "cell_type": "code",
   "execution_count": 68,
   "metadata": {},
   "outputs": [
    {
     "data": {
      "text/plain": [
       "0.8407407407407408"
      ]
     },
     "execution_count": 68,
     "metadata": {},
     "output_type": "execute_result"
    }
   ],
   "source": [
    "Data_sample_test_transformed = PowerTransformer().fit_transform(D_test)\n",
    "\n",
    "cv_results_NB = cross_val_score(estimator=gs_pipe_NB.best_estimator_,\n",
    "                                X=Data_sample_test_transformed,\n",
    "                                y=t_test, \n",
    "                                cv=cv_method_ttest, \n",
    "                                n_jobs=-2,\n",
    "                                scoring='accuracy')\n",
    "cv_results_NB.mean()"
   ]
  },
  {
   "cell_type": "code",
   "execution_count": 69,
   "metadata": {},
   "outputs": [
    {
     "data": {
      "text/plain": [
       "0.7074074074074074"
      ]
     },
     "execution_count": 69,
     "metadata": {},
     "output_type": "execute_result"
    }
   ],
   "source": [
    "cv_results_DT = cross_val_score(estimator=gs_pipe_DT.best_estimator_,\n",
    "                                X=D_test,\n",
    "                                y=t_test, \n",
    "                                cv=cv_method_ttest, \n",
    "                                n_jobs=-2,\n",
    "                                scoring='accuracy')\n",
    "cv_results_DT.mean()"
   ]
  },
  {
   "cell_type": "code",
   "execution_count": 70,
   "metadata": {},
   "outputs": [
    {
     "data": {
      "text/plain": [
       "0.837037037037037"
      ]
     },
     "execution_count": 70,
     "metadata": {},
     "output_type": "execute_result"
    }
   ],
   "source": [
    "cv_results_RF = cross_val_score(estimator=gs_pipe_RF.best_estimator_,\n",
    "                                X=D_test,\n",
    "                                y=t_test, \n",
    "                                cv=cv_method_ttest, \n",
    "                                n_jobs=-2,\n",
    "                                scoring='accuracy')\n",
    "cv_results_RF.mean()"
   ]
  },
  {
   "cell_type": "markdown",
   "metadata": {},
   "source": [
    "# Model Comparison <a class=\"anchor\" id=\"6\"></a> "
   ]
  },
  {
   "cell_type": "markdown",
   "metadata": {},
   "source": [
    "## Statistical T-Test method for Model Performance Comparison"
   ]
  },
  {
   "cell_type": "markdown",
   "metadata": {},
   "source": [
    "* After performing the test on all four classifiers by considering the training data , we now use the test data in cross- validation way. \n",
    "* In order to avoid the randomness encountered due to cross validation we perform paired t- tests in order to understand if the difference between the performance is statistically significant for any of the classifiers.\n",
    "* For comparing the performance we will check the p value usint paired t tests. \n",
    "* If the p value is smaller that 0.05 we have a statistically significant difference."
   ]
  },
  {
   "cell_type": "code",
   "execution_count": 71,
   "metadata": {},
   "outputs": [
    {
     "name": "stdout",
     "output_type": "stream",
     "text": [
      "Ttest_relResult(statistic=-4.183300132670378, pvalue=0.0009199418386094342)\n",
      "Ttest_relResult(statistic=-3.85080710569087, pvalue=0.001764736630112059)\n",
      "Ttest_relResult(statistic=-4.23006987226693, pvalue=0.0008400096384220711)\n",
      "Ttest_relResult(statistic=0.5867386940384689, pvalue=0.5667208473801307)\n",
      "Ttest_relResult(statistic=-4.545618836023279, pvalue=0.0004575073385351403)\n",
      "Ttest_relResult(statistic=-0.2111539420923671, pvalue=0.8358098661744504)\n"
     ]
    }
   ],
   "source": [
    "from scipy import stats\n",
    "\n",
    "print(stats.ttest_rel(cv_results_KNN, cv_results_NB))\n",
    "print(stats.ttest_rel(cv_results_KNN, cv_results_RF))\n",
    "print(stats.ttest_rel(cv_results_DT, cv_results_NB))\n",
    "print(stats.ttest_rel(cv_results_KNN, cv_results_DT))\n",
    "print(stats.ttest_rel(cv_results_DT, cv_results_RF))\n",
    "print(stats.ttest_rel(cv_results_RF, cv_results_NB))"
   ]
  },
  {
   "cell_type": "markdown",
   "metadata": {},
   "source": [
    "#### Conclusion:\n",
    "* The above results show that at a 95% significance level, Random Forest and Naive Bayes are statistically better models with a comparable performance in terms of Accuracy.\n",
    "* Also the difference of accuracy is not statistically significant for Decision Tree and KNN Models. \n"
   ]
  },
  {
   "cell_type": "markdown",
   "metadata": {},
   "source": [
    "## Scoring Metric Comparison"
   ]
  },
  {
   "cell_type": "markdown",
   "metadata": {},
   "source": [
    "* We have used Accuracy as the scoring metric and similarly, we can also consider other scoring method as well to evaluate the performance of the model. \n",
    "* The other different scoring metrics that can be used to compare performances are :\n",
    "    1. Precision\n",
    "    2. Recall\n",
    "    3. F1 Score\n",
    "    4. Confusion Matrix\n",
    "   \n",
    "* Below is the comparison of scoring metrics and their values.\n",
    "* We have used Classification_report to compute all these metrics.\n"
   ]
  },
  {
   "cell_type": "code",
   "execution_count": 72,
   "metadata": {},
   "outputs": [],
   "source": [
    "#KNN\n",
    "pred_KNN = gs_pipe_KNN.predict(D_test)\n",
    "#Naive Bayes\n",
    "Data_test_transformed = PowerTransformer().fit_transform(D_test)\n",
    "pred_NB = gs_pipe_NB.predict(Data_test_transformed)\n",
    "#Decision Tree\n",
    "pred_DT = gs_pipe_DT.predict(D_test)\n",
    "# Random Forest\n",
    "pred_RF = gs_pipe_RF.predict(D_test)\n"
   ]
  },
  {
   "cell_type": "code",
   "execution_count": 73,
   "metadata": {},
   "outputs": [
    {
     "name": "stdout",
     "output_type": "stream",
     "text": [
      "\n",
      "Classification report for K-Nearest Neighbor\n",
      "              precision    recall  f1-score   support\n",
      "\n",
      "           0       0.81      0.81      0.81        48\n",
      "           1       0.79      0.79      0.79        42\n",
      "\n",
      "    accuracy                           0.80        90\n",
      "   macro avg       0.80      0.80      0.80        90\n",
      "weighted avg       0.80      0.80      0.80        90\n",
      "\n",
      "\n",
      "Classification report for Naive Bayes\n",
      "              precision    recall  f1-score   support\n",
      "\n",
      "           0       0.82      0.85      0.84        48\n",
      "           1       0.82      0.79      0.80        42\n",
      "\n",
      "    accuracy                           0.82        90\n",
      "   macro avg       0.82      0.82      0.82        90\n",
      "weighted avg       0.82      0.82      0.82        90\n",
      "\n",
      "\n",
      "Classification report for Decision Tree\n",
      "              precision    recall  f1-score   support\n",
      "\n",
      "           0       0.75      0.83      0.79        48\n",
      "           1       0.78      0.69      0.73        42\n",
      "\n",
      "    accuracy                           0.77        90\n",
      "   macro avg       0.77      0.76      0.76        90\n",
      "weighted avg       0.77      0.77      0.77        90\n",
      "\n",
      "\n",
      "Classification report for Random Forest\n",
      "              precision    recall  f1-score   support\n",
      "\n",
      "           0       0.81      0.88      0.84        48\n",
      "           1       0.84      0.76      0.80        42\n",
      "\n",
      "    accuracy                           0.82        90\n",
      "   macro avg       0.82      0.82      0.82        90\n",
      "weighted avg       0.82      0.82      0.82        90\n",
      "\n"
     ]
    }
   ],
   "source": [
    "from sklearn import metrics\n",
    "print(\"\\nClassification report for K-Nearest Neighbor\") \n",
    "print(metrics.classification_report(t_test, pred_KNN))\n",
    "print(\"\\nClassification report for Naive Bayes\") \n",
    "print(metrics.classification_report(t_test, pred_NB))\n",
    "print(\"\\nClassification report for Decision Tree\") \n",
    "print(metrics.classification_report(t_test, pred_DT))\n",
    "print(\"\\nClassification report for Random Forest\") \n",
    "print(metrics.classification_report(t_test, pred_RF))"
   ]
  },
  {
   "cell_type": "markdown",
   "metadata": {},
   "source": [
    "### Confusion Matrix"
   ]
  },
  {
   "cell_type": "code",
   "execution_count": 74,
   "metadata": {},
   "outputs": [
    {
     "name": "stdout",
     "output_type": "stream",
     "text": [
      "\n",
      "Confusion matrix for K-Nearest Neighbor\n",
      "[[39  9]\n",
      " [ 9 33]]\n",
      "\n",
      "Confusion matrix for Naive Bayes\n",
      "[[41  7]\n",
      " [ 9 33]]\n",
      "\n",
      "Confusion matrix for Decision Tree\n",
      "[[40  8]\n",
      " [13 29]]\n",
      "\n",
      "Confusion matrix for Random Forest\n",
      "[[42  6]\n",
      " [10 32]]\n"
     ]
    }
   ],
   "source": [
    "from sklearn import metrics\n",
    "print(\"\\nConfusion matrix for K-Nearest Neighbor\") \n",
    "print(metrics.confusion_matrix(t_test, pred_KNN))\n",
    "print(\"\\nConfusion matrix for Naive Bayes\") \n",
    "print(metrics.confusion_matrix(t_test, pred_NB))\n",
    "print(\"\\nConfusion matrix for Decision Tree\") \n",
    "print(metrics.confusion_matrix(t_test, pred_DT))\n",
    "print(\"\\nConfusion matrix for Random Forest\") \n",
    "print(metrics.confusion_matrix(t_test, pred_RF))"
   ]
  },
  {
   "cell_type": "markdown",
   "metadata": {},
   "source": [
    "After Observing all the values and Producing Confusion Metrics we again come to the same conclusion that Random Forest and Naive Bayes have the most Accurate Predictions."
   ]
  },
  {
   "cell_type": "markdown",
   "metadata": {},
   "source": [
    "# Limitations <a class=\"anchor\" id=\"7\"></a>  "
   ]
  },
  {
   "cell_type": "markdown",
   "metadata": {},
   "source": [
    "* Limitations of the dataset and Data modelling.\n",
    "\n",
    "    1. First thing to note is that the dataset is relatively small having only 297 rows. \n",
    "    2. We have used 5-fold cross validation to save computational time but we could also have used 10 fold cross validation for better results.\n",
    "    3. After dividing the dataset in the ratio 70:30 for train and test respectively , the number of rows in test data remain only 89.\n",
    "    4. Even though the KNN model and Decision Tree models performed better on the training data, the performance was relatively lower on the test data. \n",
    "    5. We have also used a few cases for feature selection and parameter tuning we have done it to reduce computational time, but in order to have better results we could have tried more combinations for the same.\n",
    "    6. We can also see that in some models selecting 20 or 25 features gives an approximately similar result and therefore we could have used less features in some places in order to reduce computational time and power.\n",
    "   "
   ]
  },
  {
   "cell_type": "markdown",
   "metadata": {},
   "source": [
    "# Summary <a class=\"anchor\" id=\"8\"></a> "
   ]
  },
  {
   "cell_type": "markdown",
   "metadata": {},
   "source": [
    "The project is about Predicting the Heart Diseases of People. In our model Accuracy is considered as a important Criterion this is because we don’t want to miss on a patient who is having a heart disease but goes undetected (false negative) or if a person not having heart disease is detected as having one. \n",
    "Both are important because wrong predictions in this case can cause adverse affects on a persons life. \n",
    "Therefore, we build 4 different Classification models- KNN, Naive Bayes, Decision Tree and Random Forests. After building the models we compare the models in order to find out the optimal model.\n",
    "From Comparing the models we conclude that Random Forests and Naive Bayes models are the best Performance indicators for the above given dataset. \n",
    "    1. Random Forest Model with criterion using Information Gain with the max depth of 2, minimum sample split of 8 and along with 20 fetures is the model with an accuracy of 82% and has acomparably high accuracy compared to all the other models. \n",
    "    2. Also, Naive Bayes Model is also high in accuracy and has an advantage of taking less time and power computationally as compared to Random Forests. Also it gives a comparable accuracy using 15 features. It shows the accuracy of 81% but as we performed paired ttests we can say that the difference is minute and statistically in significant. \n",
    "\n",
    "\n"
   ]
  },
  {
   "cell_type": "markdown",
   "metadata": {},
   "source": [
    "# References <a class=\"anchor\" id=\"9\"></a> "
   ]
  },
  {
   "cell_type": "markdown",
   "metadata": {},
   "source": [
    "* Janosi, A., Steinbrunn, W., Pfisterer, M. and Detrano, R. (2019). UCI Machine Learning Repository: Heart Disease Data Set. [online] Archive.ics.uci.edu. Available at: https://archive.ics.uci.edu/ml/datasets/Heart+Disease [Accessed 24 Jun. 2020].    \n",
    "\n",
    "* Pedregosa et al. (2011). Scikit-learn: Machine Learning in Python, Pedregosa et al., JMLR 12,pp. 2825-2830.\n",
    "    \n",
    "* Dr Vural Aksakalli, Zeren Yenice, Yong Kai Wong, Imran Ture, Milad Malekipirbazari. featureranking.com. https://www.featureranking.com/tutorials/machine-learning-tutorials/case-study-predicting-income-status/\n",
    "        \n",
    "        "
   ]
  }
 ],
 "metadata": {
  "kernelspec": {
   "display_name": "Python 3",
   "language": "python",
   "name": "python3"
  },
  "language_info": {
   "codemirror_mode": {
    "name": "ipython",
    "version": 3
   },
   "file_extension": ".py",
   "mimetype": "text/x-python",
   "name": "python",
   "nbconvert_exporter": "python",
   "pygments_lexer": "ipython3",
   "version": "3.7.3"
  }
 },
 "nbformat": 4,
 "nbformat_minor": 2
}
